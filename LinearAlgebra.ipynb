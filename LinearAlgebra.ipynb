{
  "nbformat": 4,
  "nbformat_minor": 0,
  "metadata": {
    "kernelspec": {
      "display_name": "Python 3",
      "language": "python",
      "name": "python3"
    },
    "language_info": {
      "codemirror_mode": {
        "name": "ipython",
        "version": 3
      },
      "file_extension": ".py",
      "mimetype": "text/x-python",
      "name": "python",
      "nbconvert_exporter": "python",
      "pygments_lexer": "ipython3",
      "version": "3.7.6"
    },
    "colab": {
      "name": "1940211_LinearAlgebraPython.ipynb",
      "provenance": [],
      "collapsed_sections": [
        "9LGOWxLckMLN"
      ]
    }
  },
  "cells": [
    {
      "cell_type": "code",
      "metadata": {
        "id": "xCXwvbMjkMKn",
        "outputId": "6057f5c8-eb55-4b21-86d4-060afc79cf20"
      },
      "source": [
        "from datetime import date\n",
        "current_date=date.today()\n",
        "print(\"Today's date:\",current_date)ussfrom datetime import date\n",
        "current_date=date.today()\n",
        "print(\"Today's date:\",current_date)"
      ],
      "execution_count": null,
      "outputs": [
        {
          "name": "stdout",
          "output_type": "stream",
          "text": [
            "Today's date: 2021-08-07\n"
          ]
        }
      ]
    },
    {
      "cell_type": "code",
      "metadata": {
        "id": "qkNggacqkMKy",
        "outputId": "d22b5d71-104b-4ced-f59d-70bf587a6f30"
      },
      "source": [
        "fname=input(\"Enter first name:\")\n",
        "lname=input(\"Enter last name:\")\n",
        "print(\"Name:\",fname,lname)"
      ],
      "execution_count": null,
      "outputs": [
        {
          "name": "stdout",
          "output_type": "stream",
          "text": [
            "Enter first name:Alpha\n",
            "Enter last name:Beta\n",
            "Name: Alpha Beta\n"
          ]
        }
      ]
    },
    {
      "cell_type": "code",
      "metadata": {
        "id": "rLRe0h9skMK1",
        "outputId": "5a9f51f9-2b46-4d79-a995-0eab9682753c"
      },
      "source": [
        "while True:\n",
        "    temp=input(\"Enter array values separated by ',':\")\n",
        "    arr=temp.split(\",\")\n",
        "    for i in range(len(arr)):\n",
        "        arr[i]=int(arr[i])\n",
        "    while True:\n",
        "        print(\"The array:\",arr)\n",
        "        print(\"1. Add another element.\\n2. Remove an element.\\n3. Exit.\\nEnter your choice:\")\n",
        "        choice=int(input(\"->\"))\n",
        "        if(choice==1):\n",
        "            new=int(input(\"Enter new element:\"))\n",
        "            pos=int(input(\"Enter the position you want to insert this element into:\"))\n",
        "            pos=pos-1\n",
        "            arr.insert(pos,new)\n",
        "            next\n",
        "        elif(choice==2):\n",
        "            pos=int(input(\"Enter the position of the element to be removed:\"))\n",
        "            pos=pos-1\n",
        "            del arr[pos]\n",
        "            next\n",
        "        elif(choice==3):\n",
        "            print(\"Thank you!\")\n",
        "            break\n",
        "        else:\n",
        "            print(\"Invalid input!\")\n",
        "            next\n",
        "    choice=input(\"Do you want to try again?(Y/N)\")\n",
        "    if(choice=='N' or choice=='n'):\n",
        "        print(\"Thank you!\")\n",
        "        break\n",
        "    elif(choice==\"Y\" or choice=='y'):\n",
        "        next\n",
        "    else:\n",
        "        print(\"Invalid input!\\nPlease try again!\")\n",
        "        break"
      ],
      "execution_count": null,
      "outputs": [
        {
          "name": "stdout",
          "output_type": "stream",
          "text": [
            "Enter array values separated by ',':1,2,3\n",
            "The array: [1, 2, 3]\n",
            "1. Add another element.\n",
            "2. Remove an element.\n",
            "3. Exit.\n",
            "Enter your choice:\n",
            "->1\n",
            "Enter new element:4\n",
            "Enter the position you want to insert this element into:4\n",
            "The array: [1, 2, 3, 4]\n",
            "1. Add another element.\n",
            "2. Remove an element.\n",
            "3. Exit.\n",
            "Enter your choice:\n",
            "->2\n",
            "Enter the position of the element to be removed:2\n",
            "The array: [1, 3, 4]\n",
            "1. Add another element.\n",
            "2. Remove an element.\n",
            "3. Exit.\n",
            "Enter your choice:\n",
            "->3\n",
            "Thank you!\n",
            "Do you want to try again?(Y/N)N\n",
            "Thank you!\n"
          ]
        }
      ]
    },
    {
      "cell_type": "code",
      "metadata": {
        "id": "jpgRuLNEkMK4",
        "outputId": "22e64522-772f-4bec-8e6a-fbd95bab51fd"
      },
      "source": [
        "num=int(input(\"Enter the number:\"))\n",
        "cop=num\n",
        "rev=0\n",
        "while cop>0:\n",
        "    las=cop%10\n",
        "    rev=rev*10+las\n",
        "    cop=int(cop/10)\n",
        "print(\"Inverse of\",num,\"is\",rev)\n",
        "if(rev==num):\n",
        "    print(num,\"is a palindrome!\")\n",
        "else:\n",
        "    print(num,\"is not a palindrome.\")"
      ],
      "execution_count": null,
      "outputs": [
        {
          "name": "stdout",
          "output_type": "stream",
          "text": [
            "Enter the number:5\n",
            "Inverse of 5 is 5\n",
            "5 is a palindrome!\n"
          ]
        }
      ]
    },
    {
      "cell_type": "code",
      "metadata": {
        "id": "TTKhN0WqkMK6",
        "outputId": "6ddeea1b-24d9-469b-dcdd-86526e728d8e"
      },
      "source": [
        "str=input(\"Enter the string:\")\n",
        "if(str.islower()==True):\n",
        "    print(\"The string is in lower case.\")\n",
        "elif(str.isupper()==True):\n",
        "    print(\"The string is in upper case.\")\n",
        "else:\n",
        "    print(\"The string is in mixed case.\")"
      ],
      "execution_count": null,
      "outputs": [
        {
          "name": "stdout",
          "output_type": "stream",
          "text": [
            "Enter the string:Charlie Delta Eta\n",
            "The string is in mixed case.\n"
          ]
        }
      ]
    },
    {
      "cell_type": "code",
      "metadata": {
        "id": "PueOkCLdkMK8",
        "outputId": "454116e2-abe4-43a8-cecb-30446dfd222e"
      },
      "source": [
        "str=input(\"Enter a string:\")\n",
        "nou=0\n",
        "nol=0\n",
        "for i in str:\n",
        "    if i.islower()==True:\n",
        "        nol=nol+1\n",
        "    if i.isupper()==True:\n",
        "        nou=nou+1\n",
        "print(\"The number of upper case characters are:\",nou)\n",
        "print(\"The number of lower case characters are:\",nol)"
      ],
      "execution_count": null,
      "outputs": [
        {
          "name": "stdout",
          "output_type": "stream",
          "text": [
            "Enter a string:Fi Giga Hector\n",
            "The number of upper case characters are: 3\n",
            "The number of lower case characters are: 9\n"
          ]
        }
      ]
    },
    {
      "cell_type": "code",
      "metadata": {
        "id": "jwN_5GWYkMK-",
        "outputId": "692e0aa7-ffb3-4326-a6c5-ab99950e70c2"
      },
      "source": [
        "per=int(input(\"Enter your percentage obtained:\"))\n",
        "if per >= 90:\n",
        "    print(\"A\")\n",
        "elif per>=80:\n",
        "    print(\"B\")\n",
        "elif per>=70:\n",
        "    print(\"C\")\n",
        "elif per>=60:\n",
        "    print(\"D\")\n",
        "elif per>=50:\n",
        "    print(\"E\")\n",
        "elif per>=40:\n",
        "    print(\"F\")\n",
        "else:\n",
        "    print(\"G\")"
      ],
      "execution_count": null,
      "outputs": [
        {
          "name": "stdout",
          "output_type": "stream",
          "text": [
            "Enter your percentage obtained:85\n",
            "B\n"
          ]
        }
      ]
    },
    {
      "cell_type": "code",
      "metadata": {
        "id": "GO5jiL_ekMK_",
        "outputId": "dad10f32-9d6a-4029-af8e-a0912d39e75c"
      },
      "source": [
        "n=int(input(\"Enter a number:\"))\n",
        "a=0\n",
        "for i in range(2,n-1):\n",
        "    if n % i == 0:\n",
        "        a=1\n",
        "        break\n",
        "if a==1:\n",
        "    print(n,\" is not prime.\\nThe factors are:\")\n",
        "    for i in range(1,n-1):\n",
        "        if n % i == 0:\n",
        "            print(i)\n",
        "else:\n",
        "    print(n,\" is a prime.\")"
      ],
      "execution_count": null,
      "outputs": [
        {
          "name": "stdout",
          "output_type": "stream",
          "text": [
            "Enter a number:6\n",
            "6  is not prime.\n",
            "The factors are:\n",
            "1\n",
            "2\n",
            "3\n"
          ]
        }
      ]
    },
    {
      "cell_type": "code",
      "metadata": {
        "id": "6E9SUXCykMLB",
        "outputId": "37ce34b7-ab5f-4b0c-e3a3-ecf8848071d4"
      },
      "source": [
        "A=int(input(\"Enter the first side:\"))\n",
        "B=int(input(\"Enter the second side:\"))\n",
        "C=int(input(\"Enter the third side:\"))\n",
        "if A == B and B == C:\n",
        "    print(\"The triangle is equilateral.\")\n",
        "elif A == B or A == C or B == C:\n",
        "    print(\"The triangle is isosceles.\")\n",
        "else:\n",
        "    print(\"The triangle is scalene.\")"
      ],
      "execution_count": null,
      "outputs": [
        {
          "name": "stdout",
          "output_type": "stream",
          "text": [
            "Enter the first side:7\n",
            "Enter the second side:9\n",
            "Enter the third side:1\n",
            "The triangle is scalene.\n"
          ]
        }
      ]
    },
    {
      "cell_type": "code",
      "metadata": {
        "id": "sRXn7AoUkMLD",
        "outputId": "c4333b1c-1f78-4f15-d151-04c78a3f6e40"
      },
      "source": [
        "n=int(input(\"Enter n:\"))\n",
        "sq=0\n",
        "for i in range(1,n+1):\n",
        "    sq=sq+i**2\n",
        "print (sq)"
      ],
      "execution_count": null,
      "outputs": [
        {
          "name": "stdout",
          "output_type": "stream",
          "text": [
            "Enter n:2\n",
            "5\n"
          ]
        }
      ]
    },
    {
      "cell_type": "code",
      "metadata": {
        "id": "pPT8WH-pkMLE",
        "outputId": "dfae4171-4803-4a35-8939-c69f14fbf4cc"
      },
      "source": [
        "num=int(input(\"Enter the number:\"))\n",
        "fac=1\n",
        "if num==0:\n",
        "    print(\"Factorial= 1\")\n",
        "else:\n",
        "    for i in range(1,num+1):\n",
        "        fac=fac*i\n",
        "    print(\"Factorial=\",fac)"
      ],
      "execution_count": null,
      "outputs": [
        {
          "name": "stdout",
          "output_type": "stream",
          "text": [
            "Enter the number:3\n",
            "Factorial= 6\n"
          ]
        }
      ]
    },
    {
      "cell_type": "code",
      "metadata": {
        "id": "smFzkyKskMLF",
        "outputId": "eba4d924-47a5-4ebe-fcfa-af3e283d9f80"
      },
      "source": [
        "a=int(input(\"Enter the first number:\"))\n",
        "b=int(input(\"Enter the second number:\"))\n",
        "c=int(input(\"Enter the third number:\"))\n",
        "if a>b and a>c:\n",
        "    print(a,\"is the greatest number.\")\n",
        "elif b>c and b>a:\n",
        "    print(b,\"is the greatest number.\")\n",
        "elif c>a and c>b:\n",
        "    print(c,\"is the greatest number.\")\n",
        "elif a>b and a==c:\n",
        "    print(a,\"and\",c,\"are the largest.\")\n",
        "elif a>c and a==b:\n",
        "    print(a,\"and\",b,\"are the largest.\")"
      ],
      "execution_count": null,
      "outputs": [
        {
          "name": "stdout",
          "output_type": "stream",
          "text": [
            "Enter the first number:4\n",
            "Enter the second number:6\n",
            "Enter the third number:7\n",
            "7 is the greatest number.\n"
          ]
        }
      ]
    },
    {
      "cell_type": "code",
      "metadata": {
        "id": "Zk9pmjnAkMLG",
        "outputId": "a313d1eb-b1e1-4ed1-e0ac-517d3d7fc06d"
      },
      "source": [
        "import numpy as np\n",
        "import matplotlib.pyplot as py\n",
        "X=np.linspace(-np.pi,np.pi)\n",
        "Y1=np.sin(X)\n",
        "Y2=np.cos(X)\n",
        "py.plot(X,Y1,color='orange',label='sin(x)')\n",
        "py.plot(X,Y2,color='black',label='cos(x)')\n",
        "py.title('Trigonometric Functions')\n",
        "py.xlabel('X')\n",
        "py.ylabel('sin(x) and cos(x)')\n",
        "py.axhline(0,color='violet')\n",
        "py.axvline(0,color='violet')\n",
        "py.legend()"
      ],
      "execution_count": null,
      "outputs": [
        {
          "data": {
            "text/plain": [
              "<matplotlib.legend.Legend at 0x158d5cda188>"
            ]
          },
          "execution_count": 20,
          "metadata": {},
          "output_type": "execute_result"
        },
        {
          "data": {
            "image/png": "[encoded data removed]",
            "text/plain": [
              "<Figure size 432x288 with 1 Axes>"
            ]
          },
          "metadata": {
            "needs_background": "light"
          },
          "output_type": "display_data"
        }
      ]
    },
    {
      "cell_type": "code",
      "metadata": {
        "id": "1q1yHiBAkMLG",
        "outputId": "37fddb93-3925-4d0a-ada5-f15f6a244a06"
      },
      "source": [
        "import numpy as np\n",
        "import matplotlib.pyplot as py\n",
        "X=np.linspace(-5,5)\n",
        "Y1=X\n",
        "Y2=X*X\n",
        "Y3=X*X*X\n",
        "Y4=X*X*X*X\n",
        "py.plot(X,Y1,color='red',label='X')\n",
        "py.plot(X,Y2,color='black',label='X^2')\n",
        "py.plot(X,Y3,color='violet',label='X^3')\n",
        "py.plot(X,Y4,color='indigo',label='X^4')\n",
        "figure,axes=py.subplots(nrows=2,ncols=2)\n",
        "figure.tight_layout()\n",
        "py.title('Plots')\n",
        "py.xlabel('X')\n",
        "py.ylabel('X, X^2, X^3, X^4')\n",
        "py.axhline(0,color='blue')\n",
        "py.axvline(0,color='green')\n",
        "py.legend()\n",
        "None"
      ],
      "execution_count": null,
      "outputs": [
        {
          "name": "stderr",
          "output_type": "stream",
          "text": [
            "No handles with labels found to put in legend.\n"
          ]
        },
        {
          "data": {
            "image/png": "[encoded data removed]",
            "text/plain": [
              "<Figure size 432x288 with 1 Axes>"
            ]
          },
          "metadata": {
            "needs_background": "light"
          },
          "output_type": "display_data"
        },
        {
          "data": {
            "image/png": "[encoded data removed]",
            "text/plain": [
              "<Figure size 432x288 with 4 Axes>"
            ]
          },
          "metadata": {
            "needs_background": "light"
          },
          "output_type": "display_data"
        }
      ]
    },
    {
      "cell_type": "code",
      "metadata": {
        "id": "462NWcezkMLH",
        "outputId": "28cdeb60-7acc-4485-fc79-eb39856bcae3"
      },
      "source": [
        "A=[[1,2,3],[1,3,4],[1,5,7]]\n",
        "B=[[1,2,3],[1,3,4],[1,5,7]]\n",
        "print(\"Sum:\\n\",np.add(A,B))\n",
        "print(\"Product:\\n\",np.dot(A,B))\n",
        "print(\"Transpose:\\n\",np.transpose(A))\n",
        "print(\"Square root of each element:\\n\",np.sqrt(B))"
      ],
      "execution_count": null,
      "outputs": [
        {
          "name": "stdout",
          "output_type": "stream",
          "text": [
            "Sum:\n",
            " [[ 2  4  6]\n",
            " [ 2  6  8]\n",
            " [ 2 10 14]]\n",
            "Product:\n",
            " [[ 6 23 32]\n",
            " [ 8 31 43]\n",
            " [13 52 72]]\n",
            "Transpose:\n",
            " [[1 1 1]\n",
            " [2 3 5]\n",
            " [3 4 7]]\n",
            "Square root of each element:\n",
            " [[1.         1.41421356 1.73205081]\n",
            " [1.         1.73205081 2.        ]\n",
            " [1.         2.23606798 2.64575131]]\n"
          ]
        }
      ]
    },
    {
      "cell_type": "code",
      "metadata": {
        "id": "RK9DLO_dkMLI",
        "outputId": "efff2979-1706-40d4-c796-1e8e5d9ba852"
      },
      "source": [
        "#Program to check a matrix for Symmetric or Skew-symmetric\n",
        "import matplotlib.pyplot as mp\n",
        "import numpy as np\n",
        "A=np.matrix([[1,2,3],[2,5,6],[3,6,9]])\n",
        "if(np.array_equal(A,A.T)):\n",
        "    print(\"The matrix is symmetric!\")\n",
        "elif(np.array_equal(A,-A.T)):\n",
        "    print(\"The matrix is skew-symmetric!\")\n",
        "else:\n",
        "    print(\"The matrix is neither symmetric nor skew-symmetric!\")"
      ],
      "execution_count": null,
      "outputs": [
        {
          "name": "stdout",
          "output_type": "stream",
          "text": [
            "The matrix is symmetric!\n"
          ]
        }
      ]
    },
    {
      "cell_type": "code",
      "metadata": {
        "id": "xMY9J88_kMLJ",
        "outputId": "3b314fd6-66a2-4155-d57c-c650f84a863c"
      },
      "source": [
        "#Program to express a the given matrix as a sum of a symmetric and a skew-symmetric matrix\n",
        "A=np.matrix([[1,2,3],[2,3,2],[3,6,9]])\n",
        "At=A.T\n",
        "sym=np.add(A,At)/2\n",
        "ske=(A-At)/2\n",
        "B=np.matrix(sym+ske)\n",
        "print(\"Given matrix:\\n\",A)\n",
        "print(\"Symmetric matrix:\\n\",sym)\n",
        "print(\"Skew-symmetric matrix:\\n\",ske)\n",
        "print(\"Sum of the symmetric matrix and skew-symmetric matrix:\\n\",B)\n",
        "print(\"Is the given matrix equal to the sum of the symmetric matrix and the skew-symmetric matrix?\",np.array_equal(A,B))"
      ],
      "execution_count": null,
      "outputs": [
        {
          "name": "stdout",
          "output_type": "stream",
          "text": [
            "Given matrix:\n",
            " [[1 2 3]\n",
            " [2 3 2]\n",
            " [3 6 9]]\n",
            "Symmetric matrix:\n",
            " [[1. 2. 3.]\n",
            " [2. 3. 4.]\n",
            " [3. 4. 9.]]\n",
            "Skew-symmetric matrix:\n",
            " [[ 0.  0.  0.]\n",
            " [ 0.  0. -2.]\n",
            " [ 0.  2.  0.]]\n",
            "Sum of the symmetric matrix and skew-symmetric matrix:\n",
            " [[1. 2. 3.]\n",
            " [2. 3. 2.]\n",
            " [3. 6. 9.]]\n",
            "Is the given matrix equal to the sum of the symmetric matrix and the skew-symmetric matrix? True\n"
          ]
        }
      ]
    },
    {
      "cell_type": "code",
      "metadata": {
        "id": "Qefo4Yf6kMLL",
        "outputId": "7a0ed084-db30-411b-a791-258119fb2538"
      },
      "source": [
        "#Program to define a 4X4 matrix and to perform the following:-\n",
        "#(i) Find the square root of each element in the 3rd row\n",
        "#(ii) Add the corresponding elements of the 1st and 2nd columns\n",
        "#(iii) Extract the first column of the matrix and reshape it into a 2X2 matrix\n",
        "A=np.matrix([[1,3,5,7],[7,3,4,1],[1,4,9,4],[7,5,2,0]])\n",
        "print(\"The test matrix is:\\n\",A)\n",
        "print(\"The square root of each element of the 3rd  row:\\n\",np.sqrt(A[2]))\n",
        "print(\"The sum of the first and second columns:\\n\",np.add(A[:,0],A[:,1]))\n",
        "print(\"Reshaphing the first column into a 2X2 matrix:\\n\",A[:,0].reshape(2,2))"
      ],
      "execution_count": null,
      "outputs": [
        {
          "name": "stdout",
          "output_type": "stream",
          "text": [
            "The test matrix is:\n",
            " [[1 3 5 7]\n",
            " [7 3 4 1]\n",
            " [1 4 9 4]\n",
            " [7 5 2 0]]\n",
            "The square root of each element of the 3rd  row:\n",
            " [[1. 2. 3. 2.]]\n",
            "The sum of the first and second columns:\n",
            " [[ 4]\n",
            " [10]\n",
            " [ 5]\n",
            " [12]]\n",
            "Reshaphing the first column into a 2X2 matrix:\n",
            " [[1 7]\n",
            " [1 7]]\n"
          ]
        }
      ]
    },
    {
      "cell_type": "code",
      "metadata": {
        "id": "B4MegAGxkMLL",
        "outputId": "51946310-6431-4fe6-e91f-96436e95a7d4"
      },
      "source": [
        "#Program to define a 5X5 matrix and perform the following:-\n",
        "#(i) Find the sum of all the elements in the matrix\n",
        "#(ii) Find the product of all the elements in the matrix\n",
        "#(iii) Find the minimum value in the mattrix\n",
        "#(iv) Find the maximum value in the matrix\n",
        "#(v) Sort the elements in each row of the matrix\n",
        "A=np.matrix([[1,2,3,4,5],[2,3,4,5,6],[3,4,5,6,7],[4,5,6,7,8],[5,6,7,8,9]])\n",
        "print(\"The test matrix is:\\n\",A)\n",
        "print(\"The sum of all the elements:\",np.sum(A))\n",
        "print(\"The product of all the elments:\",np.product(A))\n",
        "print(\"The minimum value in the matrix:\",np.min(A))\n",
        "print(\"The maximum value in the matrix:\",np.max(A))\n",
        "print(\"The matrix after sorting each row:\\n\",np.sort(A))"
      ],
      "execution_count": null,
      "outputs": [
        {
          "name": "stdout",
          "output_type": "stream",
          "text": [
            "The test matrix is:\n",
            " [[1 2 3 4 5]\n",
            " [2 3 4 5 6]\n",
            " [3 4 5 6 7]\n",
            " [4 5 6 7 8]\n",
            " [5 6 7 8 9]]\n",
            "The sum of all the elements: 125\n",
            "The product of all the elments: 2056257536\n",
            "The minimum value in the matrix: 1\n",
            "The maximum value in the matrix: 9\n",
            "The matrix after sorting each row:\n",
            " [[1 2 3 4 5]\n",
            " [2 3 4 5 6]\n",
            " [3 4 5 6 7]\n",
            " [4 5 6 7 8]\n",
            " [5 6 7 8 9]]\n"
          ]
        }
      ]
    },
    {
      "cell_type": "code",
      "metadata": {
        "id": "hzBnq_NxkMLM",
        "outputId": "d8ccb510-0bcc-434a-c1a1-b24c0b801785"
      },
      "source": [
        "#Program to input a matrix from the user\n",
        "row=int(input(\"Enter the number of rows:\"))\n",
        "col=int(input(\"Enter the number of columns:\"))\n",
        "A=np.zeros((row,col))\n",
        "for i in range(row):\n",
        "    print(\"Row\",i+1,\":\")\n",
        "    for j in range(col):\n",
        "        A[i][j]=int(input(\"Enter the elements:\"))\n",
        "print(\"The obtained matrix:\\n\",A)"
      ],
      "execution_count": null,
      "outputs": [
        {
          "name": "stdout",
          "output_type": "stream",
          "text": [
            "Enter the number of rows:2\n",
            "Enter the number of columns:3\n",
            "Row 1 :\n",
            "Enter the elements:1\n",
            "Enter the elements:2\n",
            "Enter the elements:3\n",
            "Row 2 :\n",
            "Enter the elements:4\n",
            "Enter the elements:5\n",
            "Enter the elements:6\n",
            "The obtained matrix:\n",
            " [[1. 2. 3.]\n",
            " [4. 5. 6.]]\n"
          ]
        }
      ]
    },
    {
      "cell_type": "markdown",
      "metadata": {
        "id": "9LGOWxLckMLN"
      },
      "source": [
        "### Row Reduced Echelon Form"
      ]
    },
    {
      "cell_type": "markdown",
      "metadata": {
        "id": "r1H35YzWkMLP"
      },
      "source": [
        "A matrix is in Reduced Row Echelon form, if it satisfies the following:-\n",
        "1. In each row, the left most non-0 entry is 1 and the column that contains this 1 has all other entries equal to 0. This  is called a leading 1.\n",
        "2. The leading 1 in the second row or beyond is to the right of the leading 1 in the row just above.\n",
        "3. Any row containing only 0s is at the bottom. Each of the matrices shown below are examples of matrices in row echelon form.\n",
        "\n",
        "Python provides the function sympy.Matrix().rref() to convert matrix into row reduced echelon form.\n",
        "\n",
        "Syntax: sympy.Matrix(A).rref()\n",
        "\n",
        "Returns: A tuple of which first element is the reduced matrix and the second one if of type tuple which gives position of the pivot column."
      ]
    },
    {
      "cell_type": "code",
      "metadata": {
        "id": "og4jHx2HkMLR",
        "outputId": "05b327b8-a89e-4f69-de0a-3659962fa003"
      },
      "source": [
        "#Program to reduce the matrix [1,0,1,3;2,3,4,7;-1,-3,-3,-4] to row reduced echelon form\n",
        "import sympy as sp\n",
        "A=np.mat(input(\"Enter a square matrix:\"))\n",
        "print(\"The test matrix:\\n\",A)\n",
        "R=sp.Matrix(A).rref()\n",
        "print(\"The reduced row echelon form and the pivot:\\n\",R)"
      ],
      "execution_count": null,
      "outputs": [
        {
          "name": "stdout",
          "output_type": "stream",
          "text": [
            "Enter a square matrix:1,0,1,3;2,3,4,7;-1,-3,-3,-4\n",
            "The test matrix:\n",
            " [[ 1  0  1  3]\n",
            " [ 2  3  4  7]\n",
            " [-1 -3 -3 -4]]\n",
            "The reduced row echelon form and the pivot:\n",
            " (Matrix([\n",
            "[1, 0,   1,   3],\n",
            "[0, 1, 2/3, 1/3],\n",
            "[0, 0,   0,   0]]), (0, 1))\n"
          ]
        }
      ]
    },
    {
      "cell_type": "code",
      "metadata": {
        "scrolled": true,
        "id": "tX9WejmIkMLS",
        "outputId": "bcacdfb0-9c8d-428c-d8e1-b8eda31fdf8d"
      },
      "source": [
        "#Program to reduce the matrix [1,1,1;3,1,-2;2,4,7] to row reduced echelon form\n",
        "A=np.mat(input(\"Enter a square matrix:\"))\n",
        "print(\"The test matrix:\\n\",A)\n",
        "print(\"The reduced row echelon form and the pivot:\\n\",sp.Matrix(A).rref())"
      ],
      "execution_count": null,
      "outputs": [
        {
          "name": "stdout",
          "output_type": "stream",
          "text": [
            "Enter a square matrix:1,1,1;3,1,-2;2,4,7\n",
            "The test matrix:\n",
            " [[ 1  1  1]\n",
            " [ 3  1 -2]\n",
            " [ 2  4  7]]\n",
            "The reduced row echelon form and the pivot:\n",
            " (Matrix([\n",
            "[1, 0, -3/2],\n",
            "[0, 1,  5/2],\n",
            "[0, 0,    0]]), (0, 1))\n"
          ]
        }
      ]
    },
    {
      "cell_type": "code",
      "metadata": {
        "id": "6H8DIHPDkMLT",
        "outputId": "09b09fd5-468b-4b7c-caf7-dfa01f8cae98"
      },
      "source": [
        "#Program to reduce the matrix [1,2,3;45,56,9;2,9,0] to row reduced echelon form\n",
        "print(\"The reduced row echelon form and the pivot:\\n\",sp.Matrix(np.mat(input(\"Enter a square matrix:\"))).rref())"
      ],
      "execution_count": null,
      "outputs": [
        {
          "name": "stdout",
          "output_type": "stream",
          "text": [
            "Enter a square matrix:1,2,3;45,56,9;2,9,0\n",
            "The reduced row echelon form and the pivot:\n",
            " (Matrix([\n",
            "[1, 0, 0],\n",
            "[0, 1, 0],\n",
            "[0, 0, 1]]), (0, 1, 2))\n"
          ]
        }
      ]
    },
    {
      "cell_type": "code",
      "metadata": {
        "id": "zrZiSfV4kMLU",
        "outputId": "eac8bf14-8008-47c7-fd86-9d1945c25587"
      },
      "source": [
        "import numpy as np\n",
        "A=np.array([[2,3,2],[4,-5,5],[-3,7,-2]])\n",
        "B=np.array([[3],[7],[-2]])\n",
        "np.linalg.solve(A,B)"
      ],
      "execution_count": null,
      "outputs": [
        {
          "data": {
            "text/plain": [
              "array([[-0.33333333],\n",
              "       [ 0.06666667],\n",
              "       [ 1.73333333]])"
            ]
          },
          "execution_count": 2,
          "metadata": {},
          "output_type": "execute_result"
        }
      ]
    },
    {
      "cell_type": "markdown",
      "metadata": {
        "id": "D7eu0nfRkMLV"
      },
      "source": [
        "## Solving a System of Equations"
      ]
    },
    {
      "cell_type": "markdown",
      "metadata": {
        "id": "Uo1Xzp26kMLX"
      },
      "source": [
        "A linear equation in variable x1, x2, x3,..., xn is an equation of the form a1x1 + a2x2 + a3x3 +...+ anxn = b, where a1, a2,..., an and b are constants. The constant ai is called the coefficient of xi. "
      ]
    },
    {
      "cell_type": "markdown",
      "metadata": {
        "id": "fVCp-xq9kMLX"
      },
      "source": [
        "A system of linear equations is a finite collection of linear equations in same variables. The following is a system of m linear equations in n variables x1, x2,..., xn.\n",
        "a11x1 + a12x2 + a13x3 +...+ a1nxn = b1\n",
        "a21x2 + a22x2 + a23x2 +...+ a2n"
      ]
    },
    {
      "cell_type": "markdown",
      "metadata": {
        "id": "caaqYbGGkMLY"
      },
      "source": [
        "Solve: a-b+c-d=2; a-b+c+d=0; 4a-4b+4c=4; -2a+2b-2c+d=-3"
      ]
    },
    {
      "cell_type": "code",
      "metadata": {
        "scrolled": true,
        "id": "rBuzs-0KkMLY"
      },
      "source": [
        "#A=np.array([[1,-1,1,-1],[1,-1,1,1],[4,-4,4,0],[-2,2,-2,1]])\n",
        "#B=np.array([[2],[0],[4],[-3]])\n",
        "#np.linalg.solve(A,B)\n",
        "#SINGULAR MATRIX, HENCE, NO SOLUTION"
      ],
      "execution_count": null,
      "outputs": []
    },
    {
      "cell_type": "markdown",
      "metadata": {
        "id": "VWrbqzo2kMLZ"
      },
      "source": [
        "Solve 2a+3b+c = 0; a-b-2c = 0"
      ]
    },
    {
      "cell_type": "code",
      "metadata": {
        "id": "u39w30VekMLZ"
      },
      "source": [
        "#A=np.array([[2,3,1],[1,-1,-2]])\n",
        "#B=np.array([[0],[0]])\n",
        "#np.linalg.solve(A,B)\n",
        "#NOT SQUARE MATRIX, HENCE, NO SOLUTION"
      ],
      "execution_count": null,
      "outputs": []
    },
    {
      "cell_type": "markdown",
      "metadata": {
        "id": "VBLAh7ICkMLa"
      },
      "source": [
        "WAP to check any system of equations if the matrix is singular or not. If not, then solve the system of equations."
      ]
    },
    {
      "cell_type": "code",
      "metadata": {
        "id": "egn9Ql5mkMLa",
        "outputId": "3ef5e155-30eb-44c1-9df5-5e4d730a9174"
      },
      "source": [
        "A=np.matrix([[1,2,-1],[2,1,4],[3,3,4]])\n",
        "B=np.array([[1],[2],[1]])\n",
        "np.linalg.solve(A,B)"
      ],
      "execution_count": null,
      "outputs": [
        {
          "data": {
            "text/plain": [
              "array([[ 7.],\n",
              "       [-4.],\n",
              "       [-2.]])"
            ]
          },
          "execution_count": 3,
          "metadata": {},
          "output_type": "execute_result"
        }
      ]
    },
    {
      "cell_type": "markdown",
      "metadata": {
        "id": "gd2vsT3TkMLb"
      },
      "source": [
        "### System of Homogenous Linear Equations"
      ]
    },
    {
      "cell_type": "markdown",
      "metadata": {
        "id": "NT0bAkSTkMLb"
      },
      "source": [
        "The linear system of equations AX=0 is called a system of homogenous linear equations.\n",
        "\n",
        "The n-tuple (0,0,...,0) is the trivial solution of the matrix.\n",
        "\n",
        "The homogenous system of m equations AX=0 in n unknowns has a non-trivial solution if and only if the rank of the matrix p(A)=r<n, then the system possesses"
      ]
    },
    {
      "cell_type": "code",
      "metadata": {
        "colab": {
          "base_uri": "https://localhost:8080/"
        },
        "id": "EJXbJSQUkMLb",
        "outputId": "1c14aeec-8871-4164-fcd0-557f6a8612c8"
      },
      "source": [
        "import numpy as np\n",
        "A=np.matrix([[1,2,-1],[2,1,4],[3,3,4]])\n",
        "B=np.matrix([[0],[0],[0]])\n",
        "r=np.linalg.matrix_rank(A)\n",
        "n=A.shape[1] \n",
        "if (r==n):\n",
        "    print(\"System has trivial solution\")\n",
        "else:\n",
        "    print(\"System has\", n-r, \"non-trivial solution(s)\")"
      ],
      "execution_count": null,
      "outputs": [
        {
          "output_type": "stream",
          "name": "stdout",
          "text": [
            "System has trivial solution\n"
          ]
        }
      ]
    },
    {
      "cell_type": "markdown",
      "metadata": {
        "id": "VuJzFXGdkMLc"
      },
      "source": [
        "Q. Check whether the following system of homogenous linear equation has non-trivial solution. <br>\n",
        "$x_1 + 2x_2 -x_3 = 0$ <br>\n",
        "$2x_1 + x_2 + 4x_3 = 0$ <br>\n",
        "$x_1 - x_2 + 5x_3 = 0$"
      ]
    },
    {
      "cell_type": "code",
      "metadata": {
        "scrolled": true,
        "id": "kuymTHAgkMLc",
        "colab": {
          "base_uri": "https://localhost:8080/"
        },
        "outputId": "b78b23f3-353f-4dd3-8f99-067788aa265a"
      },
      "source": [
        "import numpy as np\n",
        "A=np.matrix([[1,2,-1],[2,1,4],[1,-1,5]])\n",
        "B=np.matrix([[0,0,0]])\n",
        "r=np.linalg.matrix_rank(A)\n",
        "n=A.shape[1]\n",
        "if(r==n):\n",
        "    print('The system has a trivial solution!')\n",
        "else:\n",
        "    print('The system has',n-r,'non-trivial solutons!')"
      ],
      "execution_count": null,
      "outputs": [
        {
          "output_type": "stream",
          "name": "stdout",
          "text": [
            "The system has 1 non-trivial solutons!\n"
          ]
        }
      ]
    },
    {
      "cell_type": "markdown",
      "metadata": {
        "id": "-1HcREj5kMLd"
      },
      "source": [
        "The linear system of equations of the form $AX=B$ is called system of non-homogenous linear equations if not all elements in $B$ are zeros. <br>\n",
        "The non homogeneous system of $m$ equations $AX=B$ in $n$ unknowns is consistent (has a solution) if and only if the $\\rho(A) = \\rho([A|B])$. <br>\n",
        "If $\\rho(A) = \\rho([A|B])$, and\n",
        "1. $\\rho(A) = n$, then system has unique solution\n",
        "2. $\\rho(A) < n$, then system has infintely many solutions. <br> \n",
        "If $\\rho(A) \\neq \\rho([A|B])$, then the system is inconsistent."
      ]
    },
    {
      "cell_type": "markdown",
      "metadata": {
        "id": "dG-VpH0CkMLd"
      },
      "source": [
        "Q. Examine the consistency of the following system of equations and solve if consistent  <br>\n",
        "$x_1 + 2x_2 -x_3 = 1$ <br>\n",
        "$2x_1 + x_2 + 4x_3 = 2$ <br>\n",
        "$3x_1 + 3x_2 + 4x_3 = 1$"
      ]
    },
    {
      "cell_type": "code",
      "metadata": {
        "scrolled": true,
        "id": "HkAiLwakkMLe",
        "colab": {
          "base_uri": "https://localhost:8080/"
        },
        "outputId": "a739cf08-b495-437d-9427-472560770d1b"
      },
      "source": [
        "A=np.matrix([[1,2,-1],[2,1,4],[3,3,4]])\n",
        "B=np.matrix([[1],[2],[1]])\n",
        "AB=np.concatenate((A,B), axis=1)\n",
        "rA=np.linalg.matrix_rank(A)\n",
        "rAB=np.linalg.matrix_rank(AB)\n",
        "n=A.shape[1]\n",
        "if (rA==rAB):\n",
        "    if (rA==n):\n",
        "        print(\"The system has unique solution\")\n",
        "        print(np.linalg.solve(A,B))\n",
        "    else:\n",
        "        print(\"The system has infinitely many solutions\")\n",
        "else:\n",
        "    print(\"The system of equations is inconsistent\")"
      ],
      "execution_count": null,
      "outputs": [
        {
          "output_type": "stream",
          "name": "stdout",
          "text": [
            "The system has unique solution\n",
            "[[ 7.]\n",
            " [-4.]\n",
            " [-2.]]\n"
          ]
        }
      ]
    },
    {
      "cell_type": "markdown",
      "metadata": {
        "id": "Q4Jqc8f8kMLf"
      },
      "source": [
        "Q. Examine the consistency of the following system of equations and solve if consistent  <br>\n",
        "$x_1 + 2x_2 -x_3 = 1$ <br>\n",
        "$2x_1 + x_2 + 5x_3 = 2$ <br>\n",
        "$3x_1 + 3x_2 + 4x_3 = 1$"
      ]
    },
    {
      "cell_type": "code",
      "metadata": {
        "id": "4weoJsUwkMLf",
        "colab": {
          "base_uri": "https://localhost:8080/"
        },
        "outputId": "bf0477e0-139e-4944-e87a-64fb119f9499"
      },
      "source": [
        "A=np.matrix([[1,2,-1],[2,1,5],[3,3,4]])\n",
        "B=np.matrix([[1],[2],[1]])\n",
        "AB=np.concatenate((A,B), axis=1)\n",
        "rA=np.linalg.matrix_rank(A)\n",
        "rAB=np.linalg.matrix_rank(AB)\n",
        "n=A.shape[1]\n",
        "if (rA==rAB):\n",
        "    if (rA==n):\n",
        "        print(\"The system has unique solution\")\n",
        "        print(np.linalg.solve(A,B))\n",
        "    else:\n",
        "        print(\"The system has infinitely many solutions\")\n",
        "else:\n",
        "    print(\"The system of equations is inconsistent\")"
      ],
      "execution_count": null,
      "outputs": [
        {
          "output_type": "stream",
          "name": "stdout",
          "text": [
            "The system of equations is inconsistent\n"
          ]
        }
      ]
    },
    {
      "cell_type": "markdown",
      "metadata": {
        "id": "ccvt16BwkMLf"
      },
      "source": [
        "Q. Examine the consistency of the following system of equations and solve if consistent  <br>\n",
        "$x_1 - x_2 + x_3 - x_4 = 2$  <br>\n",
        "$x_1 - x_2 + x_3 + x_4 = 0$  <br>\n",
        "$4x_1 - 4x_2 + 4x_3 = 4$  <br>\n",
        "$-2x_1 + 2x_2 - 2x_3 + x_4 = -3$"
      ]
    },
    {
      "cell_type": "code",
      "metadata": {
        "id": "trcv4a1TkMLg",
        "colab": {
          "base_uri": "https://localhost:8080/"
        },
        "outputId": "224629f7-355e-46f8-f727-93532f4dc16c"
      },
      "source": [
        "import numpy as np\n",
        "A=np.matrix([[1,-1,1,-1],[1,-1,1,1],[4,-4,4,0],[-2,2,-2,1]])\n",
        "B=np.matrix([[2],[0],[4],[-3]])\n",
        "AB=np.concatenate((A,B), axis=1)\n",
        "rA=np.linalg.matrix_rank(A)\n",
        "rAB=np.linalg.matrix_rank(AB)\n",
        "n=A.shape[1]\n",
        "if (rA==rAB):\n",
        "    if (rA==n):\n",
        "        print(\"The system has unique solution\")\n",
        "        print(np.linalg.solve(A,B))\n",
        "    else:\n",
        "        print(\"The system has infinitely many solutions\")\n",
        "else:\n",
        "    print(\"The system of equations is inconsistent\")"
      ],
      "execution_count": null,
      "outputs": [
        {
          "output_type": "stream",
          "name": "stdout",
          "text": [
            "The system has infinitely many solutions\n"
          ]
        }
      ]
    },
    {
      "cell_type": "markdown",
      "metadata": {
        "id": "iexA3QRvkMLh"
      },
      "source": [
        "4. Write a program which arbitrarily takes any matrix as input from the user and check whether the matrix is invertible or not. You need to use the properties of invertible matrices and should not directly use the inverse function in numpy library. You need to make use of control statements in python."
      ]
    },
    {
      "cell_type": "code",
      "metadata": {
        "id": "84wHWRbfkMLj",
        "colab": {
          "base_uri": "https://localhost:8080/",
          "height": 453
        },
        "outputId": "8622d1b5-4bb8-48b8-c5bd-6162d8cec1fa"
      },
      "source": [
        "J=np.mat(input(\"Enter a matrix:\"))\n",
        "if np.linalg.det(J)!=0:\n",
        "    print('The matrix is invertible!')\n",
        "else:\n",
        "    print('The matrix is not invertible!')"
      ],
      "execution_count": null,
      "outputs": [
        {
          "name": "stdout",
          "output_type": "stream",
          "text": [
            "Enter a matrix:1,2,3\n"
          ]
        },
        {
          "output_type": "error",
          "ename": "LinAlgError",
          "evalue": "ignored",
          "traceback": [
            "\u001b[0;31m---------------------------------------------------------------------------\u001b[0m",
            "\u001b[0;31mLinAlgError\u001b[0m                               Traceback (most recent call last)",
            "\u001b[0;32m<ipython-input-7-e9de79a9181a>\u001b[0m in \u001b[0;36m<module>\u001b[0;34m()\u001b[0m\n\u001b[1;32m      1\u001b[0m \u001b[0mJ\u001b[0m\u001b[0;34m=\u001b[0m\u001b[0mnp\u001b[0m\u001b[0;34m.\u001b[0m\u001b[0mmat\u001b[0m\u001b[0;34m(\u001b[0m\u001b[0minput\u001b[0m\u001b[0;34m(\u001b[0m\u001b[0;34m\"Enter a matrix:\"\u001b[0m\u001b[0;34m)\u001b[0m\u001b[0;34m)\u001b[0m\u001b[0;34m\u001b[0m\u001b[0;34m\u001b[0m\u001b[0m\n\u001b[0;32m----> 2\u001b[0;31m \u001b[0;32mif\u001b[0m \u001b[0mnp\u001b[0m\u001b[0;34m.\u001b[0m\u001b[0mlinalg\u001b[0m\u001b[0;34m.\u001b[0m\u001b[0mdet\u001b[0m\u001b[0;34m(\u001b[0m\u001b[0mJ\u001b[0m\u001b[0;34m)\u001b[0m\u001b[0;34m!=\u001b[0m\u001b[0;36m0\u001b[0m\u001b[0;34m:\u001b[0m\u001b[0;34m\u001b[0m\u001b[0;34m\u001b[0m\u001b[0m\n\u001b[0m\u001b[1;32m      3\u001b[0m     \u001b[0mprint\u001b[0m\u001b[0;34m(\u001b[0m\u001b[0;34m'The matrix is invertible!'\u001b[0m\u001b[0;34m)\u001b[0m\u001b[0;34m\u001b[0m\u001b[0;34m\u001b[0m\u001b[0m\n\u001b[1;32m      4\u001b[0m \u001b[0;32melse\u001b[0m\u001b[0;34m:\u001b[0m\u001b[0;34m\u001b[0m\u001b[0;34m\u001b[0m\u001b[0m\n\u001b[1;32m      5\u001b[0m     \u001b[0mprint\u001b[0m\u001b[0;34m(\u001b[0m\u001b[0;34m'The matrix is not invertible!'\u001b[0m\u001b[0;34m)\u001b[0m\u001b[0;34m\u001b[0m\u001b[0;34m\u001b[0m\u001b[0m\n",
            "\u001b[0;32m<__array_function__ internals>\u001b[0m in \u001b[0;36mdet\u001b[0;34m(*args, **kwargs)\u001b[0m\n",
            "\u001b[0;32m/usr/local/lib/python3.7/dist-packages/numpy/linalg/linalg.py\u001b[0m in \u001b[0;36mdet\u001b[0;34m(a)\u001b[0m\n\u001b[1;32m   2154\u001b[0m     \u001b[0ma\u001b[0m \u001b[0;34m=\u001b[0m \u001b[0masarray\u001b[0m\u001b[0;34m(\u001b[0m\u001b[0ma\u001b[0m\u001b[0;34m)\u001b[0m\u001b[0;34m\u001b[0m\u001b[0;34m\u001b[0m\u001b[0m\n\u001b[1;32m   2155\u001b[0m     \u001b[0m_assert_stacked_2d\u001b[0m\u001b[0;34m(\u001b[0m\u001b[0ma\u001b[0m\u001b[0;34m)\u001b[0m\u001b[0;34m\u001b[0m\u001b[0;34m\u001b[0m\u001b[0m\n\u001b[0;32m-> 2156\u001b[0;31m     \u001b[0m_assert_stacked_square\u001b[0m\u001b[0;34m(\u001b[0m\u001b[0ma\u001b[0m\u001b[0;34m)\u001b[0m\u001b[0;34m\u001b[0m\u001b[0;34m\u001b[0m\u001b[0m\n\u001b[0m\u001b[1;32m   2157\u001b[0m     \u001b[0mt\u001b[0m\u001b[0;34m,\u001b[0m \u001b[0mresult_t\u001b[0m \u001b[0;34m=\u001b[0m \u001b[0m_commonType\u001b[0m\u001b[0;34m(\u001b[0m\u001b[0ma\u001b[0m\u001b[0;34m)\u001b[0m\u001b[0;34m\u001b[0m\u001b[0;34m\u001b[0m\u001b[0m\n\u001b[1;32m   2158\u001b[0m     \u001b[0msignature\u001b[0m \u001b[0;34m=\u001b[0m \u001b[0;34m'D->D'\u001b[0m \u001b[0;32mif\u001b[0m \u001b[0misComplexType\u001b[0m\u001b[0;34m(\u001b[0m\u001b[0mt\u001b[0m\u001b[0;34m)\u001b[0m \u001b[0;32melse\u001b[0m \u001b[0;34m'd->d'\u001b[0m\u001b[0;34m\u001b[0m\u001b[0;34m\u001b[0m\u001b[0m\n",
            "\u001b[0;32m/usr/local/lib/python3.7/dist-packages/numpy/linalg/linalg.py\u001b[0m in \u001b[0;36m_assert_stacked_square\u001b[0;34m(*arrays)\u001b[0m\n\u001b[1;32m    202\u001b[0m         \u001b[0mm\u001b[0m\u001b[0;34m,\u001b[0m \u001b[0mn\u001b[0m \u001b[0;34m=\u001b[0m \u001b[0ma\u001b[0m\u001b[0;34m.\u001b[0m\u001b[0mshape\u001b[0m\u001b[0;34m[\u001b[0m\u001b[0;34m-\u001b[0m\u001b[0;36m2\u001b[0m\u001b[0;34m:\u001b[0m\u001b[0;34m]\u001b[0m\u001b[0;34m\u001b[0m\u001b[0;34m\u001b[0m\u001b[0m\n\u001b[1;32m    203\u001b[0m         \u001b[0;32mif\u001b[0m \u001b[0mm\u001b[0m \u001b[0;34m!=\u001b[0m \u001b[0mn\u001b[0m\u001b[0;34m:\u001b[0m\u001b[0;34m\u001b[0m\u001b[0;34m\u001b[0m\u001b[0m\n\u001b[0;32m--> 204\u001b[0;31m             \u001b[0;32mraise\u001b[0m \u001b[0mLinAlgError\u001b[0m\u001b[0;34m(\u001b[0m\u001b[0;34m'Last 2 dimensions of the array must be square'\u001b[0m\u001b[0;34m)\u001b[0m\u001b[0;34m\u001b[0m\u001b[0;34m\u001b[0m\u001b[0m\n\u001b[0m\u001b[1;32m    205\u001b[0m \u001b[0;34m\u001b[0m\u001b[0m\n\u001b[1;32m    206\u001b[0m \u001b[0;32mdef\u001b[0m \u001b[0m_assert_finite\u001b[0m\u001b[0;34m(\u001b[0m\u001b[0;34m*\u001b[0m\u001b[0marrays\u001b[0m\u001b[0;34m)\u001b[0m\u001b[0;34m:\u001b[0m\u001b[0;34m\u001b[0m\u001b[0;34m\u001b[0m\u001b[0m\n",
            "\u001b[0;31mLinAlgError\u001b[0m: Last 2 dimensions of the array must be square"
          ]
        }
      ]
    },
    {
      "cell_type": "markdown",
      "metadata": {
        "id": "5s-VuQEVkMLk"
      },
      "source": [
        "5. Write a program which uses three different ways to solve system of equations. [Different ways in which inverses are found in between the program will also be considered.]"
      ]
    },
    {
      "cell_type": "code",
      "metadata": {
        "scrolled": true,
        "id": "Rv0H8FnPkMLk"
      },
      "source": [
        "A=np.matrix([[1,2,-1],[2,1,4],[3,3,4]])\n",
        "B=np.matrix([[1],[2],[1]])\n",
        "print('A:\\n',A,'\\nB:\\n',B)\n",
        "print('Solution 1:\\n',np.linalg.solve(A,B))\n",
        "Adash=np.linalg.pinv(A)#Pseudo inverse of A\n",
        "#Product of the pseudo-inverse and B should be the solution\n",
        "print('Solution 2:\\n',Adash.dot(B))\n",
        "from scipy import linalg as linsci\n",
        "print('Solution 3:\\n',linsci.solve(A,B))"
      ],
      "execution_count": null,
      "outputs": []
    },
    {
      "cell_type": "markdown",
      "metadata": {
        "id": "HIpSIxiWkMLl"
      },
      "source": [
        "Let A be an invertible n X n matrix. Suppose that a sequence of elementary row-operations reduces A to the identity matrix. Then the same sequence of elementary row-operations when applied to the identity matrix yields A^-1.<br>1. Form the augmented matrix by the identity matrix, i.e., [A|I]<br>2. Apply row operations to the matrix until the left side is reduced to I. Then, the right side of the augmented matrix is the inverse of the matrix."
      ]
    },
    {
      "cell_type": "code",
      "metadata": {
        "id": "ZVX621fPkMLm"
      },
      "source": [
        "import numpy as np\n",
        "import sys\n",
        "n=int(input('Enter order of the matrix:'))\n",
        "a=np.zeros((n,2*n))\n",
        "print('Enter the matrix coefficients:')\n",
        "for i in range(n):\n",
        "    for j in range(n):\n",
        "        a[i][j]=float(input('a['+str(i)+']['+str(j)+']:'))"
      ],
      "execution_count": null,
      "outputs": []
    },
    {
      "cell_type": "code",
      "metadata": {
        "id": "kzZwzWpCkMLn"
      },
      "source": [
        "for i in range(n):\n",
        "    for j in range(n):\n",
        "        if i==j:\n",
        "            a[i][j+n]=1\n",
        "        else:\n",
        "            a[i][j+n]=0"
      ],
      "execution_count": null,
      "outputs": []
    },
    {
      "cell_type": "code",
      "metadata": {
        "id": "bH7DM_WBkMLo"
      },
      "source": [
        "for i in range(n):\n",
        "    if a[i][i]==0.0:\n",
        "        sys.exit('Divide by zero detected!')\n",
        "    for j in range(n):\n",
        "        if i!=j:\n",
        "            ratio=a[j][i]/a[i][i]\n",
        "            for k in range(2*n):\n",
        "                a[j][k]=a[j][k]-ratio*a[i][k]"
      ],
      "execution_count": null,
      "outputs": []
    },
    {
      "cell_type": "code",
      "metadata": {
        "scrolled": false,
        "id": "y5KTnAqfkMLp"
      },
      "source": [
        "for i in range(n):\n",
        "    divisor=a[i][i]\n",
        "    for j in range(2*n):\n",
        "        a[i][j]=a[i][j]/divisor\n",
        "print('\\nInverse Matrix:')\n",
        "for i in range(n):\n",
        "    for j in range(n,2*n):\n",
        "        print(a[i][j],end='\\t')\n",
        "    print()"
      ],
      "execution_count": null,
      "outputs": []
    },
    {
      "cell_type": "markdown",
      "metadata": {
        "id": "2essofcykMLp"
      },
      "source": [
        "Obtaining Eigen values and Eigen vectors"
      ]
    },
    {
      "cell_type": "code",
      "metadata": {
        "scrolled": true,
        "id": "UyRuTzcSkMLq"
      },
      "source": [
        "import numpy as np\n",
        "I=np.array([[4,3,2],[1,4,1],[3,10,4]])\n",
        "print('Given matrix:')\n",
        "print(I)\n",
        "print()\n",
        "x=np.linalg.eigvals(I)\n",
        "y=np.linalg.eig(I)\n",
        "print('Eigen values:\\n')\n",
        "print(x)\n",
        "print('\\nEigen vectors:\\n')\n",
        "print(y)"
      ],
      "execution_count": null,
      "outputs": []
    },
    {
      "cell_type": "code",
      "metadata": {
        "scrolled": true,
        "id": "vbYYb3JJkMLr"
      },
      "source": [
        "import numpy as np\n",
        "I=np.array([[1,-3,3],[3,-5,3],[6,-6,4]])\n",
        "print(\"Given matrix\")\n",
        "print(I)\n",
        "print()\n",
        "x=np.linalg.eigvals(I)\n",
        "y=np.linalg.eig(I)\n",
        "print(\"Eigen values:\")\n",
        "print(x)\n",
        "print()\n",
        "print(\"Eigen vectors:\")\n",
        "print(y)"
      ],
      "execution_count": null,
      "outputs": []
    },
    {
      "cell_type": "markdown",
      "metadata": {
        "id": "d2oxsG43kMLr"
      },
      "source": [
        "Properties of Eigen VAlues and Eigen Vectors<br>\n",
        "1.For a $nxn$ matrix, the number of eigen values is n.<br>\n",
        "2.The sum of eigen values is equal to the sum of the diagonal elements of matrix.<br>\n",
        "3.The product of eigenvalues is equal to the determinant of the matrix.<br>\n",
        "4.The eigen value for an identity matrix is 1.<br>\n",
        "5.The eigenvalue of a triangular matrix is same as the diagonal elements of a matrix.<br>\n",
        "6.For a skew symmetric matrix, the eigenvalues are imaginary.<br>\n",
        "7.For orthogonal matrix the length of eigenvalues equal to 1.<br>\n",
        "8.For indempotent matrix the eigenvalues are 0 and 1(Aˆ2=identity matrix)."
      ]
    },
    {
      "cell_type": "markdown",
      "metadata": {
        "id": "5Jj3SWT0kMLs"
      },
      "source": [
        "Property 2 proof"
      ]
    },
    {
      "cell_type": "code",
      "metadata": {
        "scrolled": true,
        "id": "-rA4kfnYkMLt"
      },
      "source": [
        "import numpy as np\n",
        "I=np.array([[1,-3,3],[3,-5,3],[6,-6,4]])\n",
        "print(\"Given matrix\")\n",
        "print(I)\n",
        "print()\n",
        "x=np.linalg.eigvals(I)\n",
        "y=np.linalg.eig(I)\n",
        "print(\"Eigen values:\")\n",
        "print(x)\n",
        "print()\n",
        "print(\"Eigen vectors:\")\n",
        "print(y)\n",
        "print(\"Sum of Diagonals Element\")\n",
        "print(np.trace(I))\n",
        "print(\"Sum of Eigen Values\")\n",
        "print(np.sum(x))"
      ],
      "execution_count": null,
      "outputs": []
    },
    {
      "cell_type": "markdown",
      "metadata": {
        "id": "uSsvPgxikMLt"
      },
      "source": [
        "Property 3 Proof"
      ]
    },
    {
      "cell_type": "code",
      "metadata": {
        "scrolled": true,
        "id": "eRse30B7kMLt"
      },
      "source": [
        "import numpy as np\n",
        "I=np.array([[1,-3,3],[3,-5,3],[6,-6,4]])\n",
        "print(\"Given matrix\")\n",
        "print(I)\n",
        "print()\n",
        "x=np.linalg.eigvals(I)\n",
        "y=np.linalg.eig(I)\n",
        "print(\"Eigen values:\")\n",
        "print(x)\n",
        "print()\n",
        "print(\"Eigen vectors:\")\n",
        "print(y)\n",
        "print(\"Product of Eigen Values\")\n",
        "print(np.product(x))\n",
        "print(\"Determinant of Matrix\")\n",
        "print(np.linalg.det(I))\n",
        "\n",
        "if(round(np.product(x))==round(np.linalg.det(I))):\n",
        "  print(\"True\")\n",
        "else:\n",
        "  print(\"False\")"
      ],
      "execution_count": null,
      "outputs": []
    },
    {
      "cell_type": "markdown",
      "metadata": {
        "id": "cx8nD4-bkMLu"
      },
      "source": [
        "Property 4 proof"
      ]
    },
    {
      "cell_type": "code",
      "metadata": {
        "id": "28sqPlFnkMLv"
      },
      "source": [
        "import numpy as np\n",
        "I=np.array([[1,0,0],[0,1,0],[0,0,1]])\n",
        "print(\"Given matrix\")\n",
        "print(I)\n",
        "print()\n",
        "x=np.linalg.eigvals(I)\n",
        "y=np.linalg.eig(I)\n",
        "print(\"Eigen values:\")\n",
        "print(x)\n",
        "print()\n",
        "print(\"Eigen vectors:\")"
      ],
      "execution_count": null,
      "outputs": []
    },
    {
      "cell_type": "code",
      "metadata": {
        "scrolled": true,
        "id": "j4hLZa2GkMLw"
      },
      "source": [
        "import numpy as np\n",
        "I=np.array([[1,0,0],[0,1,0],[0,0,1]])\n",
        "print(\"Given matrix\")\n",
        "print(I)\n",
        "print()\n",
        "x=np.linalg.eigvals(I)\n",
        "y=np.linalg.eig(I)\n",
        "\n",
        "print(\"Eigen values:\")\n",
        "print(x)\n",
        "print()\n",
        "print(\"Eigen vectors:\")"
      ],
      "execution_count": null,
      "outputs": []
    },
    {
      "cell_type": "code",
      "metadata": {
        "id": "fFj3SCZTkMLw"
      },
      "source": [
        "import numpy as np\n",
        "from math import *\n",
        "A= np.mat([[2,-2,3],[1,1,1],[1,3,-1]])\n",
        "X,P=np.linalg.eig(A)\n",
        "I=np.linalg.inv(P)\n",
        "Z=np.round(I*A*P)\n",
        "print(\"The final diagonalized matrix is\")\n",
        "print(Z)\n",
        "print()\n",
        "print(\"Eigen vectors\")\n",
        "print(P)\n",
        "print()\n",
        "print(\"Eigen values\")\n",
        "print(X)\n",
        "print()"
      ],
      "execution_count": null,
      "outputs": []
    },
    {
      "cell_type": "markdown",
      "metadata": {
        "id": "rnCSApF9Ru0z"
      },
      "source": [
        "Linear Combination of Vectors"
      ]
    },
    {
      "cell_type": "markdown",
      "metadata": {
        "id": "eRu7tU2lR5O5"
      },
      "source": [
        "Q: Is the vector$$b=\\begin{bmatrix} 2\\\\ 3 \\\\ 6 \\end{bmatrix}$$ a linear combination of the vectors $$v_1=\\begin{bmatrix} 1\\\\ 5 \\\\ -1 \\end{bmatrix}$$,$$v_2=\\begin{bmatrix} 1\\\\ 2 \\\\ 1 \\end{bmatrix}$$,$$v_3=\\begin{bmatrix} 1\\\\ 4 \\\\ 3 \\end{bmatrix}$$?"
      ]
    },
    {
      "cell_type": "code",
      "metadata": {
        "id": "GktOfi9TRyj0"
      },
      "source": [
        "#declaring the vectors b, v1, v2 and v3 as 3 by 1 matrices\n",
        "b=np.matrix([[2],[3],[6]])\n",
        "v1=np.matrix([[1],[5],[-1]])\n",
        "v2=np.matrix([[1],[2],[1]])\n",
        "v3=np.matrix([[1],[4],[3]])\n",
        "V=np.concatenate((v1,v2,v3),axis=1)\n",
        "#Finding the scalars a1, a2, a3\n",
        "A=np.linalg.solve(V,b)\n",
        "Y= A[0,0]*v1+A[1,0]*v2+A[2,0]*v3\n",
        "if b.all()==Y.all():\n",
        "  print(\"The given vector is a linear combination of the vectors v1, v2 and v3\")"
      ],
      "execution_count": null,
      "outputs": []
    },
    {
      "cell_type": "markdown",
      "metadata": {
        "id": "2LYo3fruUaM1"
      },
      "source": [
        "Q. Determine whether the vector <2,1,3> is a linear combination of the vectors <1,2,3> , <3,2,1> and <2,3,1>"
      ]
    },
    {
      "cell_type": "code",
      "metadata": {
        "id": "-4NmvW0AUewV"
      },
      "source": [
        "#declaring the vectors b, v1, v2 and v3 as 3 by 1 matrices\n",
        "b=np.matrix([[2],[1],[3]])\n",
        "v1=np.matrix([[1],[2],[3]])\n",
        "v2=np.matrix([[3],[2],[1]])\n",
        "v3=np.matrix([[2],[3],[1]])\n",
        "V=np.concatenate((v1,v2,v3),axis=1)\n",
        "#Finding the scalars a1, a2, a3\n",
        "A=np.linalg.solve(V,b)\n",
        "Y= A[0,0]*v1+A[1,0]*v2+A[2,0]*v3\n",
        "if b.all()==Y.all():\n",
        "  print(\"The given vector is a linear combination of the vectors v1, v2 and v3\")"
      ],
      "execution_count": null,
      "outputs": []
    },
    {
      "cell_type": "code",
      "metadata": {
        "colab": {
          "base_uri": "https://localhost:8080/"
        },
        "id": "3YUJM90PVB_d",
        "outputId": "069aa82b-b203-4781-c515-968386d78477"
      },
      "source": [
        "b=np.mat(input(\"Enter the main vector:\"))\n",
        "v1=np.mat(input(\"Enter the first 3x1 vector:\"))\n",
        "v2=np.mat(input(\"Enter the second 3x1 vector:\"))\n",
        "v3=np.mat(input(\"Enter the third 3x1 vector:\"))\n",
        "V=np.concatenate((v1,v2,v3),axis=1)\n",
        "A=np.linalg.solve(V,b)\n",
        "Y= A[0,0]*v1+A[1,0]*v2+A[2,0]*v3\n",
        "if b.all()==Y.all():\n",
        "  print(\"The given vector is a linear combination of the vectors v1, v2 and v3\")"
      ],
      "execution_count": null,
      "outputs": [
        {
          "output_type": "stream",
          "name": "stdout",
          "text": [
            "Enter the main vector:2;1;3\n",
            "Enter the first 3x1 vector:1;2;3\n",
            "Enter the second 3x1 vector:3;2;1\n",
            "Enter the third 3x1 vector:2;3;1\n",
            "The given vector is a linear combination of the vectors v1, v2 and v3\n"
          ]
        }
      ]
    },
    {
      "cell_type": "markdown",
      "metadata": {
        "id": "itd6M6uNWwmV"
      },
      "source": [
        "Q:Express $< 2, 13, 6 >$ as linear combination of $< 1, 5, − 1 >$ , $< 1, 2, 1 >$ and $< 1, 4, 3 >$"
      ]
    },
    {
      "cell_type": "code",
      "metadata": {
        "colab": {
          "base_uri": "https://localhost:8080/"
        },
        "id": "r_orqOIuWyQf",
        "outputId": "1955fcad-6ea5-42c8-8b2d-6cabbc233579"
      },
      "source": [
        "print(\"To take vectors for LC\")\n",
        "n=int(input(\"enter the number of vectors \"))\n",
        "M=np.matrix([[0],[0],[0]])\n",
        "m=int(input(\"enter the dimension of vector \"))\n",
        "for i in range(n):\n",
        "  print(\"Enter the entries of one vector in a single line (separated by space): \")\n",
        "  elements=list(map(int, input().split()))\n",
        "  v=np.matrix(elements).reshape(m, 1)\n",
        "  M=np.concatenate((M,v),axis=1)\n",
        "  #extract A\n",
        "  A=M[:,1:]\n",
        "  print(\"Enter the vector w in single line seperated by space \")\n",
        "  elements=list(map(int, input().split()))\n",
        "  w=np.matrix(elements).reshape(m, 1)\n",
        "  Aw=np.hstack([A,w])\n",
        "  rA=np.linalg.matrix_rank(A)\n",
        "  rAw=np.linalg.matrix_rank(Aw)\n",
        "  n=A.shape[1]\n",
        "  if (rA==rAw):\n",
        "    if (rA==n):\n",
        "      print(\"Here w can be expressed as LC of listed vectors using multiples\",np.linalg.solve (A,w),\"repectively\")\n",
        "    else: print(\"The system has infinitely many solutions, thus w cannot be expressed as LC of listed vectors\")\n",
        "  else: print(\"The system of equations is inconsistent\")"
      ],
      "execution_count": null,
      "outputs": [
        {
          "output_type": "stream",
          "name": "stdout",
          "text": [
            "To take vectors for LC\n",
            "enter the number of vectors 3\n",
            "enter the dimension of vector 3\n",
            "Enter the entries of one vector in a single line (separated by space): \n",
            "2 13 6\n",
            "Enter the vector w in single line seperated by space \n",
            "1 5 -1\n",
            "The system of equations is inconsistent\n",
            "Enter the entries of one vector in a single line (separated by space): \n",
            "1 2 1\n",
            "Enter the vector w in single line seperated by space \n",
            "1 4 3\n",
            "The system of equations is inconsistent\n",
            "Enter the entries of one vector in a single line (separated by space): \n"
          ]
        }
      ]
    },
    {
      "cell_type": "markdown",
      "metadata": {
        "id": "VXolRb63WnYD"
      },
      "source": [
        "Q1. WAP to find the rank of the given matrix<br>\n",
        "$A=\\begin{bmatrix}\n",
        "1 & 7 & 5 & 6\\\\\n",
        "7 & 2 & 6 & 7\\\\\n",
        "-1 & -3 & -3 & 4\\\\\n",
        "\\end{bmatrix}$"
      ]
    },
    {
      "cell_type": "code",
      "metadata": {
        "id": "HqFv26XoXGVl"
      },
      "source": [
        "import numpy as np\n",
        "A=np.array(([1,7,5,6],[7,2,6,7],[-1,-3,-3,4]))\n",
        "print(\"A=\",A)\n",
        "print(\"The rank of the matrix is\",np.linalg.matrix_rank(A))"
      ],
      "execution_count": null,
      "outputs": []
    },
    {
      "cell_type": "markdown",
      "metadata": {
        "id": "AxOfqVbsYcrC"
      },
      "source": [
        "2. WAP to find the rank of the given matrix\n",
        "$A=\\begin{bmatrix}\n",
        "1 & 2 & 3\\\\\n",
        "2 & 1 & 4\\\\\n",
        "3 & 0 & 5\\\\\n",
        "\\end{bmatrix}$"
      ]
    },
    {
      "cell_type": "code",
      "metadata": {
        "id": "DYXqvD3-Y43B"
      },
      "source": [
        "A=np.array(([1,2,3],[2,1,4],[3,0,5]))\n",
        "print(\"A=\",A)\n",
        "print(\"The rank of the matrix is\",np.linalg.matrix_rank(A))"
      ],
      "execution_count": null,
      "outputs": []
    },
    {
      "cell_type": "markdown",
      "metadata": {
        "id": "g0ESjq6VZQFL"
      },
      "source": [
        "3. WAP to find the rank of the identity matrix of order 3X3 without entering the elements of the matrix manually (use built-in function of identity matrix) and write your observation about the relation of rank and column/row in one sentence."
      ]
    },
    {
      "cell_type": "code",
      "metadata": {
        "id": "3fLAZFzEZk3C"
      },
      "source": [
        "A=np.identity(3)#np.eye(3)\n",
        "print(\"A=\",A)\n",
        "print(\"The rank of the matrix is\",np.linalg.matrix_rank(A))\n",
        "print(\"For an Identity matrix, order=rank.\")"
      ],
      "execution_count": null,
      "outputs": []
    },
    {
      "cell_type": "markdown",
      "metadata": {
        "id": "jd3R0alTanq7"
      },
      "source": [
        "4. WAP to find the rank of the zero/null matrix of order 4X4 and 3X3 without entering the elements of the matrix manually (use built-in function of zero matrix) and write your observation about the rank in one sentence."
      ]
    },
    {
      "cell_type": "code",
      "metadata": {
        "id": "nx6vyCqTa_sr"
      },
      "source": [
        "A=np.zeros(4,4)\n",
        "B=np.zeros(3,3)\n",
        "print(\"A=\",A)\n",
        "print(\"B=\",B)\n",
        "print(\"The rank of the matrix A is\",np.linalg.matrix_rank(A))\n",
        "print(\"The rank of the matrix B is\",np.linalg.matrix_rank(B))\n",
        "print(\"The rank of a zero matrix is 0.\")"
      ],
      "execution_count": null,
      "outputs": []
    },
    {
      "cell_type": "markdown",
      "metadata": {
        "id": "n4xKF68udgtL"
      },
      "source": [
        "**Properties**<br>If a matrix is of order mXn, then p(A)<=min{m,n}=the minimum of m,n.<br><br>If A is of order nXn, and |A|!=0, then the rank of A=n.<br><br>If A is of order nXn and |A|=0, then the rank will be less than n."
      ]
    },
    {
      "cell_type": "code",
      "metadata": {
        "id": "NiPvwcnmdxGw"
      },
      "source": [
        "A=np.array(([1,2,3],[2,1,4],[3,0,5]))\n",
        "n=3\n",
        "print(\"A=\",A)\n",
        "print(\"The rank of the matrix is\",np.linalg.matrix_rank(A))\n",
        "if(det(A)==0):\n",
        "  print(\"Determinant of A is 0.\")\n",
        "  if(np.linalg.matrix_rank(A)<n):\n",
        "    print(\"Property satisfied!\")\n",
        "  else:\n",
        "    print(\"Property not satisfied!\")\n",
        "else:\n",
        "  print(\"Determinant of A is not 0.\")\n",
        "  if(np.linalg.matrix(A)==n):\n",
        "    print(\"Property satisfied!\")\n",
        "  else:\n",
        "    print(\"Property not satisfied!\")"
      ],
      "execution_count": null,
      "outputs": []
    },
    {
      "cell_type": "code",
      "metadata": {
        "id": "p3YLoIEXfxaV"
      },
      "source": [
        ""
      ],
      "execution_count": null,
      "outputs": []
    }
  ]
}