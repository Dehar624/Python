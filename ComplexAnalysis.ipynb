{
  "nbformat": 4,
  "nbformat_minor": 0,
  "metadata": {
    "colab": {
      "name": "1940211_ComplexAnalysis.ipynb",
      "provenance": [],
      "collapsed_sections": [
        "E8KdJj3axeNA",
        "gfGr_Lt2xARE",
        "lFziTUsgxtlF",
        "vdHFeD4MYasI",
        "8AVkNwBjxT2T"
      ],
      "authorship_tag": "ABX9TyMEguMeV4v3OdbmZDbQcsbj"
    },
    "kernelspec": {
      "name": "python3",
      "display_name": "Python 3"
    },
    "language_info": {
      "name": "python"
    }
  },
  "cells": [
    {
      "cell_type": "markdown",
      "source": [
        "##Day 1"
      ],
      "metadata": {
        "id": "E8KdJj3axeNA"
      }
    },
    {
      "cell_type": "code",
      "execution_count": null,
      "metadata": {
        "colab": {
          "base_uri": "https://localhost:8080/"
        },
        "id": "ZF5aw7PRt5Z-",
        "outputId": "a6ff6af0-1688-470a-f39f-9cc65dfb50fd"
      },
      "outputs": [
        {
          "output_type": "stream",
          "name": "stdout",
          "text": [
            "Today's Date: 2022-01-07\n"
          ]
        }
      ],
      "source": [
        "from datetime import date\n",
        "d=date.today()\n",
        "print(\"Today's Date:\",d)"
      ]
    },
    {
      "cell_type": "code",
      "source": [
        "fname=input(\"Enter the first name:\")\n",
        "lname=input(\"Enter the last name:\")\n",
        "print(\"Name:\",fname,lname)"
      ],
      "metadata": {
        "colab": {
          "base_uri": "https://localhost:8080/"
        },
        "id": "JJzzddhJunOh",
        "outputId": "7838f9d9-e1d6-44ea-cf9f-97ff04b93666"
      },
      "execution_count": null,
      "outputs": [
        {
          "output_type": "stream",
          "name": "stdout",
          "text": [
            "Enter the first name:Charlie\n",
            "Enter the last name:Delta\n",
            "Name: Charlie Delta\n"
          ]
        }
      ]
    },
    {
      "cell_type": "code",
      "source": [
        "n=int(input(\"Enter the number:\"))\n",
        "if n%2==0:\n",
        "  print(\"The number is even!\")\n",
        "else:\n",
        "  print(\"The number is odd!\")"
      ],
      "metadata": {
        "colab": {
          "base_uri": "https://localhost:8080/"
        },
        "id": "eF3qrPkQvp80",
        "outputId": "97408095-0219-4780-9e6a-dac37364b4be"
      },
      "execution_count": null,
      "outputs": [
        {
          "output_type": "stream",
          "name": "stdout",
          "text": [
            "Enter the number:46\n",
            "The number is even!\n"
          ]
        }
      ]
    },
    {
      "cell_type": "code",
      "source": [
        "n=int(input(\"Enter the number:\"))\n",
        "i=n\n",
        "d=0\n",
        "while i>0:\n",
        "  d=d*10+i%10\n",
        "  i=i//10\n",
        "print(\"The reverse is\",d)\n",
        "if d==n:\n",
        "  print(\"Palindrome!\")\n",
        "else:\n",
        "  print('Not a palindrome!')"
      ],
      "metadata": {
        "colab": {
          "base_uri": "https://localhost:8080/"
        },
        "id": "Rbl-L45nwmQT",
        "outputId": "f2411c68-2738-41bf-c0df-e9b76dafcc69"
      },
      "execution_count": null,
      "outputs": [
        {
          "output_type": "stream",
          "name": "stdout",
          "text": [
            "Enter the number:181\n",
            "The reverse is 181\n",
            "Palindrome!\n"
          ]
        }
      ]
    },
    {
      "cell_type": "code",
      "source": [
        "numerator=int(input(\"Enter numerator:\"))\n",
        "denominator=int(input(\"Enter denomminator:\"))\n",
        "if denominator!=0:\n",
        "  print(\"Result=\",numerator/denominator)\n",
        "else:\n",
        "  print(\"Denominator is 0!\")"
      ],
      "metadata": {
        "colab": {
          "base_uri": "https://localhost:8080/"
        },
        "id": "EgLwyjhnxvAg",
        "outputId": "b6689868-699a-4540-9c25-ff3d59f516b9"
      },
      "execution_count": null,
      "outputs": [
        {
          "output_type": "stream",
          "name": "stdout",
          "text": [
            "Enter numerator:9\n",
            "Enter denomminator:10\n",
            "Result= 0.9\n"
          ]
        }
      ]
    },
    {
      "cell_type": "code",
      "source": [
        "a=int(input(\"Enter the first number:\"))\n",
        "b=int(input(\"Enter the second number:\"))\n",
        "c=int(input(\"Enter the third number:\"))\n",
        "if a>b:\n",
        "  if a>c:\n",
        "    print(a,\"is the greatest!\")\n",
        "  elif c>a:\n",
        "    print(c,\"is the greatest!\")\n",
        "  else:\n",
        "    print(a,\"and\",c,\"are the greatest!\")\n",
        "elif b>a:\n",
        "  if b>c:\n",
        "    print(b,\"is the greatest!\")\n",
        "  elif c>b:\n",
        "    print(c,\"is the greatest!\")\n",
        "  else:\n",
        "    print(b,\"and\",c,\"are the greatest!\")\n",
        "else:\n",
        "  if a>c:\n",
        "    print(a,\"and\",b,\"are the greatest!\")\n",
        "  else:\n",
        "    print(\"All are equal!\")"
      ],
      "metadata": {
        "colab": {
          "base_uri": "https://localhost:8080/"
        },
        "id": "fl-eiCU80d15",
        "outputId": "14aa04e8-3268-4c32-da2c-71fa760d1404"
      },
      "execution_count": null,
      "outputs": [
        {
          "output_type": "stream",
          "name": "stdout",
          "text": [
            "Enter the first number:9\n",
            "Enter the second number:9\n",
            "Enter the third number:9\n",
            "All are equal!\n"
          ]
        }
      ]
    },
    {
      "cell_type": "markdown",
      "source": [
        "#Day 2"
      ],
      "metadata": {
        "id": "gfGr_Lt2xARE"
      }
    },
    {
      "cell_type": "code",
      "source": [
        "import matplotlib.pyplot as mp\n",
        "year=[2010,2011,2012,2013,2014,2015,2016,2017,2018,2019,2020,2021]\n",
        "price=[156,166.9,189,196.9,207.1,247,288.0,302,346,388,399,402]\n",
        "mp.scatter(year,price)\n",
        "mp.grid()\n",
        "mp.show()"
      ],
      "metadata": {
        "colab": {
          "base_uri": "https://localhost:8080/",
          "height": 265
        },
        "id": "jBUShos4Wq4d",
        "outputId": "f26cf245-2042-44ab-b1c8-bfe2284ce6d9"
      },
      "execution_count": null,
      "outputs": [
        {
          "output_type": "display_data",
          "data": {
            "image/png": "[encoded data removed]",
            "text/plain": [
              "<Figure size 432x288 with 1 Axes>"
            ]
          },
          "metadata": {
            "needs_background": "light"
          }
        }
      ]
    },
    {
      "cell_type": "code",
      "source": [
        "from mpl_toolkits import mplot3d\n",
        "from matplotlib.pyplot import *\n",
        "from numpy import *\n",
        "ax=axes(projection=\"3d\")\n",
        "z=np.linspace(0, 15, 1000)\n",
        "x=np.sin(z)\n",
        "y=np.cos(z)\n",
        "ax.plot3D(x,y,z,color=\"blue\")\n",
        "ax.set_xlabel(\"x\")\n",
        "ax.set_ylabel(\"y\")\n",
        "ax.set_zlabel(\"z\")"
      ],
      "metadata": {
        "colab": {
          "base_uri": "https://localhost:8080/",
          "height": 266
        },
        "id": "IpgJ9zuoaRYN",
        "outputId": "724c9a12-a801-43aa-86fd-acad04adf41d"
      },
      "execution_count": null,
      "outputs": [
        {
          "output_type": "execute_result",
          "data": {
            "text/plain": [
              "Text(0.5, 0, 'z')"
            ]
          },
          "metadata": {},
          "execution_count": 4
        },
        {
          "output_type": "display_data",
          "data": {
            "image/png": "[encoded data removed]",
            "text/plain": [
              "<Figure size 432x288 with 1 Axes>"
            ]
          },
          "metadata": {
            "needs_background": "light"
          }
        }
      ]
    },
    {
      "cell_type": "code",
      "source": [
        "from matplotlib.pylab import *\n",
        "figure(figsize=(10,8))\n",
        "suptitle('SUBPLOTS OF VARIOUS FUNCTIONS')\n",
        "subplot(221)\n",
        "# 2 tall, 2 wide, plot number\n",
        "x=linspace(-20,20,100)\n",
        "plot(exp(x),color='Orange')\n",
        "xlabel('x')\n",
        "ylabel('exp(X)')\n",
        "subplot(222)\n",
        "# 2 tall, 2 wide, plot number\n",
        "x=linspace(-20,20,100)\n",
        "plot(x**2,color='Green')\n",
        "xlabel('x')\n",
        "ylabel('x^2')\n",
        "subplot(223)\n",
        "# 2 tall, 2 wide, plot number\n",
        "x=linspace(-20,20,100)\n",
        "plot(cos(x),color='Brown')\n",
        "xlabel('x')\n",
        "ylabel('cos(x)')\n",
        "subplot(224)\n",
        "# 2 tall, 2 wide, plot number\n",
        "x=linspace(-20,20,100)\n",
        "plot(tan(x),color='Red')\n",
        "xlabel('x')\n",
        "ylabel('tan(x)')"
      ],
      "metadata": {
        "colab": {
          "base_uri": "https://localhost:8080/",
          "height": 572
        },
        "id": "_dDe2IRlfZCm",
        "outputId": "bf6ebe73-c0b1-41f5-cdf0-a29970350774"
      },
      "execution_count": null,
      "outputs": [
        {
          "output_type": "execute_result",
          "data": {
            "text/plain": [
              "Text(0, 0.5, 'tan(x)')"
            ]
          },
          "metadata": {},
          "execution_count": 9
        },
        {
          "output_type": "display_data",
          "data": {
            "image/png": "[encoded data removed]",
            "text/plain": [
              "<Figure size 720x576 with 4 Axes>"
            ]
          },
          "metadata": {
            "needs_background": "light"
          }
        }
      ]
    },
    {
      "cell_type": "code",
      "source": [
        "import cmath\n",
        "a=complex(3,2)\n",
        "b=complex(4,5)\n",
        "print(\"The real part of the first complex number is\",a.real)\n",
        "print(\"The imaginary part of the first complex number is\",a.imag)\n",
        "print(\"The first number is\",a.real,\"+\",a.imag,\"i\")\n",
        "print(\"The real part of the second number is\",b.real)\n",
        "print(\"The imaginary part of the second number is\",b.imag)\n",
        "print(\"The second number is\",b.real,\"+\",b.imag,\"i\")\n",
        "print(\"Addition:\",a+b)\n",
        "print(\"Subtraction:\",a-b)\n",
        "print(\"Multiplication:\",a*b)\n",
        "print(\"Division:\",a/b)"
      ],
      "metadata": {
        "colab": {
          "base_uri": "https://localhost:8080/"
        },
        "id": "Lot83RwRf5ay",
        "outputId": "c333aca1-b481-497f-fb24-5d4496512f4d"
      },
      "execution_count": null,
      "outputs": [
        {
          "output_type": "stream",
          "name": "stdout",
          "text": [
            "The real part of the first complex number is 3.0\n",
            "The imaginary part of the first complex number is 2.0\n",
            "The first number is 3.0 + 2.0 i\n",
            "The real part of the second number is 4.0\n",
            "The imaginary part of the second number is 5.0\n",
            "The second number is 4.0 + 5.0 i\n",
            "Addition: (7+7j)\n",
            "Subtraction: (-1-3j)\n",
            "Multiplication: (2+23j)\n",
            "Division: (0.5365853658536587-0.17073170731707318j)\n"
          ]
        }
      ]
    },
    {
      "cell_type": "markdown",
      "source": [
        "#Day 3"
      ],
      "metadata": {
        "id": "lFziTUsgxtlF"
      }
    },
    {
      "cell_type": "markdown",
      "source": [
        "Create a blank list and then append 5 elements to it, including 2 strings and then remove the 3rd element."
      ],
      "metadata": {
        "id": "0nKi2mVrylra"
      }
    },
    {
      "cell_type": "code",
      "source": [
        "arr=[]\n",
        "arr.append(int(input(\"Enter first element (int):\")))\n",
        "arr.append(input(\"Enter the second element (string):\"))\n",
        "arr.append(int(input(\"Enter first element (int):\")))\n",
        "arr.append(input(\"Enter the second element (string):\"))\n",
        "arr.append(int(input(\"Enter first element (int):\")))\n",
        "print(\"The entire array:\",arr)\n",
        "arr.pop(2)\n",
        "print(\"After removing the 3rd element:\",arr)"
      ],
      "metadata": {
        "colab": {
          "base_uri": "https://localhost:8080/"
        },
        "id": "XxsqV6Ltxv9e",
        "outputId": "05996195-6aeb-4085-bd44-30ccb03c2d0f"
      },
      "execution_count": null,
      "outputs": [
        {
          "output_type": "stream",
          "name": "stdout",
          "text": [
            "Enter first element (int):1\n",
            "Enter the second element (string):two\n",
            "Enter first element (int):3\n",
            "Enter the second element (string):four\n",
            "Enter first element (int):5\n",
            "The entire array: [1, 'two', 3, 'four', 5]\n",
            "After removing the 3rd element: [1, 'two', 'four', 5]\n"
          ]
        }
      ]
    },
    {
      "cell_type": "markdown",
      "source": [
        "Now, re-enter the same element in the same position."
      ],
      "metadata": {
        "id": "2GCzpg1r0hO3"
      }
    },
    {
      "cell_type": "code",
      "source": [
        "arr.insert(2,3)\n",
        "print(\"The same array remade:\",arr)"
      ],
      "metadata": {
        "colab": {
          "base_uri": "https://localhost:8080/"
        },
        "id": "P6-DMF_U0gpz",
        "outputId": "feaaea27-e4dc-48bb-aa14-435daecd48f4"
      },
      "execution_count": null,
      "outputs": [
        {
          "output_type": "stream",
          "name": "stdout",
          "text": [
            "The same array remade: [1, 'two', 3, 'four', 5]\n"
          ]
        }
      ]
    },
    {
      "cell_type": "markdown",
      "source": [
        "Remove the 5th and 7th element in the list."
      ],
      "metadata": {
        "id": "-XUhkFtH10bA"
      }
    },
    {
      "cell_type": "code",
      "source": [
        "arr.append(input(\"Enter the 6th element (string):\"))\n",
        "arr.append(int(input(\"Enter the 7th element (int):\")))\n",
        "print(\"The current array:\",arr)\n",
        "arr.pop(4)\n",
        "arr.pop(5)\n",
        "print(\"The array after removing the 5th and 7th element:\",arr)"
      ],
      "metadata": {
        "colab": {
          "base_uri": "https://localhost:8080/"
        },
        "id": "QYCHNi_j2Jzv",
        "outputId": "d0ab4cf6-4861-47d9-a541-14ad12ac2697"
      },
      "execution_count": null,
      "outputs": [
        {
          "output_type": "stream",
          "name": "stdout",
          "text": [
            "Enter the 6th element (string):six\n",
            "Enter the 7th element (int):7\n",
            "The current array: [1, 'two', 'four', 5, 7, 'six', 7]\n",
            "The array after removing the 5th and 7th element: [1, 'two', 'four', 5, 'six']\n"
          ]
        }
      ]
    },
    {
      "cell_type": "code",
      "source": [
        "brr=[]\n",
        "brr=arr[1:3]\n",
        "print(\"Subset of the array:\",brr)"
      ],
      "metadata": {
        "colab": {
          "base_uri": "https://localhost:8080/"
        },
        "id": "lh3hEznc32xz",
        "outputId": "241daee5-abb6-4d0f-9477-37ff2b7d49d4"
      },
      "execution_count": null,
      "outputs": [
        {
          "output_type": "stream",
          "name": "stdout",
          "text": [
            "Subset of the array: ['two', 'four']\n"
          ]
        }
      ]
    },
    {
      "cell_type": "markdown",
      "source": [
        ""
      ],
      "metadata": {
        "id": "1oe6P7r-YY8I"
      }
    },
    {
      "cell_type": "markdown",
      "source": [
        "#Day 4"
      ],
      "metadata": {
        "id": "vdHFeD4MYasI"
      }
    },
    {
      "cell_type": "code",
      "source": [
        "import cmath\n",
        "dir(cmath)"
      ],
      "metadata": {
        "colab": {
          "base_uri": "https://localhost:8080/"
        },
        "id": "Rgyc4wS7YfeW",
        "outputId": "8bf114bd-3904-4470-c789-a9fa9a91ccfe"
      },
      "execution_count": null,
      "outputs": [
        {
          "output_type": "execute_result",
          "data": {
            "text/plain": [
              "['__doc__',\n",
              " '__file__',\n",
              " '__loader__',\n",
              " '__name__',\n",
              " '__package__',\n",
              " '__spec__',\n",
              " 'acos',\n",
              " 'acosh',\n",
              " 'asin',\n",
              " 'asinh',\n",
              " 'atan',\n",
              " 'atanh',\n",
              " 'cos',\n",
              " 'cosh',\n",
              " 'e',\n",
              " 'exp',\n",
              " 'inf',\n",
              " 'infj',\n",
              " 'isclose',\n",
              " 'isfinite',\n",
              " 'isinf',\n",
              " 'isnan',\n",
              " 'log',\n",
              " 'log10',\n",
              " 'nan',\n",
              " 'nanj',\n",
              " 'phase',\n",
              " 'pi',\n",
              " 'polar',\n",
              " 'rect',\n",
              " 'sin',\n",
              " 'sinh',\n",
              " 'sqrt',\n",
              " 'tan',\n",
              " 'tanh',\n",
              " 'tau']"
            ]
          },
          "metadata": {},
          "execution_count": 1
        }
      ]
    },
    {
      "cell_type": "code",
      "source": [
        "import cmath\n",
        "a= complex(4,7)\n",
        "print(\"Complex number is:\",a)\n",
        "print(\"Sine of the complex number is:\",cmath.sin(a))\n",
        "print(\"Cosine of the complex number is:\",cmath.cos(a))\n",
        "print(\"Tangent of the complex number is:\",cmath.tan(a))\n",
        "print(\"Inverse Sine of the complex number is:\",cmath.asin(a))\n",
        "print(\"Inverse Cosine of the complex number is:\",cmath.acos(a))\n",
        "print(\"Inverse Tangent of the complex number is:\",cmath.atan(a))"
      ],
      "metadata": {
        "colab": {
          "base_uri": "https://localhost:8080/"
        },
        "id": "HSL6YymueKvf",
        "outputId": "e1742624-13f5-42b7-cb84-c77995876b82"
      },
      "execution_count": null,
      "outputs": [
        {
          "output_type": "stream",
          "name": "stdout",
          "text": [
            "Complex number is: (4+7j)\n",
            "Sine of the complex number is: (-414.96770042530943-358.4033361942234j)\n",
            "Cosine of the complex number is: (-358.40393224005317+414.96701031076253j)\n",
            "Tangent of the complex number is: (1.6453599892332885e-06+1.000000241973589j)\n",
            "Inverse Sine of the complex number is: (0.5158519091936864+2.782304040344133j)\n",
            "Inverse Cosine of the complex number is: (1.0549444176012102-2.782304040344133j)\n",
            "Inverse Tangent of the complex number is: (1.508618829521516+0.10769572902311356j)\n"
          ]
        }
      ]
    },
    {
      "cell_type": "code",
      "source": [
        "print(\"a:\",a)\n",
        "b=complex(5,8)\n",
        "print(\"b:\",b)\n",
        "c=a+b\n",
        "d=b+a\n",
        "print(\"a+b:\",c)\n",
        "print(\"b+a\",d)\n",
        "if c==d:\n",
        "  print(\"They are commutative w.r.t. addition!\")\n",
        "else:\n",
        "  print(\"They are not commutative w.r.t. addition!\")\n",
        "e=a*b\n",
        "f=b*a\n",
        "print(\"a*b:\",e)\n",
        "print(\"b*a:\",f)\n",
        "if e==f:\n",
        "  print(\"They are commutative w.r.t. multiplication!\")  \n",
        "else:\n",
        "  print(\"They are not commutative w.r.t. multiplication!\")\n",
        "g=complex(6,9)\n",
        "print(\"g:\",g)\n",
        "h=(a+b)+g\n",
        "j=a+(b+g)\n",
        "print(\"(a+b)+g:\",h)\n",
        "print(\"a+(b+g):\",j)\n",
        "if h==j:\n",
        "  print(\"They are associative w.r.t. addition!\")\n",
        "else:\n",
        "  print(\"They are not associative w.r.t. addition!\")\n",
        "k=(a*b)*g\n",
        "l=a*(b*g)\n",
        "print(\"(a*b)*g:\",k)\n",
        "print(\"a*(b*g):\",l)\n",
        "if k==l:\n",
        "  print(\"They are associative w.r.t. multiplication!\")\n",
        "else:\n",
        "  print(\"They are not associative w.r.t. multiplication!\")"
      ],
      "metadata": {
        "colab": {
          "base_uri": "https://localhost:8080/"
        },
        "id": "5MBCfvdBedIn",
        "outputId": "596b48da-6d56-4a2a-ea6f-2846f8b2be9b"
      },
      "execution_count": null,
      "outputs": [
        {
          "output_type": "stream",
          "name": "stdout",
          "text": [
            "a: (4+7j)\n",
            "b: (5+8j)\n",
            "a+b: (9+15j)\n",
            "b+a (9+15j)\n",
            "They are commutative w.r.t. addition!\n",
            "a*b: (-36+67j)\n",
            "b*a: (-36+67j)\n",
            "They are commutative w.r.t. multiplication!\n",
            "g: (6+9j)\n",
            "(a+b)+g: (15+24j)\n",
            "a+(b+g): (15+24j)\n",
            "They are associative w.r.t. addition!\n",
            "(a*b)*g: (-819+78j)\n",
            "a*(b*g): (-819+78j)\n",
            "They are associative w.r.t. multiplication!\n"
          ]
        }
      ]
    },
    {
      "cell_type": "code",
      "source": [
        "m=complex(input(\"Enter complex number:\"))\n",
        "print(\"Absolute value:\",abs(m))"
      ],
      "metadata": {
        "colab": {
          "base_uri": "https://localhost:8080/"
        },
        "id": "lEO-M0UXh2CT",
        "outputId": "59c98f87-4005-40d0-e4aa-c2a890ba3a34"
      },
      "execution_count": null,
      "outputs": [
        {
          "output_type": "stream",
          "name": "stdout",
          "text": [
            "Enter complex number:7+10j\n",
            "Absolute value: 12.206555615733702\n"
          ]
        }
      ]
    },
    {
      "cell_type": "markdown",
      "source": [
        "#Day 5"
      ],
      "metadata": {
        "id": "8AVkNwBjxT2T"
      }
    },
    {
      "cell_type": "code",
      "source": [
        "import cmath\n",
        "z=1+1j\n",
        "print(cmath.phase(z))\n",
        "cmath.atan(z.imag/z.real)"
      ],
      "metadata": {
        "colab": {
          "base_uri": "https://localhost:8080/"
        },
        "id": "dVrR5KlSxWDb",
        "outputId": "889c9e83-9a1d-4044-902e-39a532df14fa"
      },
      "execution_count": null,
      "outputs": [
        {
          "output_type": "stream",
          "name": "stdout",
          "text": [
            "0.7853981633974483\n"
          ]
        },
        {
          "output_type": "execute_result",
          "data": {
            "text/plain": [
              "(0.7853981633974483+0j)"
            ]
          },
          "metadata": {},
          "execution_count": 2
        }
      ]
    },
    {
      "cell_type": "markdown",
      "source": [
        "If we know the modulus and phase of a complex number i.e. If we know the polar coordinates of a complex number, we can obtain the complex number using the rect() method. The form $z=a+bi$ or $z=(rcos \\theta, rsin \\theta)$ is called the rectangular coordinate form of a complex number. The rect() method takes the modulus as the first argument and phase of the complex number as the second argument and returns the corresponding complex number as follows."
      ],
      "metadata": {
        "id": "9CnD2GJZ4o_X"
      }
    },
    {
      "cell_type": "markdown",
      "source": [
        "Write a python program to input a complex number from user and prove the following for the same, \"The sum of two conjugate complex numbers is real.\""
      ],
      "metadata": {
        "id": "qUnmJfS6519b"
      }
    },
    {
      "cell_type": "code",
      "source": [
        "import cmath\n",
        "import numpy\n",
        "z1=complex(input(\"Enter a complex number:\"))\n",
        "z1_c=numpy.conj(z1)\n",
        "x=z1+z1_c\n",
        "if(x.imag==0):\n",
        "  print(\"The sum of 2 conjugate complex numbers is real.\")"
      ],
      "metadata": {
        "colab": {
          "base_uri": "https://localhost:8080/"
        },
        "id": "hPlX3NkT4jv1",
        "outputId": "d96bc34d-e1fb-4111-d943-0c9c0b41269b"
      },
      "execution_count": null,
      "outputs": [
        {
          "output_type": "stream",
          "name": "stdout",
          "text": [
            "Enter a complex number:3+4j\n",
            "The sum of 2 conjugate complex numbers is real.\n"
          ]
        }
      ]
    },
    {
      "cell_type": "markdown",
      "source": [
        "Prove that for any two complex numbers $|z_1 + z_2| <= |z_1| + |z_2|$, for two complex numbers $z_1$ and $z_2$"
      ],
      "metadata": {
        "id": "CsD4uYTI8SFW"
      }
    },
    {
      "cell_type": "code",
      "source": [
        "z=complex(input(\"Enter a complex number:\"))\n",
        "z1=complex(input(\"Enter another complex number:\"))\n",
        "z3=z+z1\n",
        "z4=abs(z)+abs(z1)\n",
        "if(abs(z3)<=z4):\n",
        "  print(\"The property |z1+z2|<|z1|+|z2| is true\")"
      ],
      "metadata": {
        "colab": {
          "base_uri": "https://localhost:8080/"
        },
        "id": "nX5aOfX78RVo",
        "outputId": "53671acb-2896-4a92-8bf0-c0da62ec4c20"
      },
      "execution_count": null,
      "outputs": [
        {
          "output_type": "stream",
          "name": "stdout",
          "text": [
            "Enter a complex number:4+5j\n",
            "Enter another complex number:5+6j\n",
            "The property |z1+z2|<|z1|+|z2| is true\n"
          ]
        }
      ]
    },
    {
      "cell_type": "markdown",
      "source": [
        "#Day 6"
      ],
      "metadata": {
        "id": "N9klj1dkbM0O"
      }
    },
    {
      "cell_type": "code",
      "source": [
        "import cmath as cm\n",
        "z=complex(input(\"Enter the complex number:\"))\n",
        "print(\"Manually computed e^z:\",cm.exp(z.real)*cm.exp(z.imag))\n",
        "print(\"Computed using cmath:\",cm.exp(z))"
      ],
      "metadata": {
        "colab": {
          "base_uri": "https://localhost:8080/"
        },
        "id": "gxiGSQrQbQuE",
        "outputId": "080f542e-400d-4759-cd36-9f18c9b89590"
      },
      "execution_count": null,
      "outputs": [
        {
          "output_type": "stream",
          "name": "stdout",
          "text": [
            "Enter the complex number:3+4j\n",
            "Manually computed e^z: (1096.6331584284585+0j)\n",
            "Computed using cmath: (-13.128783081462158-15.200784463067954j)\n"
          ]
        }
      ]
    },
    {
      "cell_type": "markdown",
      "source": [
        "Out of the three points, $z_1=2.5+1.9j$ , $z_2=1.5−2.9j$ and $z_3=−2+2.2j$ , find the point which is farthest away from the origin."
      ],
      "metadata": {
        "id": "K282BLNVgctL"
      }
    },
    {
      "cell_type": "code",
      "source": [
        "from math import sqrt\n",
        "def findDist(p1,p2):\n",
        "  return sqrt((0-p2.real)**2+(0-p2.imag)**2)\n",
        "z1=complex(2.5+1.9j)\n",
        "z2=complex(1.5-2.9j)\n",
        "z3=complex(-2+2.2j)\n",
        "dist1=findDist(0,z1)\n",
        "dist2=findDist(0,z2)\n",
        "dist3=findDist(0,z3)\n",
        "if dist1>dist2:\n",
        "  if dist1>dist3:\n",
        "    print(z1,'is the farthest from the origin.')\n",
        "  else:\n",
        "    print(z3,'is the farthest from the origin.')\n",
        "else:\n",
        "  if dist2>dist3:\n",
        "    print(z2,'is the farthest from the origin.')\n",
        "  else:\n",
        "    print(z3,'is the fathest from the origin.')"
      ],
      "metadata": {
        "colab": {
          "base_uri": "https://localhost:8080/"
        },
        "id": "8oGl66vygleL",
        "outputId": "290ad35e-d00d-4ecb-de2d-0a35e59f58de"
      },
      "execution_count": null,
      "outputs": [
        {
          "output_type": "stream",
          "name": "stdout",
          "text": [
            "(1.5-2.9j) is the farthest from the origin.\n"
          ]
        }
      ]
    },
    {
      "cell_type": "markdown",
      "source": [
        "If $a+ib=\\frac{3−i}{2+3i}+\\frac{2−2i}{1−5i}$ , find a and b.\n",
        "\n",
        "> Indented block\n",
        "\n"
      ],
      "metadata": {
        "id": "GO7aZ___jQp2"
      }
    },
    {
      "cell_type": "code",
      "source": [
        "c=complex(3-1j)\n",
        "d=complex(2+3j)\n",
        "e=complex(2-2j)\n",
        "f=complex(1-5j)\n",
        "g=complex(c/d+e/f)\n",
        "print('a:',g.real,'\\nb:',g.imag)"
      ],
      "metadata": {
        "colab": {
          "base_uri": "https://localhost:8080/"
        },
        "id": "cQbrCNcejULP",
        "outputId": "21d2f18c-5be2-4eba-b77b-58f0469e0682"
      },
      "execution_count": null,
      "outputs": [
        {
          "output_type": "stream",
          "name": "stdout",
          "text": [
            "a: 0.6923076923076923 \n",
            "b: -0.5384615384615384\n"
          ]
        }
      ]
    },
    {
      "cell_type": "code",
      "source": [
        "z=complex(input('Enter a complex number:'))\n",
        "import matplotlib.pyplot as plt\n",
        "plt.scatter(z.real,z.imag)\n",
        "plt.show()"
      ],
      "metadata": {
        "colab": {
          "base_uri": "https://localhost:8080/",
          "height": 282
        },
        "id": "Y_mbLfRSlAbT",
        "outputId": "8ea3ca39-67e2-434c-a18d-8a1417427c1a"
      },
      "execution_count": null,
      "outputs": [
        {
          "name": "stdout",
          "output_type": "stream",
          "text": [
            "Enter a complex number:6+7j\n"
          ]
        },
        {
          "output_type": "display_data",
          "data": {
            "image/png": "[encoded data removed]",
            "text/plain": [
              "<Figure size 432x288 with 1 Axes>"
            ]
          },
          "metadata": {
            "needs_background": "light"
          }
        }
      ]
    },
    {
      "cell_type": "markdown",
      "source": [
        "#Day 7"
      ],
      "metadata": {
        "id": "FkgptuFw3VQb"
      }
    },
    {
      "cell_type": "markdown",
      "source": [
        "Plot a set of complex numbers"
      ],
      "metadata": {
        "id": "qH1eUjkN3kkY"
      }
    },
    {
      "cell_type": "code",
      "source": [
        "import matplotlib.pyplot as plt\n",
        "n=int(input(\"Enter the number of complex numbers: \"))\n",
        "i=0\n",
        "lis=[]\n",
        "while(i<n):\n",
        "  z = complex(input(\">>\"))\n",
        "  lis.append(z)\n",
        "  plt.scatter(lis[i].real,lis[i].imag)\n",
        "  i=i+1\n",
        "plt.grid()\n",
        "plt.show()"
      ],
      "metadata": {
        "colab": {
          "base_uri": "https://localhost:8080/",
          "height": 369
        },
        "id": "hePc4A8j3gCb",
        "outputId": "890b7c27-b879-4981-d6c6-1ee130e5b6a3"
      },
      "execution_count": null,
      "outputs": [
        {
          "name": "stdout",
          "output_type": "stream",
          "text": [
            "Enter the number of complex numbers: 5\n",
            ">>8+9j\n",
            ">>9+10j\n",
            ">>10+11j\n",
            ">>11+12j\n",
            ">>12+13j\n"
          ]
        },
        {
          "output_type": "display_data",
          "data": {
            "image/png": "[encoded data removed]",
            "text/plain": [
              "<Figure size 432x288 with 1 Axes>"
            ]
          },
          "metadata": {
            "needs_background": "light"
          }
        }
      ]
    },
    {
      "cell_type": "markdown",
      "source": [
        "Plot the cube roots of Unity"
      ],
      "metadata": {
        "id": "K6B0yTfz6MH4"
      }
    },
    {
      "cell_type": "code",
      "source": [
        "import matplotlib.pyplot as plt\n",
        "import math as m\n",
        "z1=1+0j\n",
        "z2=-1/2-m.sqrt(3)/2\n",
        "z3=-1/2+m.sqrt(3)/2\n",
        "plt.scatter(z1.real,z1.imag)\n",
        "plt.scatter(z2.real,z2.imag)\n",
        "plt.scatter(z3.real,z3.imag)\n",
        "plt.grid()\n",
        "plt.show()"
      ],
      "metadata": {
        "colab": {
          "base_uri": "https://localhost:8080/",
          "height": 265
        },
        "id": "F57Mbk7l6PQe",
        "outputId": "50c85985-9fe5-4202-f00e-04249169f934"
      },
      "execution_count": null,
      "outputs": [
        {
          "output_type": "display_data",
          "data": {
            "image/png": "[encoded data removed]",
            "text/plain": [
              "<Figure size 432x288 with 1 Axes>"
            ]
          },
          "metadata": {
            "needs_background": "light"
          }
        }
      ]
    },
    {
      "cell_type": "markdown",
      "source": [
        "#Day 8"
      ],
      "metadata": {
        "id": "4TnANT1t4F8D"
      }
    },
    {
      "cell_type": "code",
      "source": [
        "#nothing new"
      ],
      "metadata": {
        "id": "AZCJLbS54IVT"
      },
      "execution_count": null,
      "outputs": []
    },
    {
      "cell_type": "markdown",
      "source": [
        "#Day 9"
      ],
      "metadata": {
        "id": "ph66inaBk5C8"
      }
    },
    {
      "cell_type": "code",
      "source": [
        "from math import *\n",
        "from sympy import *\n",
        "x=symbols(\"x\")\n",
        "f=x**2+2*x+1\n",
        "diff_x=diff(f,x,1)\n",
        "print(diff_x)"
      ],
      "metadata": {
        "colab": {
          "base_uri": "https://localhost:8080/"
        },
        "id": "KXEhr5fak69y",
        "outputId": "88e6602a-954c-450c-cb81-b8a93794b41a"
      },
      "execution_count": null,
      "outputs": [
        {
          "output_type": "stream",
          "name": "stdout",
          "text": [
            "2*x + 2\n"
          ]
        }
      ]
    },
    {
      "cell_type": "markdown",
      "source": [
        "A  function is said to be analytic if it satisfies both of the Cauchy Riemann equations givrn below."
      ],
      "metadata": {
        "id": "pCCf_q0KlmSW"
      }
    },
    {
      "cell_type": "markdown",
      "source": [
        "1. Check if f(z) = x^2-y^2 +2xyi is analytic."
      ],
      "metadata": {
        "id": "CJ6rvqrRlxYf"
      }
    },
    {
      "cell_type": "code",
      "source": [
        "from math import *\n",
        "from sympy import *\n",
        "x=symbols(\"x\")\n",
        "y=symbols(\"y\")\n",
        "i=symbols(\"i\")"
      ],
      "metadata": {
        "id": "JvKGEPATl6_c"
      },
      "execution_count": null,
      "outputs": []
    },
    {
      "cell_type": "code",
      "source": [
        "u=x**2-y**2\n",
        "v=2*x*y\n",
        "print(\"Given expression f(z):\",u,\"+i\",v)\n",
        "diff_ux=diff(u,x,1)\n",
        "print(\"\\nDerivative of u wrt x:\",diff_ux)\n",
        "diff_uy=diff(u,y,1)\n",
        "print(\"\\nDerivative of u wrt y:\",diff_uy)\n",
        "diff_vx=diff(v,x,1)\n",
        "print(\"\\nDerivative of v wrt x:\",diff_vx)\n",
        "diff_vy=diff(v,y,1)\n",
        "print(\"\\nDerivatie of v wrt y:\",diff_vy)\n",
        "if diff_ux==diff_vy and diff_uy==-diff_vx:\n",
        "  print(\"\\nAnalytic function\")\n",
        "else:\n",
        "  print(\"\\nNot an analytic function\")"
      ],
      "metadata": {
        "colab": {
          "base_uri": "https://localhost:8080/"
        },
        "id": "tXMeC6aBmYCU",
        "outputId": "1cc8a90e-bc86-4e44-d777-45e919c081c4"
      },
      "execution_count": null,
      "outputs": [
        {
          "output_type": "stream",
          "name": "stdout",
          "text": [
            "Given expression f(z): x**2 - y**2 +i 2*x*y\n",
            "\n",
            "Derivative of u wrt x: 2*x\n",
            "\n",
            "Derivative of u wrt y: -2*y\n",
            "\n",
            "Derivative of v wrt x: 2*y\n",
            "\n",
            "Derivatie of v wrt y: 2*x\n",
            "\n",
            "Analytic function\n"
          ]
        }
      ]
    },
    {
      "cell_type": "markdown",
      "source": [
        "2. Check if f(z)=2xy+2xi is analytic."
      ],
      "metadata": {
        "id": "Gtvd8yz1oECg"
      }
    },
    {
      "cell_type": "code",
      "source": [
        "from math import *\n",
        "from sympy import *\n",
        "x=symbols(\"x\")\n",
        "y=symbols(\"y\")\n",
        "i=symbols(\"i\")\n",
        "u=2*x*y\n",
        "v=2*x\n",
        "print(\"Given expression f(z):\",u,\"+i\",v)\n",
        "diff_ux=diff(u,x,1)\n",
        "print(\"\\nDerivative of u wrt x:\",diff_ux)\n",
        "diff_uy=diff(u,y,1)\n",
        "print(\"\\nDerivative of u wrt y:\",diff_uy)\n",
        "diff_vx=diff(v,x,1)\n",
        "print(\"\\nDerivative of v wrt x:\",diff_vx)\n",
        "diff_vy=diff(v,y,1)\n",
        "print(\"\\nDerivatie of v wrt y:\",diff_vy)\n",
        "if diff_ux==diff_vy and diff_uy==-diff_vx:\n",
        "  print(\"\\nAnalytic function\")\n",
        "else:\n",
        "  print(\"\\nNot an analytic function\")"
      ],
      "metadata": {
        "colab": {
          "base_uri": "https://localhost:8080/"
        },
        "id": "iQ5kWaPinGJ6",
        "outputId": "1666c03b-4c8c-4165-fedf-116282552878"
      },
      "execution_count": null,
      "outputs": [
        {
          "output_type": "stream",
          "name": "stdout",
          "text": [
            "Given expression f(z): 2*x*y +i 2*x\n",
            "\n",
            "Derivative of u wrt x: 2*y\n",
            "\n",
            "Derivative of u wrt y: 2*x\n",
            "\n",
            "Derivative of v wrt x: 2\n",
            "\n",
            "Derivatie of v wrt y: 0\n",
            "\n",
            "Not an analytic function\n"
          ]
        }
      ]
    },
    {
      "cell_type": "markdown",
      "source": [
        "3. Check if the following functions ar analytic or not:<br>\n",
        "$f(z)=\\frac{(x-iy)}{(x^2+y^2)}$"
      ],
      "metadata": {
        "id": "1HL5q5CKompO"
      }
    },
    {
      "cell_type": "code",
      "source": [
        "from math import *\n",
        "from sympy import *\n",
        "x,y,i=symbols(\"x,y,i\")\n",
        "u=x/(x**2+y**2)\n",
        "v=-y/(x**2+y**2)\n",
        "print(\"Given expression f(z):\",u,\"+i\",v)\n",
        "diff_ux=diff(u,x,1)\n",
        "print(\"\\nDerivative of u wrt x:\",diff_ux)\n",
        "diff_uy=diff(u,y,1)\n",
        "print(\"\\nDerivative of u wrt y:\",diff_uy)\n",
        "diff_vx=diff(v,x,1)\n",
        "print(\"\\nDerivative of v wrt x:\",diff_vx)\n",
        "diff_vy=diff(v,y,1)\n",
        "print(\"\\nDerivatie of v wrt y:\",diff_vy)\n",
        "if diff_ux==diff_vy and diff_uy==-diff_vx:\n",
        "  print(\"\\nAnalytic function\")\n",
        "else:\n",
        "  print(\"\\nNot an analytic function\")"
      ],
      "metadata": {
        "colab": {
          "base_uri": "https://localhost:8080/"
        },
        "id": "VsOSVPcCoyZO",
        "outputId": "5490cc36-2ed2-4281-f5a7-03fbd283b221"
      },
      "execution_count": null,
      "outputs": [
        {
          "output_type": "stream",
          "name": "stdout",
          "text": [
            "Given expression f(z): x/(x**2 + y**2) +i -y/(x**2 + y**2)\n",
            "\n",
            "Derivative of u wrt x: -2*x**2/(x**2 + y**2)**2 + 1/(x**2 + y**2)\n",
            "\n",
            "Derivative of u wrt y: -2*x*y/(x**2 + y**2)**2\n",
            "\n",
            "Derivative of v wrt x: 2*x*y/(x**2 + y**2)**2\n",
            "\n",
            "Derivatie of v wrt y: 2*y**2/(x**2 + y**2)**2 - 1/(x**2 + y**2)\n",
            "\n",
            "Not an analytic function\n"
          ]
        }
      ]
    },
    {
      "cell_type": "markdown",
      "source": [
        "4. Check if the following function is analytic or not:<br>$f(z)=2x+ixy^2$"
      ],
      "metadata": {
        "id": "_uZuo6Jlq2lZ"
      }
    },
    {
      "cell_type": "code",
      "source": [
        "from math import *\n",
        "from sympy import *\n",
        "x,y,i=symbols(\"x,y,i\")\n",
        "u=2*x\n",
        "v=x*y**2\n",
        "print(\"Given expression f(z):\",u,\"+i\",v)\n",
        "diff_ux=diff(u,x,1)\n",
        "print(\"\\nDerivative of u wrt x:\",diff_ux)\n",
        "diff_uy=diff(u,y,1)\n",
        "print(\"\\nDerivative of u wrt y:\",diff_uy)\n",
        "diff_vx=diff(v,x,1)\n",
        "print(\"\\nDerivative of v wrt x:\",diff_vx)\n",
        "diff_vy=diff(v,y,1)\n",
        "print(\"\\nDerivatie of v wrt y:\",diff_vy)\n",
        "if diff_ux==diff_vy and diff_uy==-diff_vx:\n",
        "  print(\"\\nAnalytic function\")\n",
        "else:\n",
        "  print(\"\\nNot an analytic function\")"
      ],
      "metadata": {
        "colab": {
          "base_uri": "https://localhost:8080/"
        },
        "id": "u0-LIs2osaGo",
        "outputId": "1761fa20-5937-4d0e-d031-07a54c33d94c"
      },
      "execution_count": null,
      "outputs": [
        {
          "output_type": "stream",
          "name": "stdout",
          "text": [
            "Given expression f(z): 2*x +i x*y**2\n",
            "\n",
            "Derivative of u wrt x: 2\n",
            "\n",
            "Derivative of u wrt y: 0\n",
            "\n",
            "Derivative of v wrt x: y**2\n",
            "\n",
            "Derivatie of v wrt y: 2*x*y\n",
            "\n",
            "Not an analytic function\n"
          ]
        }
      ]
    },
    {
      "cell_type": "markdown",
      "source": [
        "5. Check if the following function is analytic or not:<br>$f(z)=xy+iy$"
      ],
      "metadata": {
        "id": "2hlDTynHqPLM"
      }
    },
    {
      "cell_type": "code",
      "source": [
        "from math import *\n",
        "from sympy import *\n",
        "x,y,i=symbols(\"x,y,i\")\n",
        "u=x*y\n",
        "v=y\n",
        "print(\"Given expression f(z):\",u,\"+i\",v)\n",
        "diff_ux=diff(u,x,1)\n",
        "print(\"\\nDerivative of u wrt x:\",diff_ux)\n",
        "diff_uy=diff(u,y,1)\n",
        "print(\"\\nDerivative of u wrt y:\",diff_uy)\n",
        "diff_vx=diff(v,x,1)\n",
        "print(\"\\nDerivative of v wrt x:\",diff_vx)\n",
        "diff_vy=diff(v,y,1)\n",
        "print(\"\\nDerivatie of v wrt y:\",diff_vy)\n",
        "if diff_ux==diff_vy and diff_uy==-diff_vx:\n",
        "  print(\"\\nAnalytic function\")\n",
        "else:\n",
        "  print(\"\\nNot an analytic function\")"
      ],
      "metadata": {
        "colab": {
          "base_uri": "https://localhost:8080/"
        },
        "id": "5-o4by22qdiO",
        "outputId": "fba529bf-855a-4f96-bed9-8888085d39ed"
      },
      "execution_count": null,
      "outputs": [
        {
          "output_type": "stream",
          "name": "stdout",
          "text": [
            "Given expression f(z): x*y +i y\n",
            "\n",
            "Derivative of u wrt x: y\n",
            "\n",
            "Derivative of u wrt y: x\n",
            "\n",
            "Derivative of v wrt x: 0\n",
            "\n",
            "Derivatie of v wrt y: 1\n",
            "\n",
            "Not an analytic function\n"
          ]
        }
      ]
    },
    {
      "cell_type": "markdown",
      "source": [
        "6. Check if the following function is analytic or not:<br>\n",
        "$f(z)=u(x,y)+iv(x,y)$<br>\n",
        "(a)$f(z)=x^3-3ix^2y-3xy^2+iy^3$<br>\n",
        "(b)$f(z)=(y^3-3x^2*y+2xy+2x^2-2y^2)+i(x^3-3xy^2+4xy-x^2+y^2)$<br>\n",
        "(c)$f(z)=(x+y-2xy)+i(-x+x^2-y^2+y)$"
      ],
      "metadata": {
        "id": "LgdKOdu2rGnQ"
      }
    },
    {
      "cell_type": "code",
      "source": [
        "from math import *\n",
        "from sympy import *\n",
        "x,y,i=symbols(\"x,y,i\")\n",
        "print(\"A\")\n",
        "u=x**3-3*x*y**2\n",
        "v=-3*x**2*y+y**3\n",
        "print(\"\\nGiven expression f(z):\",u,\"+i\",v)\n",
        "diff_ux=diff(u,x,1)\n",
        "print(\"\\nDerivative of u wrt x:\",diff_ux)\n",
        "diff_uy=diff(u,y,1)\n",
        "print(\"\\nDerivative of u wrt y:\",diff_uy)\n",
        "diff_vx=diff(v,x,1)\n",
        "print(\"\\nDerivative of v wrt x:\",diff_vx)\n",
        "diff_vy=diff(v,y,1)\n",
        "print(\"\\nDerivatie of v wrt y:\",diff_vy)\n",
        "if diff_ux==diff_vy and diff_uy==-diff_vx:\n",
        "  print(\"\\nAnalytic function\")\n",
        "else:\n",
        "  print(\"\\nNot an analytic function\")\n",
        "print(\"\\nB\")\n",
        "u=y**3-3*x**2*y+2*x*y+2*x**2-2*y**2\n",
        "v=x**3-3*x*y**2+4*x*y-x**2+y**2\n",
        "print(\"\\nGiven expression f(z):\",u,\"+i\",v)\n",
        "diff_ux=diff(u,x,1)\n",
        "print(\"\\nDerivative of u wrt x:\",diff_ux)\n",
        "diff_uy=diff(u,y,1)\n",
        "print(\"\\nDerivative of u wrt y:\",diff_uy)\n",
        "diff_vx=diff(v,x,1)\n",
        "print(\"\\nDerivative of v wrt x:\",diff_vx)\n",
        "diff_vy=diff(v,y,1)\n",
        "print(\"\\nDerivatie of v wrt y:\",diff_vy)\n",
        "if diff_ux==diff_vy and diff_uy==-diff_vx:\n",
        "  print(\"\\nAnalytic function\")\n",
        "else:\n",
        "  print(\"\\nNot an analytic function\")\n",
        "print(\"\\nC\")\n",
        "u=x+y-2*x*y\n",
        "v=-x+x**2-y**2+y\n",
        "print(\"\\nGiven expression f(z):\",u,\"+i\",v)\n",
        "diff_ux=diff(u,x,1)\n",
        "print(\"\\nDerivative of u wrt x:\",diff_ux)\n",
        "diff_uy=diff(u,y,1)\n",
        "print(\"\\nDerivative of u wrt y:\",diff_uy)\n",
        "diff_vx=diff(v,x,1)\n",
        "print(\"\\nDerivative of v wrt x:\",diff_vx)\n",
        "diff_vy=diff(v,y,1)\n",
        "print(\"\\nDerivatie of v wrt y:\",diff_vy)\n",
        "if diff_ux==diff_vy and diff_uy==-diff_vx:\n",
        "  print(\"\\nAnalytic function\")\n",
        "else:\n",
        "  print(\"\\nNot an analytic function\")"
      ],
      "metadata": {
        "colab": {
          "base_uri": "https://localhost:8080/"
        },
        "id": "mj6ltufKsixL",
        "outputId": "f748bceb-656e-40ac-9ea6-410c03cc02a3"
      },
      "execution_count": null,
      "outputs": [
        {
          "output_type": "stream",
          "name": "stdout",
          "text": [
            "A\n",
            "\n",
            "Given expression f(z): x**3 - 3*x*y**2 +i -3*x**2*y + y**3\n",
            "\n",
            "Derivative of u wrt x: 3*x**2 - 3*y**2\n",
            "\n",
            "Derivative of u wrt y: -6*x*y\n",
            "\n",
            "Derivative of v wrt x: -6*x*y\n",
            "\n",
            "Derivatie of v wrt y: -3*x**2 + 3*y**2\n",
            "\n",
            "Not an analytic function\n",
            "\n",
            "B\n",
            "\n",
            "Given expression f(z): -3*x**2*y + 2*x**2 + 2*x*y + y**3 - 2*y**2 +i x**3 - x**2 - 3*x*y**2 + 4*x*y + y**2\n",
            "\n",
            "Derivative of u wrt x: -6*x*y + 4*x + 2*y\n",
            "\n",
            "Derivative of u wrt y: -3*x**2 + 2*x + 3*y**2 - 4*y\n",
            "\n",
            "Derivative of v wrt x: 3*x**2 - 2*x - 3*y**2 + 4*y\n",
            "\n",
            "Derivatie of v wrt y: -6*x*y + 4*x + 2*y\n",
            "\n",
            "Analytic function\n",
            "\n",
            "C\n",
            "\n",
            "Given expression f(z): -2*x*y + x + y +i x**2 - x - y**2 + y\n",
            "\n",
            "Derivative of u wrt x: 1 - 2*y\n",
            "\n",
            "Derivative of u wrt y: 1 - 2*x\n",
            "\n",
            "Derivative of v wrt x: 2*x - 1\n",
            "\n",
            "Derivatie of v wrt y: 1 - 2*y\n",
            "\n",
            "Analytic function\n"
          ]
        }
      ]
    },
    {
      "cell_type": "markdown",
      "source": [
        "#Day 10"
      ],
      "metadata": {
        "id": "hEOTgbV9k58z"
      }
    },
    {
      "cell_type": "code",
      "source": [
        "from matplotlib.pyplot import *\n",
        "from numpy import *\n",
        "figure(figsize=(10,10))\n",
        "z1_rect=10\n",
        "print(\"angle of z1:\",angle(z1_rect))\n",
        "print(\"abs of z1:\",abs(z1_rect))\n",
        "polar(angle(z1_rect),abs(z1_rect),marker='*',color='green')\n",
        "show()"
      ],
      "metadata": {
        "id": "kUW06NX0k_3L",
        "colab": {
          "base_uri": "https://localhost:8080/",
          "height": 647
        },
        "outputId": "cb00198f-309b-4553-e428-81ad857569e6"
      },
      "execution_count": null,
      "outputs": [
        {
          "output_type": "stream",
          "name": "stdout",
          "text": [
            "angle of z1: 0.0\n",
            "abs of z1: 10\n"
          ]
        },
        {
          "output_type": "display_data",
          "data": {
            "image/png": "[encoded data removed]",
            "text/plain": [
              "<Figure size 720x720 with 1 Axes>"
            ]
          },
          "metadata": {
            "needs_background": "light"
          }
        }
      ]
    },
    {
      "cell_type": "code",
      "source": [
        "z2_rect=z1_rect\n",
        "dist=abs(z1_rect*z2_rect)\n",
        "print(dist)"
      ],
      "metadata": {
        "colab": {
          "base_uri": "https://localhost:8080/"
        },
        "id": "OxXNowEDzd5n",
        "outputId": "5c7cb3c3-11b2-4102-95c6-3838f10b052e"
      },
      "execution_count": null,
      "outputs": [
        {
          "output_type": "stream",
          "name": "stdout",
          "text": [
            "100\n"
          ]
        }
      ]
    },
    {
      "cell_type": "markdown",
      "source": [
        "#Day 11"
      ],
      "metadata": {
        "id": "3RE_eIDwvxGb"
      }
    },
    {
      "cell_type": "code",
      "source": [
        "from sympy import *\n",
        "def conjugate():\n",
        "  x,y,c=symbols(\"x,y,c\")\n",
        "  f=input(\"Enter the functions:\")\n",
        "  print(\"\")\n",
        "  dx2=diff(f,x,2)\n",
        "  dy2=diff(f,y,2)\n",
        "  if dx2+dy2==0:\n",
        "    print(\"The function is\",f,\"is harmonic\")\n",
        "    dvx=diff(f,x)\n",
        "    dvy=diff(f,y)\n",
        "    ivx=-integrate(dvx,y)\n",
        "    ivy=integrate(dvy,x)\n",
        "    v=ivx+ivy\n",
        "    print(\"The harmonic conjugate of u is\")\n",
        "    display(v)\n",
        "  else:\n",
        "    print(\"The function\",f,\"is not harmonic\")"
      ],
      "metadata": {
        "id": "G5vL4-9bvzx7"
      },
      "execution_count": null,
      "outputs": []
    },
    {
      "cell_type": "code",
      "source": [
        "from math import *\n",
        "from sympy import * \n",
        "import math\n",
        "def conjugate():\n",
        "    x,y,c=symbols(\"x,y,c\")\n",
        "    f=input(\"Enter the function u:\")\n",
        "    print(\"\")\n",
        "    dx2=diff(f,x,2)\n",
        "    dy2=diff(f,y,2)\n",
        "    if dx2+dy2==0:\n",
        "        print(\"The function\",f,\"is harmonic.\")\n",
        "        dux=diff(f,x)\n",
        "        duy=diff(f,y)\n",
        "        iv=integrate(-duy,x)\n",
        "        vy=diff(iv,y)\n",
        "        gy=dux-vy\n",
        "        ig=integrate(gy,y)\n",
        "        v=iv+ig\n",
        "        print(\"The harmonic conjugate of u is:\")\n",
        "        display(v)   \n",
        "    else:\n",
        "        print(\"The function\",f,\"is not harmonic\")"
      ],
      "metadata": {
        "id": "96yq_N7Rx4DH"
      },
      "execution_count": null,
      "outputs": []
    },
    {
      "cell_type": "code",
      "source": [
        "conjugate()"
      ],
      "metadata": {
        "colab": {
          "base_uri": "https://localhost:8080/",
          "height": 108
        },
        "id": "9NW9Uyvq2Csj",
        "outputId": "d5597b0a-b749-4db9-9951-2b2f04050a9d"
      },
      "execution_count": null,
      "outputs": [
        {
          "output_type": "stream",
          "name": "stdout",
          "text": [
            "Enter the function u:x^2-y^2\n",
            "\n",
            "The function x^2-y^2 is harmonic.\n",
            "The harmonic conjugate of u is:\n"
          ]
        },
        {
          "output_type": "display_data",
          "data": {
            "text/latex": "$\\displaystyle 2 x y$",
            "text/plain": [
              "2*x*y"
            ]
          },
          "metadata": {}
        }
      ]
    },
    {
      "cell_type": "markdown",
      "source": [
        "#Day 12"
      ],
      "metadata": {
        "id": "eOhC61SdKEiY"
      }
    },
    {
      "cell_type": "code",
      "source": [
        "from sympy import *\n",
        "import numpy\n",
        "import cmath\n",
        "def milnethomson():\n",
        "  x,y,c,z=symbols(\"x,y,c,z\")\n",
        "  f=input(\"Enter the functions:\")\n",
        "  print(\"\")\n",
        "  Ux=diff(f,x,1)\n",
        "  Vx=-diff(f,y,1)\n",
        "  f1=integrate(Ux.subs([(x,z),(y,0)]),z)\n",
        "  f2=integrate(Vx.subs([(x,z),(y,0)]),z)\n",
        "  f1=str(f1)\n",
        "  f2=str(f2)\n",
        "  if(f1.isnumeric==true or f2.isnumeric==true):\n",
        "    F=complex(f1,f2)\n",
        "    print(F)"
      ],
      "metadata": {
        "id": "D3eMN-Y0KGC6"
      },
      "execution_count": null,
      "outputs": []
    },
    {
      "cell_type": "code",
      "source": [
        "milnethomson()"
      ],
      "metadata": {
        "id": "b5GBmR9JOAeu"
      },
      "execution_count": null,
      "outputs": []
    },
    {
      "cell_type": "markdown",
      "source": [
        "#Day 13"
      ],
      "metadata": {
        "id": "co0BwD5mTRtk"
      }
    },
    {
      "cell_type": "code",
      "source": [
        "import sympy\n"
      ],
      "metadata": {
        "id": "ywVrAapUTT6p"
      },
      "execution_count": null,
      "outputs": []
    }
  ]
}