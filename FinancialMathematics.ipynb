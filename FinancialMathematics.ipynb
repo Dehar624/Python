{
  "nbformat": 4,
  "nbformat_minor": 0,
  "metadata": {
    "colab": {
      "name": "1940211_FinancialMathematics.ipynb",
      "provenance": [],
      "collapsed_sections": [
        "QoI7Vk18eSX-",
        "2K_CIhrrS8MX",
        "BjfL6lnUTeTv",
        "Dnspfhn8b2wZ",
        "4PVOnuSpdoST",
        "377FPH9ge3pm",
        "75mNPIO1gANj",
        "aWxeQn997AlT"
      ],
      "authorship_tag": "ABX9TyMF23O7bjqL7p2T1vj0t0iz"
    },
    "kernelspec": {
      "name": "python3",
      "display_name": "Python 3"
    },
    "language_info": {
      "name": "python"
    }
  },
  "cells": [
    {
      "cell_type": "markdown",
      "source": [
        "#Day 1"
      ],
      "metadata": {
        "id": "QoI7Vk18eSX-"
      }
    },
    {
      "cell_type": "markdown",
      "source": [
        "Simple Interest vs Compound Interest"
      ],
      "metadata": {
        "id": "lv2VQoAyeZKH"
      }
    },
    {
      "cell_type": "markdown",
      "source": [
        "SI: a(t) = (1+st)<br>\n",
        "SI: A(T) = Ka(t)<br>\n",
        "CI: a(t) = $(1+i)^{t}$<br>\n",
        "CI: A(t) = Ka(t)"
      ],
      "metadata": {
        "id": "r29_xEIkefzO"
      }
    },
    {
      "cell_type": "code",
      "source": [
        "import numpy as np\n",
        "from matplotlib.pyplot import *\n",
        "from pylab import *"
      ],
      "metadata": {
        "id": "mA5AZiQJeY14"
      },
      "execution_count": null,
      "outputs": []
    },
    {
      "cell_type": "code",
      "execution_count": null,
      "metadata": {
        "colab": {
          "base_uri": "https://localhost:8080/",
          "height": 54
        },
        "id": "M-sM9pineL5c",
        "outputId": "9fec29b4-71ca-4b6a-ff20-aa71482b058b"
      },
      "outputs": [
        {
          "output_type": "display_data",
          "data": {
            "text/plain": [
              "<Figure size 432x288 with 1 Axes>"
            ],
            "image/png": "[encoded data removed]"
          },
          "metadata": {
            "needs_background": "light"
          }
        }
      ],
      "source": [
        "K=1000\n",
        "s=0.08\n",
        "i=s\n",
        "n=10\n",
        "t=linspace(0,n,n)\n",
        "y1=np.ones(len(t))*K\n",
        "y2=K*(1+s*t) #SI:a(t)=(1+st) SI:$A(T)=Ka(t)$\n",
        "y3=K*(1+i)**t\n",
        "xlim(0,11)\n",
        "ylim(800,2200)\n",
        "plot(t,y1,'b--')\n",
        "plot(t,y2,'g--')\n",
        "plot(t,y3,'r--')\n",
        "show()"
      ]
    },
    {
      "cell_type": "markdown",
      "source": [
        "###APR - Annual Percentage Rate<br>\n",
        "$i_n$ = $i^m$<br>\n",
        "EAR - Effective Annual Rate<br>\n",
        "$i_n$ = m * ($(1+i)^(1/m)$)-1<br>\n",
        "i = $(1 + $i^m$/m)^m$ - 1<br>\n",
        "$d^m$ = $i^m$/(1 + $i^m$)"
      ],
      "metadata": {
        "id": "FauVL4Z6jqJ-"
      }
    },
    {
      "cell_type": "code",
      "source": [
        "import math\n",
        "def i_n(i,m):\n",
        "  i_n=(((1+i)**(1/m))-1)*m\n",
        "  return i_n\n",
        "i_n(0.12,2)"
      ],
      "metadata": {
        "colab": {
          "base_uri": "https://localhost:8080/"
        },
        "id": "SaqufRYwmxIP",
        "outputId": "332ba180-14b6-4bfb-8358-15cdfa2036bc"
      },
      "execution_count": null,
      "outputs": [
        {
          "output_type": "execute_result",
          "data": {
            "text/plain": [
              "0.11660104885167266"
            ]
          },
          "metadata": {},
          "execution_count": 3
        }
      ]
    },
    {
      "cell_type": "code",
      "source": [
        "X=[1,2,3,4,6,12,24,365,365*24,365*24*60,365*24*60*60]\n",
        "for x in X:\n",
        "  y11=i_n(0.12,x)\n",
        "  print(y11)"
      ],
      "metadata": {
        "colab": {
          "base_uri": "https://localhost:8080/"
        },
        "id": "ux55x0VbnPy2",
        "outputId": "04d8f874-8359-4eef-f638-f42f0cda66fe"
      },
      "execution_count": null,
      "outputs": [
        {
          "output_type": "stream",
          "name": "stdout",
          "text": [
            "0.1200000000000001\n",
            "0.11660104885167266\n",
            "0.11549646111066236\n",
            "0.11494937888832091\n",
            "0.11440573836312806\n",
            "0.11386551521499655\n",
            "0.11359667760742376\n",
            "0.1133462808142105\n",
            "0.1133294183803013\n",
            "0.11332869750475538\n",
            "0.1133286825663049\n"
          ]
        }
      ]
    },
    {
      "cell_type": "markdown",
      "source": [
        "#Day 2"
      ],
      "metadata": {
        "id": "2K_CIhrrS8MX"
      }
    },
    {
      "cell_type": "code",
      "source": [
        "from array import *\n",
        "y11=[]\n",
        "X=[1,2,3,4,6,12,24,365,365*24,365*24*60,365*24*60*60]\n",
        "for x in X:\n",
        "  y11.append(i_n(0.12, x))\n",
        "  print(y11)"
      ],
      "metadata": {
        "colab": {
          "base_uri": "https://localhost:8080/"
        },
        "id": "0L1aGz73S_E-",
        "outputId": "20728ad2-cab3-4bda-f181-3b47d5199fe3"
      },
      "execution_count": null,
      "outputs": [
        {
          "output_type": "stream",
          "name": "stdout",
          "text": [
            "[0.1200000000000001]\n",
            "[0.1200000000000001, 0.11660104885167266]\n",
            "[0.1200000000000001, 0.11660104885167266, 0.11549646111066236]\n",
            "[0.1200000000000001, 0.11660104885167266, 0.11549646111066236, 0.11494937888832091]\n",
            "[0.1200000000000001, 0.11660104885167266, 0.11549646111066236, 0.11494937888832091, 0.11440573836312806]\n",
            "[0.1200000000000001, 0.11660104885167266, 0.11549646111066236, 0.11494937888832091, 0.11440573836312806, 0.11386551521499655]\n",
            "[0.1200000000000001, 0.11660104885167266, 0.11549646111066236, 0.11494937888832091, 0.11440573836312806, 0.11386551521499655, 0.11359667760742376]\n",
            "[0.1200000000000001, 0.11660104885167266, 0.11549646111066236, 0.11494937888832091, 0.11440573836312806, 0.11386551521499655, 0.11359667760742376, 0.1133462808142105]\n",
            "[0.1200000000000001, 0.11660104885167266, 0.11549646111066236, 0.11494937888832091, 0.11440573836312806, 0.11386551521499655, 0.11359667760742376, 0.1133462808142105, 0.1133294183803013]\n",
            "[0.1200000000000001, 0.11660104885167266, 0.11549646111066236, 0.11494937888832091, 0.11440573836312806, 0.11386551521499655, 0.11359667760742376, 0.1133462808142105, 0.1133294183803013, 0.11332869750475538]\n",
            "[0.1200000000000001, 0.11660104885167266, 0.11549646111066236, 0.11494937888832091, 0.11440573836312806, 0.11386551521499655, 0.11359667760742376, 0.1133462808142105, 0.1133294183803013, 0.11332869750475538, 0.1133286825663049]\n"
          ]
        }
      ]
    },
    {
      "cell_type": "code",
      "source": [
        "import matplotlib.pyplot as plt\n",
        "import math\n",
        "delta=math.log(1+0.12)\n",
        "plt.scatter(X,y11,color='red')\n",
        "plt.axhline(y=delta,color='g',linestyle='-')\n",
        "plt.figure(figsize=(50,10))\n",
        "plt.show()"
      ],
      "metadata": {
        "colab": {
          "base_uri": "https://localhost:8080/",
          "height": 72
        },
        "id": "TUnQaGfMWMxF",
        "outputId": "26b9fdcd-eb66-431c-e1a9-85e49deae34b"
      },
      "execution_count": null,
      "outputs": [
        {
          "output_type": "display_data",
          "data": {
            "text/plain": [
              "<Figure size 432x288 with 1 Axes>"
            ],
            "image/png": "[encoded data removed]"
          },
          "metadata": {
            "needs_background": "light"
          }
        },
        {
          "output_type": "display_data",
          "data": {
            "text/plain": [
              "<Figure size 3600x720 with 0 Axes>"
            ]
          },
          "metadata": {}
        }
      ]
    },
    {
      "cell_type": "code",
      "source": [
        "from array import *\n",
        "import numpy as np\n",
        "X=[1,2,3,4,6,12,24]\n",
        "y11=[]\n",
        "y22=[]\n",
        "for x in X:\n",
        "  y11.append(i_n(0.12, x))\n",
        "print(y11)\n",
        "y33=[x + 1 for x in y11]\n",
        "y22=np.divide(y11,y33)\n",
        "print(y22)"
      ],
      "metadata": {
        "colab": {
          "base_uri": "https://localhost:8080/"
        },
        "id": "johPr-cPZ10r",
        "outputId": "9bf05a61-afa4-4933-cc58-2bb6d6f5f16b"
      },
      "execution_count": null,
      "outputs": [
        {
          "output_type": "stream",
          "name": "stdout",
          "text": [
            "[0.1200000000000001, 0.11660104885167266, 0.11549646111066236, 0.11494937888832091, 0.11440573836312806, 0.11386551521499655, 0.11359667760742376]\n",
            "[0.10714286 0.10442499 0.10353817 0.10309829 0.10266076 0.10222555\n",
            " 0.10200882]\n"
          ]
        }
      ]
    },
    {
      "cell_type": "code",
      "source": [
        "import matplotlib.pyplot as plt\n",
        "import math\n",
        "delta=math.log(1+0.12)\n",
        "plt.scatter(X,y11,color='red')\n",
        "plt.scatter(X,y22,color='blue')\n",
        "plt.axhline(y=delta,color='g',linestyle='-')\n",
        "plt.figure(figsize=(50,10))\n",
        "plt.show()"
      ],
      "metadata": {
        "colab": {
          "base_uri": "https://localhost:8080/",
          "height": 72
        },
        "id": "Xf8vzTubc6pI",
        "outputId": "d332a8d1-6d2e-4ae5-8faa-ed5f3a5d199e"
      },
      "execution_count": null,
      "outputs": [
        {
          "output_type": "display_data",
          "data": {
            "text/plain": [
              "<Figure size 432x288 with 1 Axes>"
            ],
            "image/png": "[encoded data removed]"
          },
          "metadata": {
            "needs_background": "light"
          }
        },
        {
          "output_type": "display_data",
          "data": {
            "text/plain": [
              "<Figure size 3600x720 with 0 Axes>"
            ]
          },
          "metadata": {}
        }
      ]
    },
    {
      "cell_type": "markdown",
      "source": [
        "#Day 3"
      ],
      "metadata": {
        "id": "BjfL6lnUTeTv"
      }
    },
    {
      "cell_type": "markdown",
      "source": [
        "APR - Annual Percentage Rate<br>\n",
        "$i_{nom} = i^{(m)}$<br>\n",
        "EAR - Effective Annual Rate $ i $<br>\n",
        "$ i^{(m)} = m*((1 + i)^{(1/m)}-1)$<br>\n",
        "$ i = (1 + \\frac{i^{(m)}}{m})^m -1$<br>\n",
        "$ d^{(m)} = \\frac{i^{(m)}}{1+ \\frac{i^{(m)}}{m}}$"
      ],
      "metadata": {
        "id": "zL3iiRikU6fn"
      }
    },
    {
      "cell_type": "code",
      "source": [
        "d=0.12/(1+0.12)\n",
        "print(d)"
      ],
      "metadata": {
        "colab": {
          "base_uri": "https://localhost:8080/"
        },
        "id": "XvrSWIPWWriH",
        "outputId": "472d5e96-ca9b-4cf6-e3f5-0b10ec1a24c5"
      },
      "execution_count": null,
      "outputs": [
        {
          "output_type": "stream",
          "name": "stdout",
          "text": [
            "0.10714285714285712\n"
          ]
        }
      ]
    },
    {
      "cell_type": "code",
      "source": [
        "import matplotlib.pyplot as plt\n",
        "import math\n",
        "delta=math.log(1+0.12)\n",
        "plt.scatter(X,y11,color='red')\n",
        "plt.scatter(X,y22,color='blue')\n",
        "plt.axhline(y=delta,color='g',linestyle='-')\n",
        "plt.axhline(y=0.12,color='y',linestyle='-')\n",
        "plt.axhline(y=d,color='m',linestyle='-')\n",
        "plt.figure(figsize=(50,10))\n",
        "plt.show()"
      ],
      "metadata": {
        "colab": {
          "base_uri": "https://localhost:8080/",
          "height": 72
        },
        "id": "USZDH3QsTgcl",
        "outputId": "e57efbc9-b6ca-430b-dd51-79ec5e445496"
      },
      "execution_count": null,
      "outputs": [
        {
          "output_type": "display_data",
          "data": {
            "text/plain": [
              "<Figure size 432x288 with 1 Axes>"
            ],
            "image/png": "[encoded data removed]"
          },
          "metadata": {
            "needs_background": "light"
          }
        },
        {
          "output_type": "display_data",
          "data": {
            "text/plain": [
              "<Figure size 3600x720 with 0 Axes>"
            ]
          },
          "metadata": {}
        }
      ]
    },
    {
      "cell_type": "code",
      "source": [
        "from array import *\n",
        "import numpy as np\n",
        "X=[1,2,3,4,6,12,24]\n",
        "y11=[]\n",
        "y22=[]\n",
        "y111=[]\n",
        "y33=[]\n",
        "for x in X:\n",
        "  y11.append(i_n(0.12,x))\n",
        "print(y11)\n",
        "y111=np.divide(y11,X)\n",
        "y33=[x+1 for x in y111]\n",
        "y22=np.divide(y11,y33)\n",
        "print(y22)"
      ],
      "metadata": {
        "colab": {
          "base_uri": "https://localhost:8080/"
        },
        "id": "6VckI89ZYAQM",
        "outputId": "b0800d0a-b2ca-40a7-89b6-e7a62e5eab6e"
      },
      "execution_count": null,
      "outputs": [
        {
          "output_type": "stream",
          "name": "stdout",
          "text": [
            "[0.1200000000000001, 0.11660104885167266, 0.11549646111066236, 0.11494937888832091, 0.11440573836312806, 0.11386551521499655, 0.11359667760742376]\n",
            "[0.10714286 0.11017763 0.11121482 0.11173832 0.11226511 0.11279522\n",
            " 0.11306154]\n"
          ]
        }
      ]
    },
    {
      "cell_type": "code",
      "source": [
        "import matplotlib.pyplot as plt\n",
        "import math\n",
        "delta=math.log(1+0.12)\n",
        "plt.scatter(X,y11,color='red')\n",
        "plt.scatter(X,y22,color='blue')\n",
        "plt.axhline(y=delta,color='g',linestyle='-')\n",
        "plt.axhline(y=0.12,color='y',linestyle='-')\n",
        "plt.axhline(y=d,color='m',linestyle='-')\n",
        "plt.figure(figsize=(50,10))\n",
        "plt.show()"
      ],
      "metadata": {
        "colab": {
          "base_uri": "https://localhost:8080/",
          "height": 72
        },
        "id": "PpVvDs6NYlAw",
        "outputId": "b93de31b-48db-493b-d445-13ff62c094a2"
      },
      "execution_count": null,
      "outputs": [
        {
          "output_type": "display_data",
          "data": {
            "text/plain": [
              "<Figure size 432x288 with 1 Axes>"
            ],
            "image/png": "[encoded data removed]"
          },
          "metadata": {
            "needs_background": "light"
          }
        },
        {
          "output_type": "display_data",
          "data": {
            "text/plain": [
              "<Figure size 3600x720 with 0 Axes>"
            ]
          },
          "metadata": {}
        }
      ]
    },
    {
      "cell_type": "code",
      "source": [
        "import math\n",
        "def i_nomi(i, m):\n",
        "  i_nom=(((1+i)**(1/m))-1)*m\n",
        "  d_nom=i_nom/(1+(i_nom/m))\n",
        "  i_eff=i\n",
        "  d_eff=i/(1+i)\n",
        "  delta=math.log(1+i)\n",
        "  return i_nom,d_nom,i_eff,d_eff,delta"
      ],
      "metadata": {
        "id": "dxRtaXYcdVqL"
      },
      "execution_count": null,
      "outputs": []
    },
    {
      "cell_type": "code",
      "source": [
        "print(i_nomi(0.12,2)[0])\n",
        "print(i_nomi(0.12,2)[1])\n",
        "print(i_nomi(0.12,2)[2])\n",
        "print(i_nomi(0.12,2)[3])\n",
        "print(i_nomi(0.12,2)[4])"
      ],
      "metadata": {
        "colab": {
          "base_uri": "https://localhost:8080/"
        },
        "id": "u4F6irXLdWdz",
        "outputId": "12413c02-8c1d-4618-f75f-24a266a7277f"
      },
      "execution_count": null,
      "outputs": [
        {
          "output_type": "stream",
          "name": "stdout",
          "text": [
            "0.11660104885167266\n",
            "0.11017763495386404\n",
            "0.12\n",
            "0.10714285714285712\n",
            "0.11332868530700327\n"
          ]
        }
      ]
    },
    {
      "cell_type": "code",
      "source": [
        "from array import *\n",
        "import numpy as np\n",
        "X=[1,2,3,4,6,12,24]\n",
        "y11=[]\n",
        "y22=[]\n",
        "for x in X:\n",
        "  y11.append(i_nomi(0.12,x)[0])\n",
        "  y22.append(i_nomi(0.12,x)[1])\n",
        "print(y11)\n",
        "print(y22)"
      ],
      "metadata": {
        "colab": {
          "base_uri": "https://localhost:8080/"
        },
        "id": "cfZ_0ZzhdYX3",
        "outputId": "f5b4e74f-604c-482a-a226-c04815dca7c7"
      },
      "execution_count": null,
      "outputs": [
        {
          "output_type": "stream",
          "name": "stdout",
          "text": [
            "[0.1200000000000001, 0.11660104885167266, 0.11549646111066236, 0.11494937888832091, 0.11440573836312806, 0.11386551521499655, 0.11359667760742376]\n",
            "[0.10714285714285723, 0.11017763495386404, 0.11121482166873173, 0.11173831637207182, 0.11226510957098047, 0.11279522468396068, 0.11306153532500231]\n"
          ]
        }
      ]
    },
    {
      "cell_type": "code",
      "source": [
        "import matplotlib.pyplot as plt\n",
        "plt.scatter(X,y11,color='red')\n",
        "plt.scatter(X,y22,color='blue')\n",
        "plt.axhline(y=delta,color='g',linestyle='-')\n",
        "plt.axhline(y=i_nomi(0.12,2)[2],color='y',linestyle='-')\n",
        "plt.axhline(y=i_nomi(0.12,2)[3],color='m',linestyle='-')\n",
        "plt.figure(figsize=(50,10))\n",
        "plt.show()"
      ],
      "metadata": {
        "colab": {
          "base_uri": "https://localhost:8080/",
          "height": 72
        },
        "id": "qr961vlgdaXA",
        "outputId": "e3558db9-f351-447d-8ec0-7c7fb85b1ca5"
      },
      "execution_count": null,
      "outputs": [
        {
          "output_type": "display_data",
          "data": {
            "text/plain": [
              "<Figure size 432x288 with 1 Axes>"
            ],
            "image/png": "[encoded data removed]"
          },
          "metadata": {
            "needs_background": "light"
          }
        },
        {
          "output_type": "display_data",
          "data": {
            "text/plain": [
              "<Figure size 3600x720 with 0 Axes>"
            ]
          },
          "metadata": {}
        }
      ]
    },
    {
      "cell_type": "markdown",
      "source": [
        "#Day 4"
      ],
      "metadata": {
        "id": "Dnspfhn8b2wZ"
      }
    },
    {
      "cell_type": "code",
      "source": [
        "import io\n",
        "import pandas as pd"
      ],
      "metadata": {
        "id": "u4VHq0__b85U"
      },
      "execution_count": null,
      "outputs": []
    },
    {
      "cell_type": "code",
      "source": [
        "from google.colab import drive\n",
        "drive.mount('/content/gdrive')"
      ],
      "metadata": {
        "colab": {
          "base_uri": "https://localhost:8080/"
        },
        "id": "6vgBdBVucFD5",
        "outputId": "90d270d0-d179-4f3d-aa03-226d0376c952"
      },
      "execution_count": null,
      "outputs": [
        {
          "output_type": "stream",
          "name": "stdout",
          "text": [
            "Mounted at /content/gdrive\n"
          ]
        }
      ]
    },
    {
      "cell_type": "code",
      "source": [
        "from  openpyxl import Workbook\n",
        "wb=Workbook()\n",
        "test_filename='FOI_comparison.xlsx'\n",
        "test_filename2='FOI_comparison2.xlsx'"
      ],
      "metadata": {
        "id": "Z9IxxaXgcrmu"
      },
      "execution_count": null,
      "outputs": []
    },
    {
      "cell_type": "code",
      "source": [
        "wb.save('/content/gdrive/My Drive/FM/'+test_filename)\n",
        "wb.save('/content/gdrive/My Drive/FM/'+test_filename2)"
      ],
      "metadata": {
        "id": "1ODFstDjeyb7"
      },
      "execution_count": null,
      "outputs": []
    },
    {
      "cell_type": "code",
      "source": [
        "from openpyxl import load_workbook\n",
        "wb1=load_workbook('/content/gdrive/My Drive/FM/'+test_filename)\n",
        "wb2=load_workbook('/content/gdrive/My Drive/FM/'+test_filename2)"
      ],
      "metadata": {
        "id": "GcwE85VzgBJP"
      },
      "execution_count": null,
      "outputs": []
    },
    {
      "cell_type": "markdown",
      "source": [
        "#Day 5"
      ],
      "metadata": {
        "id": "4PVOnuSpdoST"
      }
    },
    {
      "cell_type": "code",
      "source": [
        "import io\n",
        "import pandas as pd"
      ],
      "metadata": {
        "id": "rJHyiMTgdtOV"
      },
      "execution_count": null,
      "outputs": []
    },
    {
      "cell_type": "code",
      "source": [
        "from google.colab import drive\n",
        "drive.mount('/content/gdrive')"
      ],
      "metadata": {
        "colab": {
          "base_uri": "https://localhost:8080/"
        },
        "id": "m2rFuafWfMUR",
        "outputId": "489aa62a-c3cc-4f92-d1ef-c5e54c5100c7"
      },
      "execution_count": null,
      "outputs": [
        {
          "output_type": "stream",
          "name": "stdout",
          "text": [
            "Drive already mounted at /content/gdrive; to attempt to forcibly remount, call drive.mount(\"/content/gdrive\", force_remount=True).\n"
          ]
        }
      ]
    },
    {
      "cell_type": "code",
      "source": [
        "from openpyxl import Workbook\n",
        "wb=Workbook()\n",
        "test_filename='FOI_comparision.xlsx'\n",
        "test_filename2='FOI_comparision2.xlsx'"
      ],
      "metadata": {
        "id": "78JKxxT8gR-2"
      },
      "execution_count": null,
      "outputs": []
    },
    {
      "cell_type": "code",
      "source": [
        "wb.save('/content/gdrive/My Drive/FM/'+test_filename)\n",
        "wb.save('/content/gdrive/My Drive/FM/'+test_filename2)"
      ],
      "metadata": {
        "id": "mxoh8xVEft_X"
      },
      "execution_count": null,
      "outputs": []
    },
    {
      "cell_type": "code",
      "source": [
        "from openpyxl import load_workbook\n",
        "wb1=load_workbook('/content/gdrive/My Drive/FM/'+test_filename)\n",
        "wb2=load_workbook('/content/gdrive/My Drive/FM/'+test_filename2)"
      ],
      "metadata": {
        "id": "QatobLJrhlwr"
      },
      "execution_count": null,
      "outputs": []
    },
    {
      "cell_type": "code",
      "source": [
        "calc_data=([0.12,1],[0.12,2],[0.12,3],[0.12,4],[0.12,6],[0.12,12],[0.12,24])"
      ],
      "metadata": {
        "id": "gpeC40Omj9Iu"
      },
      "execution_count": null,
      "outputs": []
    },
    {
      "cell_type": "code",
      "source": [
        "import numpy as np\n",
        "import matplotlib.pyplot as plt\n",
        "import math"
      ],
      "metadata": {
        "id": "MySIUPtYkIgw"
      },
      "execution_count": null,
      "outputs": []
    },
    {
      "cell_type": "code",
      "source": [
        "def i_nomi(i, m):\n",
        "  i_nom=(((1+i)**(1/m))-1)*m\n",
        "  d_nom=i_nom/(1+(i_nom/m))\n",
        "  i_eff=i\n",
        "  d_eff=i/(1+i)\n",
        "  delta=math.log(1+i)\n",
        "  return i_nom, d_nom, i_eff, d_eff, delta"
      ],
      "metadata": {
        "id": "3ajLMnVYkNlm"
      },
      "execution_count": null,
      "outputs": []
    },
    {
      "cell_type": "code",
      "source": [
        "from array import *\n",
        "import numpy as np\n",
        "X=(np.transpose(calc_data))[1]\n",
        "y11=[]\n",
        "y22=[]\n",
        "d=[]\n",
        "delta=[]\n",
        "i=[]\n",
        "for x in X:\n",
        "  d.append(i_nomi(0.12, x)[3])\n",
        "  y22.append(i_nomi(0.12, x)[1])\n",
        "  delta.append(i_nomi(0.12,x)[4])\n",
        "  y11.append(i_nomi(0.12,x)[0])\n",
        "  i.append(i_nomi(0.12, x)[2])\n",
        "print(d)\n",
        "print(y22)\n",
        "print(delta)\n",
        "print(y11)\n",
        "print(i)"
      ],
      "metadata": {
        "colab": {
          "base_uri": "https://localhost:8080/"
        },
        "id": "Qo0Cn1JqkhJn",
        "outputId": "453ab755-164c-41a9-ddc8-7258a5047604"
      },
      "execution_count": null,
      "outputs": [
        {
          "output_type": "stream",
          "name": "stdout",
          "text": [
            "[0.10714285714285712, 0.10714285714285712, 0.10714285714285712, 0.10714285714285712, 0.10714285714285712, 0.10714285714285712, 0.10714285714285712]\n",
            "[0.10714285714285723, 0.11017763495386404, 0.11121482166873173, 0.11173831637207182, 0.11226510957098047, 0.11279522468396068, 0.11306153532500231]\n",
            "[0.11332868530700327, 0.11332868530700327, 0.11332868530700327, 0.11332868530700327, 0.11332868530700327, 0.11332868530700327, 0.11332868530700327]\n",
            "[0.1200000000000001, 0.11660104885167266, 0.11549646111066236, 0.11494937888832091, 0.11440573836312806, 0.11386551521499655, 0.11359667760742376]\n",
            "[0.12, 0.12, 0.12, 0.12, 0.12, 0.12, 0.12]\n"
          ]
        }
      ]
    },
    {
      "cell_type": "code",
      "source": [
        "data={'d':d,'d(m)':y22,'delta':delta,'i(m)':y11,'i':i}"
      ],
      "metadata": {
        "id": "cDRuBTsNlTht"
      },
      "execution_count": null,
      "outputs": []
    },
    {
      "cell_type": "code",
      "source": [
        "df=pd.DataFrame(data)\n",
        "writer=pd.ExcelWriter('/content/gdrive/My Drive/FM/'+test_filename,engine='openpyxl')\n",
        "df.to_excel(writer,sheet_name='Sheet1')\n",
        "wb=writer.book\n",
        "ws=writer.sheets['Sheet1']"
      ],
      "metadata": {
        "id": "i-Qjo-xilbRo"
      },
      "execution_count": null,
      "outputs": []
    },
    {
      "cell_type": "code",
      "source": [
        "from openpyxl.chart import (LineChart,Reference)"
      ],
      "metadata": {
        "id": "ULdgKxmvll3j"
      },
      "execution_count": null,
      "outputs": []
    },
    {
      "cell_type": "code",
      "source": [
        "chart=LineChart()\n",
        "values=Reference(ws,min_col=2,min_row=1,max_col=6,max_row=8)\n",
        "chart.add_data(values,titles_from_data=True)"
      ],
      "metadata": {
        "id": "Z61A6A2nlqBs"
      },
      "execution_count": null,
      "outputs": []
    },
    {
      "cell_type": "code",
      "source": [
        "chart.y_axis.scaling.min=0.104\n",
        "chart.y_axis.scaling.max=0.121"
      ],
      "metadata": {
        "id": "pNvNAvOvl8mj"
      },
      "execution_count": null,
      "outputs": []
    },
    {
      "cell_type": "code",
      "source": [
        "s1=chart.series[0]\n",
        "s1.marker.symbol=\"square\"\n",
        "s1.marker.graphicalProperties.solidFill=\"d121b9\"\n",
        "s2=chart.series[1]\n",
        "s2.marker.symbol=\"star\"\n",
        "s1.marker.graphicalProperties.solidFill=\"249e19\"\n",
        "s3=chart.series[2]\n",
        "s3.marker.symbol=\"circle\"\n",
        "s1.marker.graphicalProperties.solidFill=\"4846db\"\n",
        "s4=chart.series[3]\n",
        "s4.marker.symbol=\"triangle\"\n",
        "s1.marker.graphicalProperties.solidFill=\"bf3348\"\n",
        "s5=chart.series[0]\n",
        "s5.marker.symbol=\"square\"\n",
        "s1.marker.graphicalProperties.solidFill=\"f4c92e\""
      ],
      "metadata": {
        "id": "ul7DhnabmCff"
      },
      "execution_count": null,
      "outputs": []
    },
    {
      "cell_type": "code",
      "source": [
        "ws.add_chart(chart,\"A11\")\n",
        "writer.save()"
      ],
      "metadata": {
        "id": "WVjjYioZmj-8"
      },
      "execution_count": null,
      "outputs": []
    },
    {
      "cell_type": "markdown",
      "source": [
        "#Day 6"
      ],
      "metadata": {
        "id": "377FPH9ge3pm"
      }
    },
    {
      "cell_type": "code",
      "source": [
        "def d_eff(i_eff):\n",
        "  return i_eff/(1+i_eff)"
      ],
      "metadata": {
        "id": "fKfpCt4we_x0"
      },
      "execution_count": null,
      "outputs": []
    },
    {
      "cell_type": "code",
      "source": [
        "def a_ki(k,i):\n",
        "  return (1+i)**k"
      ],
      "metadata": {
        "id": "B3P7qZD3n6bu"
      },
      "execution_count": null,
      "outputs": []
    },
    {
      "cell_type": "code",
      "source": [
        "def v_ki(k,i):\n",
        "  return 1/(a_ki(k,i))"
      ],
      "metadata": {
        "id": "F-LSAYDjn_el"
      },
      "execution_count": null,
      "outputs": []
    },
    {
      "cell_type": "code",
      "source": [
        "def PV_ai_ni(n,i):\n",
        "  return (1-v_ki(n,i))/i"
      ],
      "metadata": {
        "id": "y0R2bGpgoHpP"
      },
      "execution_count": null,
      "outputs": []
    },
    {
      "cell_type": "code",
      "source": [
        "def AV_si_ni(n,i):\n",
        "  return PV_ai_ni(n,i)*a_ki(n,i)"
      ],
      "metadata": {
        "id": "ce1Su0OEoYip"
      },
      "execution_count": null,
      "outputs": []
    },
    {
      "cell_type": "code",
      "source": [
        "def PV_ad_ni(n,i):\n",
        "  return PV_ai_ni(n,i)*(1+i)"
      ],
      "metadata": {
        "id": "i7M5oBLaozQB"
      },
      "execution_count": null,
      "outputs": []
    },
    {
      "cell_type": "code",
      "source": [
        "def AV_Sd_ni(n,i):\n",
        "  return AV_si_ni(n,i)*(1+i)"
      ],
      "metadata": {
        "id": "XtcKSmROpEW_"
      },
      "execution_count": null,
      "outputs": []
    },
    {
      "cell_type": "code",
      "source": [
        "def PV_ai_i(i):\n",
        "  return 1/i"
      ],
      "metadata": {
        "id": "BkHWmeJdpO_3"
      },
      "execution_count": null,
      "outputs": []
    },
    {
      "cell_type": "code",
      "source": [
        "def PV_ad_i(i):\n",
        "  return 1/d_eff(i)"
      ],
      "metadata": {
        "id": "N5c2XTLHpUK1"
      },
      "execution_count": null,
      "outputs": []
    },
    {
      "cell_type": "code",
      "source": [
        "def PV_ai_deff_ni(n,i,k):\n",
        "  return PV_ai_ni(n,i)*v_ki(k,i)"
      ],
      "metadata": {
        "id": "PhDTxQjLpmVA"
      },
      "execution_count": null,
      "outputs": []
    },
    {
      "cell_type": "code",
      "source": [
        "def PV_ad_deff_ni(n,i,k):\n",
        "  return PV_ad_ni(n,i)*v_ki(k,i)"
      ],
      "metadata": {
        "id": "WjFzHjqbpzql"
      },
      "execution_count": null,
      "outputs": []
    },
    {
      "cell_type": "markdown",
      "source": [
        "#Day 7"
      ],
      "metadata": {
        "id": "75mNPIO1gANj"
      }
    },
    {
      "cell_type": "code",
      "source": [
        "!pip install multipledispatch"
      ],
      "metadata": {
        "colab": {
          "base_uri": "https://localhost:8080/"
        },
        "id": "Imde3cLZgDKu",
        "outputId": "7ac950ac-b23d-4dd8-a100-4bc98062a32e"
      },
      "execution_count": null,
      "outputs": [
        {
          "output_type": "stream",
          "name": "stdout",
          "text": [
            "Collecting multipledispatch\n",
            "  Downloading multipledispatch-0.6.0-py3-none-any.whl (11 kB)\n",
            "Requirement already satisfied: six in /usr/local/lib/python3.7/dist-packages (from multipledispatch) (1.15.0)\n",
            "Installing collected packages: multipledispatch\n",
            "Successfully installed multipledispatch-0.6.0\n"
          ]
        }
      ]
    },
    {
      "cell_type": "code",
      "source": [
        "from multipledispatch import dispatch"
      ],
      "metadata": {
        "id": "AuzyQZ24jMBM"
      },
      "execution_count": null,
      "outputs": []
    },
    {
      "cell_type": "code",
      "source": [
        "@dispatch(float,int)\n",
        "def AnnuityAccumulation(i,n):\n",
        "  sni=AV_si_ni(n,i)\n",
        "  return sni\n",
        "@dispatch(float,int,float)\n",
        "def AnnuityAccumulation(i,n,K):\n",
        "  Sni=K*AV_si_ni(n,i)\n",
        "  return Sni\n",
        "@dispatch(float,int,str)\n",
        "def AnnuityAccumulation(d,n,dtype):\n",
        "  i=d/(1-d)\n",
        "  sni=AV_si_ni(n,i)\n",
        "  return sni\n",
        "@dispatch(float,int,float,str)\n",
        "def AnnuityAccumulation(d,n,K,dtype):\n",
        "  i=d/(1-d)\n",
        "  Sni=K*AV_si_ni(n,i)\n",
        "  return Sni"
      ],
      "metadata": {
        "id": "xs-zYm-djRyo"
      },
      "execution_count": null,
      "outputs": []
    },
    {
      "cell_type": "code",
      "source": [
        "AnnuityAccumulation(0.10714285714285712,10,500.0,'discount')"
      ],
      "metadata": {
        "colab": {
          "base_uri": "https://localhost:8080/"
        },
        "id": "Y-c8tktqn1oe",
        "outputId": "d8bf7212-3c94-461a-d05d-801940f95c8c"
      },
      "execution_count": null,
      "outputs": [
        {
          "output_type": "execute_result",
          "data": {
            "text/plain": [
              "8774.367534767525"
            ]
          },
          "metadata": {},
          "execution_count": 52
        }
      ]
    },
    {
      "cell_type": "markdown",
      "source": [
        "#Day 8"
      ],
      "metadata": {
        "id": "aWxeQn997AlT"
      }
    },
    {
      "cell_type": "code",
      "source": [
        "def a_ki(k,i):\n",
        "  return (1+i)**k\n",
        "def v_ki(k,i):\n",
        "  return (1/a_ki(k,i))\n",
        "def AV_ai_def(i,n,k):\n",
        "  return a_ki(-k,i)*(((1-v_ki(k,i))/i))\n",
        "@dispatch(float, int, int)\n",
        "def AnnuityAccumulation_Def(i,n,k):\n",
        "  sni = AV_ai_def(i,n,k)\n",
        "  return sni\n",
        "@dispatch(float, int,int, float)\n",
        "def AnnuityAccumulation_Def(i,n,k,Q):\n",
        "  Sni = Q*AV_ai_def(i,n,k)\n",
        "  return Sni \n",
        "@dispatch (float, int,int, str)\n",
        "def AnnuityAccumulation_Def(d,n,k,dtype):\n",
        "  i=d/(1-d)\n",
        "  sni = AV_ai_def(i,n,k)\n",
        "  return sni\n",
        "@dispatch(float, int, float,int, str)\n",
        "def AnnuityAccumulation_Def(d,n,Q,k,dtype):\n",
        "  i=d/(1-d)\n",
        "  Sni = Q*AV_ai_def(i,n,k)\n",
        "  return Sni"
      ],
      "metadata": {
        "id": "Hs0o-0_v7iay"
      },
      "execution_count": null,
      "outputs": []
    },
    {
      "cell_type": "code",
      "source": [
        "def PV_ai_ni(n,i):\n",
        "  return ((1-v_ki(n,i))/i)\n",
        "def PV_ai_deff_ni(n,i,k):\n",
        "  return (PV_ai_ni(n,i)*v_ki(k,i))\n",
        "@dispatch(float, int, int)\n",
        "def AnnuityPresentValue_Def(i,n,k):\n",
        "  sni = PV_ai_deff_ni(n,i,k)\n",
        "  return sni\n",
        "@dispatch(float, int, float, int)\n",
        "def AnnuityPresentValue_Def(i,n,Q,k):\n",
        "  Sni = Q*PV_ai_deff_ni(n,i,k)\n",
        "  return Sni \n",
        "@dispatch (float, int, int, str)\n",
        "def AnnuityPresentValue_Def(d,n,k,dtype):\n",
        "  i=d/(1-d)\n",
        "  sni = PV_ai_deff_ni(n,i,k)\n",
        "  return sni\n",
        "@dispatch(float, int, float,int, str)\n",
        "def AnnuityPresentValue_Def(d,n,Q,k, dtype):\n",
        "  i=d/(1-d)\n",
        "  Sni = Q*PV_ai_deff_ni(n,i,k)\n",
        "  return Sni"
      ],
      "metadata": {
        "id": "mhvhg5cH7sVJ"
      },
      "execution_count": null,
      "outputs": []
    },
    {
      "cell_type": "markdown",
      "source": [
        "#Day 9"
      ],
      "metadata": {
        "id": "JKNZz8VtmAkR"
      }
    },
    {
      "cell_type": "code",
      "source": [
        "def a_inf_i_ai(i):\n",
        "  a_inf_i=1/i\n",
        "  return a_inf_i"
      ],
      "metadata": {
        "id": "99GXyUk0mTDh"
      },
      "execution_count": null,
      "outputs": []
    },
    {
      "cell_type": "code",
      "source": [
        "def A_inf_i_ai(i,Q):\n",
        "  ani=Q*(1/i)\n",
        "  return ani"
      ],
      "metadata": {
        "id": "-lRBiFo2pE58"
      },
      "execution_count": null,
      "outputs": []
    },
    {
      "cell_type": "code",
      "source": [
        "@dispatch(float)\n",
        "def PerpetuityPresentworth(i):\n",
        "  a_inf_i=a_inf_i_ai(i)\n",
        "  return a_inf_i\n",
        "@dispatch(float,float)\n",
        "def PerpetuityPresentworth(i,Q):\n",
        "  A_inf_i=A_inf_i_ai(i,Q)\n",
        "  return A_inf_i\n",
        "@dispatch(float,str)\n",
        "def PerpetuityPresentworth(d,type):\n",
        "  i=d/(1-d)\n",
        "  a_inf_i=a_inf_i_ai(i)\n",
        "  return a_inf_i\n",
        "@dispatch(float,float,str)\n",
        "def PerpetuityPresentworth(d,Q,dtype):\n",
        "  i=d/(1-d)\n",
        "  A_inf_i=A_inf_i_ai(i,Q)\n",
        "  return A_inf_i"
      ],
      "metadata": {
        "id": "6Wdyf1ghptAo"
      },
      "execution_count": null,
      "outputs": []
    },
    {
      "cell_type": "code",
      "source": [
        "@dispatch(float,int)\n",
        "def PerpetuityPresentworthDef(i):\n",
        "  a_inf_i=a_inf_i_ai(i)*v(k,i)\n",
        "  return a_inf_i\n",
        "@dispatch(float,float,int)\n",
        "def PerpetuityPresentworthDef(i,Q):\n",
        "  A_inf_i=A_inf_i_ai(i,Q)*v(k)\n",
        "  return A_inf_i"
      ],
      "metadata": {
        "id": "HYlalhIysQ8E"
      },
      "execution_count": null,
      "outputs": []
    },
    {
      "cell_type": "code",
      "source": [
        "PerpetuityPresentworth(0.12)"
      ],
      "metadata": {
        "colab": {
          "base_uri": "https://localhost:8080/"
        },
        "id": "k20BE9MDuybO",
        "outputId": "edfd0f19-0bee-4436-ed62-80b65298fdfd"
      },
      "execution_count": null,
      "outputs": [
        {
          "output_type": "execute_result",
          "data": {
            "text/plain": [
              "8.333333333333334"
            ]
          },
          "metadata": {},
          "execution_count": 59
        }
      ]
    },
    {
      "cell_type": "code",
      "source": [
        "PerpetuityPresentworth(0.12,500.0)"
      ],
      "metadata": {
        "colab": {
          "base_uri": "https://localhost:8080/"
        },
        "id": "KQAq7LAPu3Pe",
        "outputId": "51784a04-f9f6-454e-c899-7ff5239f57da"
      },
      "execution_count": null,
      "outputs": [
        {
          "output_type": "execute_result",
          "data": {
            "text/plain": [
              "4166.666666666667"
            ]
          },
          "metadata": {},
          "execution_count": 60
        }
      ]
    },
    {
      "cell_type": "markdown",
      "source": [
        "#Day 10"
      ],
      "metadata": {
        "id": "kdk09lcztmPf"
      }
    },
    {
      "cell_type": "code",
      "source": [
        ""
      ],
      "metadata": {
        "id": "Gl_LA0Ujtpnr"
      },
      "execution_count": null,
      "outputs": []
    }
  ]
}