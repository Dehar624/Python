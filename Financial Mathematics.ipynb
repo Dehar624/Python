{
  "nbformat": 4,
  "nbformat_minor": 0,
  "metadata": {
    "colab": {
      "name": "1940211_FinancialMathematics.ipynb",
      "provenance": [],
      "collapsed_sections": [
        "QoI7Vk18eSX-",
        "2K_CIhrrS8MX",
        "BjfL6lnUTeTv",
        "Dnspfhn8b2wZ",
        "4PVOnuSpdoST",
        "377FPH9ge3pm",
        "75mNPIO1gANj",
        "aWxeQn997AlT",
        "JKNZz8VtmAkR",
        "kdk09lcztmPf",
        "BWcom5GF5gFk"
      ],
      "authorship_tag": "ABX9TyPIFGPoYLsl6ksq4GjTMpy8"
    },
    "kernelspec": {
      "name": "python3",
      "display_name": "Python 3"
    },
    "language_info": {
      "name": "python"
    }
  },
  "cells": [
    {
      "cell_type": "markdown",
      "source": [
        "#Day 1"
      ],
      "metadata": {
        "id": "QoI7Vk18eSX-"
      }
    },
    {
      "cell_type": "markdown",
      "source": [
        "Simple Interest vs Compound Interest"
      ],
      "metadata": {
        "id": "lv2VQoAyeZKH"
      }
    },
    {
      "cell_type": "markdown",
      "source": [
        "SI: a(t) = (1+st)<br>\n",
        "SI: A(T) = Ka(t)<br>\n",
        "CI: a(t) = $(1+i)^{t}$<br>\n",
        "CI: A(t) = Ka(t)"
      ],
      "metadata": {
        "id": "r29_xEIkefzO"
      }
    },
    {
      "cell_type": "code",
      "source": [
        "import numpy as np\n",
        "from matplotlib.pyplot import *\n",
        "from pylab import *"
      ],
      "metadata": {
        "id": "mA5AZiQJeY14"
      },
      "execution_count": null,
      "outputs": []
    },
    {
      "cell_type": "code",
      "execution_count": null,
      "metadata": {
        "id": "M-sM9pineL5c"
      },
      "outputs": [],
      "source": [
        "K=1000\n",
        "s=0.08\n",
        "i=s\n",
        "n=10\n",
        "t=linspace(0,n,n)\n",
        "y1=np.ones(len(t))*K\n",
        "y2=K*(1+s*t) #SI:a(t)=(1+st) SI:$A(T)=Ka(t)$\n",
        "y3=K*(1+i)**t\n",
        "xlim(0,11)\n",
        "ylim(800,2200)\n",
        "plot(t,y1,'b--')\n",
        "plot(t,y2,'g--')\n",
        "plot(t,y3,'r--')\n",
        "show()"
      ]
    },
    {
      "cell_type": "markdown",
      "source": [
        "###APR - Annual Percentage Rate<br>\n",
        "$i_n$ = $i^m$<br>\n",
        "EAR - Effective Annual Rate<br>\n",
        "$i_n$ = m * ($(1+i)^(1/m)$)-1<br>\n",
        "i = $(1 + $i^m$/m)^m$ - 1<br>\n",
        "$d^m$ = $i^m$/(1 + $i^m$)"
      ],
      "metadata": {
        "id": "FauVL4Z6jqJ-"
      }
    },
    {
      "cell_type": "code",
      "source": [
        "import math\n",
        "def i_n(i,m):\n",
        "  i_n=(((1+i)**(1/m))-1)*m\n",
        "  return i_n\n",
        "i_n(0.12,2)"
      ],
      "metadata": {
        "id": "SaqufRYwmxIP"
      },
      "execution_count": null,
      "outputs": []
    },
    {
      "cell_type": "code",
      "source": [
        "X=[1,2,3,4,6,12,24,365,365*24,365*24*60,365*24*60*60]\n",
        "for x in X:\n",
        "  y11=i_n(0.12,x)\n",
        "  print(y11)"
      ],
      "metadata": {
        "id": "ux55x0VbnPy2"
      },
      "execution_count": null,
      "outputs": []
    },
    {
      "cell_type": "markdown",
      "source": [
        "#Day 2"
      ],
      "metadata": {
        "id": "2K_CIhrrS8MX"
      }
    },
    {
      "cell_type": "code",
      "source": [
        "from array import *\n",
        "y11=[]\n",
        "X=[1,2,3,4,6,12,24,365,365*24,365*24*60,365*24*60*60]\n",
        "for x in X:\n",
        "  y11.append(i_n(0.12, x))\n",
        "  print(y11)"
      ],
      "metadata": {
        "id": "0L1aGz73S_E-"
      },
      "execution_count": null,
      "outputs": []
    },
    {
      "cell_type": "code",
      "source": [
        "import matplotlib.pyplot as plt\n",
        "import math\n",
        "delta=math.log(1+0.12)\n",
        "plt.scatter(X,y11,color='red')\n",
        "plt.axhline(y=delta,color='g',linestyle='-')\n",
        "plt.figure(figsize=(50,10))\n",
        "plt.show()"
      ],
      "metadata": {
        "id": "TUnQaGfMWMxF"
      },
      "execution_count": null,
      "outputs": []
    },
    {
      "cell_type": "code",
      "source": [
        "from array import *\n",
        "import numpy as np\n",
        "X=[1,2,3,4,6,12,24]\n",
        "y11=[]\n",
        "y22=[]\n",
        "for x in X:\n",
        "  y11.append(i_n(0.12, x))\n",
        "print(y11)\n",
        "y33=[x + 1 for x in y11]\n",
        "y22=np.divide(y11,y33)\n",
        "print(y22)"
      ],
      "metadata": {
        "id": "johPr-cPZ10r"
      },
      "execution_count": null,
      "outputs": []
    },
    {
      "cell_type": "code",
      "source": [
        "import matplotlib.pyplot as plt\n",
        "import math\n",
        "delta=math.log(1+0.12)\n",
        "plt.scatter(X,y11,color='red')\n",
        "plt.scatter(X,y22,color='blue')\n",
        "plt.axhline(y=delta,color='g',linestyle='-')\n",
        "plt.figure(figsize=(50,10))\n",
        "plt.show()"
      ],
      "metadata": {
        "id": "Xf8vzTubc6pI"
      },
      "execution_count": null,
      "outputs": []
    },
    {
      "cell_type": "markdown",
      "source": [
        "#Day 3"
      ],
      "metadata": {
        "id": "BjfL6lnUTeTv"
      }
    },
    {
      "cell_type": "markdown",
      "source": [
        "APR - Annual Percentage Rate<br>\n",
        "$i_{nom} = i^{(m)}$<br>\n",
        "EAR - Effective Annual Rate $ i $<br>\n",
        "$ i^{(m)} = m*((1 + i)^{(1/m)}-1)$<br>\n",
        "$ i = (1 + \\frac{i^{(m)}}{m})^m -1$<br>\n",
        "$ d^{(m)} = \\frac{i^{(m)}}{1+ \\frac{i^{(m)}}{m}}$"
      ],
      "metadata": {
        "id": "zL3iiRikU6fn"
      }
    },
    {
      "cell_type": "code",
      "source": [
        "d=0.12/(1+0.12)\n",
        "print(d)"
      ],
      "metadata": {
        "id": "XvrSWIPWWriH"
      },
      "execution_count": null,
      "outputs": []
    },
    {
      "cell_type": "code",
      "source": [
        "import matplotlib.pyplot as plt\n",
        "import math\n",
        "delta=math.log(1+0.12)\n",
        "plt.scatter(X,y11,color='red')\n",
        "plt.scatter(X,y22,color='blue')\n",
        "plt.axhline(y=delta,color='g',linestyle='-')\n",
        "plt.axhline(y=0.12,color='y',linestyle='-')\n",
        "plt.axhline(y=d,color='m',linestyle='-')\n",
        "plt.figure(figsize=(50,10))\n",
        "plt.show()"
      ],
      "metadata": {
        "id": "USZDH3QsTgcl"
      },
      "execution_count": null,
      "outputs": []
    },
    {
      "cell_type": "code",
      "source": [
        "from array import *\n",
        "import numpy as np\n",
        "X=[1,2,3,4,6,12,24]\n",
        "y11=[]\n",
        "y22=[]\n",
        "y111=[]\n",
        "y33=[]\n",
        "for x in X:\n",
        "  y11.append(i_n(0.12,x))\n",
        "print(y11)\n",
        "y111=np.divide(y11,X)\n",
        "y33=[x+1 for x in y111]\n",
        "y22=np.divide(y11,y33)\n",
        "print(y22)"
      ],
      "metadata": {
        "id": "6VckI89ZYAQM"
      },
      "execution_count": null,
      "outputs": []
    },
    {
      "cell_type": "code",
      "source": [
        "import matplotlib.pyplot as plt\n",
        "import math\n",
        "delta=math.log(1+0.12)\n",
        "plt.scatter(X,y11,color='red')\n",
        "plt.scatter(X,y22,color='blue')\n",
        "plt.axhline(y=delta,color='g',linestyle='-')\n",
        "plt.axhline(y=0.12,color='y',linestyle='-')\n",
        "plt.axhline(y=d,color='m',linestyle='-')\n",
        "plt.figure(figsize=(50,10))\n",
        "plt.show()"
      ],
      "metadata": {
        "id": "PpVvDs6NYlAw"
      },
      "execution_count": null,
      "outputs": []
    },
    {
      "cell_type": "code",
      "source": [
        "import math\n",
        "def i_nomi(i, m):\n",
        "  i_nom=(((1+i)**(1/m))-1)*m\n",
        "  d_nom=i_nom/(1+(i_nom/m))\n",
        "  i_eff=i\n",
        "  d_eff=i/(1+i)\n",
        "  delta=math.log(1+i)\n",
        "  return i_nom,d_nom,i_eff,d_eff,delta"
      ],
      "metadata": {
        "id": "dxRtaXYcdVqL"
      },
      "execution_count": null,
      "outputs": []
    },
    {
      "cell_type": "code",
      "source": [
        "print(i_nomi(0.12,2)[0])\n",
        "print(i_nomi(0.12,2)[1])\n",
        "print(i_nomi(0.12,2)[2])\n",
        "print(i_nomi(0.12,2)[3])\n",
        "print(i_nomi(0.12,2)[4])"
      ],
      "metadata": {
        "id": "u4F6irXLdWdz"
      },
      "execution_count": null,
      "outputs": []
    },
    {
      "cell_type": "code",
      "source": [
        "from array import *\n",
        "import numpy as np\n",
        "X=[1,2,3,4,6,12,24]\n",
        "y11=[]\n",
        "y22=[]\n",
        "for x in X:\n",
        "  y11.append(i_nomi(0.12,x)[0])\n",
        "  y22.append(i_nomi(0.12,x)[1])\n",
        "print(y11)\n",
        "print(y22)"
      ],
      "metadata": {
        "id": "cfZ_0ZzhdYX3"
      },
      "execution_count": null,
      "outputs": []
    },
    {
      "cell_type": "code",
      "source": [
        "import matplotlib.pyplot as plt\n",
        "plt.scatter(X,y11,color='red')\n",
        "plt.scatter(X,y22,color='blue')\n",
        "plt.axhline(y=delta,color='g',linestyle='-')\n",
        "plt.axhline(y=i_nomi(0.12,2)[2],color='y',linestyle='-')\n",
        "plt.axhline(y=i_nomi(0.12,2)[3],color='m',linestyle='-')\n",
        "plt.figure(figsize=(50,10))\n",
        "plt.show()"
      ],
      "metadata": {
        "id": "qr961vlgdaXA"
      },
      "execution_count": null,
      "outputs": []
    },
    {
      "cell_type": "markdown",
      "source": [
        "#Day 4"
      ],
      "metadata": {
        "id": "Dnspfhn8b2wZ"
      }
    },
    {
      "cell_type": "code",
      "source": [
        "import io\n",
        "import pandas as pd"
      ],
      "metadata": {
        "id": "u4VHq0__b85U"
      },
      "execution_count": null,
      "outputs": []
    },
    {
      "cell_type": "code",
      "source": [
        "from google.colab import drive\n",
        "drive.mount('/content/gdrive')"
      ],
      "metadata": {
        "id": "6vgBdBVucFD5"
      },
      "execution_count": null,
      "outputs": []
    },
    {
      "cell_type": "code",
      "source": [
        "from  openpyxl import Workbook\n",
        "wb=Workbook()\n",
        "test_filename='FOI_comparison.xlsx'\n",
        "test_filename2='FOI_comparison2.xlsx'"
      ],
      "metadata": {
        "id": "Z9IxxaXgcrmu"
      },
      "execution_count": null,
      "outputs": []
    },
    {
      "cell_type": "code",
      "source": [
        "wb.save('/content/gdrive/My Drive/FM/'+test_filename)\n",
        "wb.save('/content/gdrive/My Drive/FM/'+test_filename2)"
      ],
      "metadata": {
        "id": "1ODFstDjeyb7"
      },
      "execution_count": null,
      "outputs": []
    },
    {
      "cell_type": "code",
      "source": [
        "from openpyxl import load_workbook\n",
        "wb1=load_workbook('/content/gdrive/My Drive/FM/'+test_filename)\n",
        "wb2=load_workbook('/content/gdrive/My Drive/FM/'+test_filename2)"
      ],
      "metadata": {
        "id": "GcwE85VzgBJP"
      },
      "execution_count": null,
      "outputs": []
    },
    {
      "cell_type": "markdown",
      "source": [
        "#Day 5"
      ],
      "metadata": {
        "id": "4PVOnuSpdoST"
      }
    },
    {
      "cell_type": "code",
      "source": [
        "import io\n",
        "import pandas as pd"
      ],
      "metadata": {
        "id": "rJHyiMTgdtOV"
      },
      "execution_count": null,
      "outputs": []
    },
    {
      "cell_type": "code",
      "source": [
        "from google.colab import drive\n",
        "drive.mount('/content/gdrive')"
      ],
      "metadata": {
        "id": "m2rFuafWfMUR"
      },
      "execution_count": null,
      "outputs": []
    },
    {
      "cell_type": "code",
      "source": [
        "from openpyxl import Workbook\n",
        "wb=Workbook()\n",
        "test_filename='FOI_comparision.xlsx'\n",
        "test_filename2='FOI_comparision2.xlsx'"
      ],
      "metadata": {
        "id": "78JKxxT8gR-2"
      },
      "execution_count": null,
      "outputs": []
    },
    {
      "cell_type": "code",
      "source": [
        "wb.save('/content/gdrive/My Drive/FM/'+test_filename)\n",
        "wb.save('/content/gdrive/My Drive/FM/'+test_filename2)"
      ],
      "metadata": {
        "id": "mxoh8xVEft_X"
      },
      "execution_count": null,
      "outputs": []
    },
    {
      "cell_type": "code",
      "source": [
        "from openpyxl import load_workbook\n",
        "wb1=load_workbook('/content/gdrive/My Drive/FM/'+test_filename)\n",
        "wb2=load_workbook('/content/gdrive/My Drive/FM/'+test_filename2)"
      ],
      "metadata": {
        "id": "QatobLJrhlwr"
      },
      "execution_count": null,
      "outputs": []
    },
    {
      "cell_type": "code",
      "source": [
        "calc_data=([0.12,1],[0.12,2],[0.12,3],[0.12,4],[0.12,6],[0.12,12],[0.12,24])"
      ],
      "metadata": {
        "id": "gpeC40Omj9Iu"
      },
      "execution_count": null,
      "outputs": []
    },
    {
      "cell_type": "code",
      "source": [
        "import numpy as np\n",
        "import matplotlib.pyplot as plt\n",
        "import math"
      ],
      "metadata": {
        "id": "MySIUPtYkIgw"
      },
      "execution_count": null,
      "outputs": []
    },
    {
      "cell_type": "code",
      "source": [
        "def i_nomi(i, m):\n",
        "  i_nom=(((1+i)**(1/m))-1)*m\n",
        "  d_nom=i_nom/(1+(i_nom/m))\n",
        "  i_eff=i\n",
        "  d_eff=i/(1+i)\n",
        "  delta=math.log(1+i)\n",
        "  return i_nom, d_nom, i_eff, d_eff, delta"
      ],
      "metadata": {
        "id": "3ajLMnVYkNlm"
      },
      "execution_count": null,
      "outputs": []
    },
    {
      "cell_type": "code",
      "source": [
        "from array import *\n",
        "import numpy as np\n",
        "X=(np.transpose(calc_data))[1]\n",
        "y11=[]\n",
        "y22=[]\n",
        "d=[]\n",
        "delta=[]\n",
        "i=[]\n",
        "for x in X:\n",
        "  d.append(i_nomi(0.12, x)[3])\n",
        "  y22.append(i_nomi(0.12, x)[1])\n",
        "  delta.append(i_nomi(0.12,x)[4])\n",
        "  y11.append(i_nomi(0.12,x)[0])\n",
        "  i.append(i_nomi(0.12, x)[2])\n",
        "print(d)\n",
        "print(y22)\n",
        "print(delta)\n",
        "print(y11)\n",
        "print(i)"
      ],
      "metadata": {
        "id": "Qo0Cn1JqkhJn"
      },
      "execution_count": null,
      "outputs": []
    },
    {
      "cell_type": "code",
      "source": [
        "data={'d':d,'d(m)':y22,'delta':delta,'i(m)':y11,'i':i}"
      ],
      "metadata": {
        "id": "cDRuBTsNlTht"
      },
      "execution_count": null,
      "outputs": []
    },
    {
      "cell_type": "code",
      "source": [
        "df=pd.DataFrame(data)\n",
        "writer=pd.ExcelWriter('/content/gdrive/My Drive/FM/'+test_filename,engine='openpyxl')\n",
        "df.to_excel(writer,sheet_name='Sheet1')\n",
        "wb=writer.book\n",
        "ws=writer.sheets['Sheet1']"
      ],
      "metadata": {
        "id": "i-Qjo-xilbRo"
      },
      "execution_count": null,
      "outputs": []
    },
    {
      "cell_type": "code",
      "source": [
        "from openpyxl.chart import (LineChart,Reference)"
      ],
      "metadata": {
        "id": "ULdgKxmvll3j"
      },
      "execution_count": null,
      "outputs": []
    },
    {
      "cell_type": "code",
      "source": [
        "chart=LineChart()\n",
        "values=Reference(ws,min_col=2,min_row=1,max_col=6,max_row=8)\n",
        "chart.add_data(values,titles_from_data=True)"
      ],
      "metadata": {
        "id": "Z61A6A2nlqBs"
      },
      "execution_count": null,
      "outputs": []
    },
    {
      "cell_type": "code",
      "source": [
        "chart.y_axis.scaling.min=0.104\n",
        "chart.y_axis.scaling.max=0.121"
      ],
      "metadata": {
        "id": "pNvNAvOvl8mj"
      },
      "execution_count": null,
      "outputs": []
    },
    {
      "cell_type": "code",
      "source": [
        "s1=chart.series[0]\n",
        "s1.marker.symbol=\"square\"\n",
        "s1.marker.graphicalProperties.solidFill=\"d121b9\"\n",
        "s2=chart.series[1]\n",
        "s2.marker.symbol=\"star\"\n",
        "s1.marker.graphicalProperties.solidFill=\"249e19\"\n",
        "s3=chart.series[2]\n",
        "s3.marker.symbol=\"circle\"\n",
        "s1.marker.graphicalProperties.solidFill=\"4846db\"\n",
        "s4=chart.series[3]\n",
        "s4.marker.symbol=\"triangle\"\n",
        "s1.marker.graphicalProperties.solidFill=\"bf3348\"\n",
        "s5=chart.series[0]\n",
        "s5.marker.symbol=\"square\"\n",
        "s1.marker.graphicalProperties.solidFill=\"f4c92e\""
      ],
      "metadata": {
        "id": "ul7DhnabmCff"
      },
      "execution_count": null,
      "outputs": []
    },
    {
      "cell_type": "code",
      "source": [
        "ws.add_chart(chart,\"A11\")\n",
        "writer.save()"
      ],
      "metadata": {
        "id": "WVjjYioZmj-8"
      },
      "execution_count": null,
      "outputs": []
    },
    {
      "cell_type": "markdown",
      "source": [
        "#Day 6"
      ],
      "metadata": {
        "id": "377FPH9ge3pm"
      }
    },
    {
      "cell_type": "code",
      "source": [
        "def d_eff(i_eff):\n",
        "  return i_eff/(1+i_eff)"
      ],
      "metadata": {
        "id": "fKfpCt4we_x0"
      },
      "execution_count": null,
      "outputs": []
    },
    {
      "cell_type": "code",
      "source": [
        "def a_ki(k,i):\n",
        "  return (1+i)**k"
      ],
      "metadata": {
        "id": "B3P7qZD3n6bu"
      },
      "execution_count": null,
      "outputs": []
    },
    {
      "cell_type": "code",
      "source": [
        "def v_ki(k,i):\n",
        "  return 1/(a_ki(k,i))"
      ],
      "metadata": {
        "id": "F-LSAYDjn_el"
      },
      "execution_count": null,
      "outputs": []
    },
    {
      "cell_type": "code",
      "source": [
        "def PV_ai_ni(n,i):\n",
        "  return (1-v_ki(n,i))/i"
      ],
      "metadata": {
        "id": "y0R2bGpgoHpP"
      },
      "execution_count": null,
      "outputs": []
    },
    {
      "cell_type": "code",
      "source": [
        "def AV_si_ni(n,i):\n",
        "  return PV_ai_ni(n,i)*a_ki(n,i)"
      ],
      "metadata": {
        "id": "ce1Su0OEoYip"
      },
      "execution_count": null,
      "outputs": []
    },
    {
      "cell_type": "code",
      "source": [
        "def PV_ad_ni(n,i):\n",
        "  return PV_ai_ni(n,i)*(1+i)"
      ],
      "metadata": {
        "id": "i7M5oBLaozQB"
      },
      "execution_count": null,
      "outputs": []
    },
    {
      "cell_type": "code",
      "source": [
        "def AV_Sd_ni(n,i):\n",
        "  return AV_si_ni(n,i)*(1+i)"
      ],
      "metadata": {
        "id": "XtcKSmROpEW_"
      },
      "execution_count": null,
      "outputs": []
    },
    {
      "cell_type": "code",
      "source": [
        "def PV_ai_i(i):\n",
        "  return 1/i"
      ],
      "metadata": {
        "id": "BkHWmeJdpO_3"
      },
      "execution_count": null,
      "outputs": []
    },
    {
      "cell_type": "code",
      "source": [
        "def PV_ad_i(i):\n",
        "  return 1/d_eff(i)"
      ],
      "metadata": {
        "id": "N5c2XTLHpUK1"
      },
      "execution_count": null,
      "outputs": []
    },
    {
      "cell_type": "code",
      "source": [
        "def PV_ai_deff_ni(n,i,k):\n",
        "  return PV_ai_ni(n,i)*v_ki(k,i)"
      ],
      "metadata": {
        "id": "PhDTxQjLpmVA"
      },
      "execution_count": null,
      "outputs": []
    },
    {
      "cell_type": "code",
      "source": [
        "def PV_ad_deff_ni(n,i,k):\n",
        "  return PV_ad_ni(n,i)*v_ki(k,i)"
      ],
      "metadata": {
        "id": "WjFzHjqbpzql"
      },
      "execution_count": null,
      "outputs": []
    },
    {
      "cell_type": "markdown",
      "source": [
        "#Day 7"
      ],
      "metadata": {
        "id": "75mNPIO1gANj"
      }
    },
    {
      "cell_type": "code",
      "source": [
        "!pip install multipledispatch"
      ],
      "metadata": {
        "id": "Imde3cLZgDKu"
      },
      "execution_count": null,
      "outputs": []
    },
    {
      "cell_type": "code",
      "source": [
        "from multipledispatch import dispatch"
      ],
      "metadata": {
        "id": "AuzyQZ24jMBM"
      },
      "execution_count": null,
      "outputs": []
    },
    {
      "cell_type": "code",
      "source": [
        "@dispatch(float,int)\n",
        "def AnnuityAccumulation(i,n):\n",
        "  sni=AV_si_ni(n,i)\n",
        "  return sni\n",
        "@dispatch(float,int,float)\n",
        "def AnnuityAccumulation(i,n,K):\n",
        "  Sni=K*AV_si_ni(n,i)\n",
        "  return Sni\n",
        "@dispatch(float,int,str)\n",
        "def AnnuityAccumulation(d,n,dtype):\n",
        "  i=d/(1-d)\n",
        "  sni=AV_si_ni(n,i)\n",
        "  return sni\n",
        "@dispatch(float,int,float,str)\n",
        "def AnnuityAccumulation(d,n,K,dtype):\n",
        "  i=d/(1-d)\n",
        "  Sni=K*AV_si_ni(n,i)\n",
        "  return Sni"
      ],
      "metadata": {
        "id": "xs-zYm-djRyo"
      },
      "execution_count": null,
      "outputs": []
    },
    {
      "cell_type": "code",
      "source": [
        "AnnuityAccumulation(0.10714285714285712,10,500.0,'discount')"
      ],
      "metadata": {
        "id": "Y-c8tktqn1oe"
      },
      "execution_count": null,
      "outputs": []
    },
    {
      "cell_type": "markdown",
      "source": [
        "#Day 8"
      ],
      "metadata": {
        "id": "aWxeQn997AlT"
      }
    },
    {
      "cell_type": "code",
      "source": [
        "def a_ki(k,i):\n",
        "  return (1+i)**k\n",
        "def v_ki(k,i):\n",
        "  return (1/a_ki(k,i))\n",
        "def AV_ai_def(i,n,k):\n",
        "  return a_ki(-k,i)*(((1-v_ki(k,i))/i))\n",
        "@dispatch(float, int, int)\n",
        "def AnnuityAccumulation_Def(i,n,k):\n",
        "  sni = AV_ai_def(i,n,k)\n",
        "  return sni\n",
        "@dispatch(float, int,int, float)\n",
        "def AnnuityAccumulation_Def(i,n,k,Q):\n",
        "  Sni = Q*AV_ai_def(i,n,k)\n",
        "  return Sni \n",
        "@dispatch (float, int,int, str)\n",
        "def AnnuityAccumulation_Def(d,n,k,dtype):\n",
        "  i=d/(1-d)\n",
        "  sni = AV_ai_def(i,n,k)\n",
        "  return sni\n",
        "@dispatch(float, int, float,int, str)\n",
        "def AnnuityAccumulation_Def(d,n,Q,k,dtype):\n",
        "  i=d/(1-d)\n",
        "  Sni = Q*AV_ai_def(i,n,k)\n",
        "  return Sni"
      ],
      "metadata": {
        "id": "Hs0o-0_v7iay"
      },
      "execution_count": null,
      "outputs": []
    },
    {
      "cell_type": "code",
      "source": [
        "def PV_ai_ni(n,i):\n",
        "  return ((1-v_ki(n,i))/i)\n",
        "def PV_ai_deff_ni(n,i,k):\n",
        "  return (PV_ai_ni(n,i)*v_ki(k,i))\n",
        "@dispatch(float, int, int)\n",
        "def AnnuityPresentValue_Def(i,n,k):\n",
        "  sni = PV_ai_deff_ni(n,i,k)\n",
        "  return sni\n",
        "@dispatch(float, int, float, int)\n",
        "def AnnuityPresentValue_Def(i,n,Q,k):\n",
        "  Sni = Q*PV_ai_deff_ni(n,i,k)\n",
        "  return Sni \n",
        "@dispatch (float, int, int, str)\n",
        "def AnnuityPresentValue_Def(d,n,k,dtype):\n",
        "  i=d/(1-d)\n",
        "  sni = PV_ai_deff_ni(n,i,k)\n",
        "  return sni\n",
        "@dispatch(float, int, float,int, str)\n",
        "def AnnuityPresentValue_Def(d,n,Q,k, dtype):\n",
        "  i=d/(1-d)\n",
        "  Sni = Q*PV_ai_deff_ni(n,i,k)\n",
        "  return Sni"
      ],
      "metadata": {
        "id": "mhvhg5cH7sVJ"
      },
      "execution_count": null,
      "outputs": []
    },
    {
      "cell_type": "markdown",
      "source": [
        "#Day 9"
      ],
      "metadata": {
        "id": "JKNZz8VtmAkR"
      }
    },
    {
      "cell_type": "code",
      "source": [
        "def a_inf_i_ai(i):\n",
        "  a_inf_i=1/i\n",
        "  return a_inf_i"
      ],
      "metadata": {
        "id": "99GXyUk0mTDh"
      },
      "execution_count": null,
      "outputs": []
    },
    {
      "cell_type": "code",
      "source": [
        "def A_inf_i_ai(i,Q):\n",
        "  ani=Q*(1/i)\n",
        "  return ani"
      ],
      "metadata": {
        "id": "-lRBiFo2pE58"
      },
      "execution_count": null,
      "outputs": []
    },
    {
      "cell_type": "code",
      "source": [
        "@dispatch(float)\n",
        "def PerpetuityPresentworth(i):\n",
        "  a_inf_i=a_inf_i_ai(i)\n",
        "  return a_inf_i\n",
        "@dispatch(float,float)\n",
        "def PerpetuityPresentworth(i,Q):\n",
        "  A_inf_i=A_inf_i_ai(i,Q)\n",
        "  return A_inf_i\n",
        "@dispatch(float,str)\n",
        "def PerpetuityPresentworth(d,type):\n",
        "  i=d/(1-d)\n",
        "  a_inf_i=a_inf_i_ai(i)\n",
        "  return a_inf_i\n",
        "@dispatch(float,float,str)\n",
        "def PerpetuityPresentworth(d,Q,dtype):\n",
        "  i=d/(1-d)\n",
        "  A_inf_i=A_inf_i_ai(i,Q)\n",
        "  return A_inf_i"
      ],
      "metadata": {
        "id": "6Wdyf1ghptAo"
      },
      "execution_count": null,
      "outputs": []
    },
    {
      "cell_type": "code",
      "source": [
        "@dispatch(float,int)\n",
        "def PerpetuityPresentworthDef(i):\n",
        "  a_inf_i=a_inf_i_ai(i)*v(k,i)\n",
        "  return a_inf_i\n",
        "@dispatch(float,float,int)\n",
        "def PerpetuityPresentworthDef(i,Q):\n",
        "  A_inf_i=A_inf_i_ai(i,Q)*v(k)\n",
        "  return A_inf_i"
      ],
      "metadata": {
        "id": "HYlalhIysQ8E"
      },
      "execution_count": null,
      "outputs": []
    },
    {
      "cell_type": "code",
      "source": [
        "PerpetuityPresentworth(0.12)"
      ],
      "metadata": {
        "id": "k20BE9MDuybO"
      },
      "execution_count": null,
      "outputs": []
    },
    {
      "cell_type": "code",
      "source": [
        "PerpetuityPresentworth(0.12,500.0)"
      ],
      "metadata": {
        "id": "KQAq7LAPu3Pe"
      },
      "execution_count": null,
      "outputs": []
    },
    {
      "cell_type": "markdown",
      "source": [
        "#Day 10"
      ],
      "metadata": {
        "id": "kdk09lcztmPf"
      }
    },
    {
      "cell_type": "markdown",
      "source": [
        "1. Write a Python function to calculate Outstanding Loan Balances using retrospective method."
      ],
      "metadata": {
        "id": "GyCZ_Ut9ybTE"
      }
    },
    {
      "cell_type": "code",
      "source": [
        "def sum(n,i):\n",
        "  return (((1+i)**n)-1)/i"
      ],
      "metadata": {
        "id": "Gl_LA0Ujtpnr"
      },
      "execution_count": null,
      "outputs": []
    },
    {
      "cell_type": "code",
      "source": [
        "def OLBretro(L,i,k,Q):\n",
        "  total_loan_amount=L*(1+i)**k\n",
        "  OLB=total_loan_amount-Q*sum(k,i)\n",
        "  return OLB"
      ],
      "metadata": {
        "id": "tZBzXKbwzXVO"
      },
      "execution_count": null,
      "outputs": []
    },
    {
      "cell_type": "markdown",
      "source": [
        "2. Write a Python function to calculate Outstanding Loan Balances using prospective method."
      ],
      "metadata": {
        "id": "MWP5q7i7ykw2"
      }
    },
    {
      "cell_type": "code",
      "source": [
        "def a(n,i):\n",
        "  acc=(1+i)**n\n",
        "  return acc"
      ],
      "metadata": {
        "id": "zpGCCFXh1jGU"
      },
      "execution_count": null,
      "outputs": []
    },
    {
      "cell_type": "code",
      "source": [
        "def OLBprospective(Q,i,k,R,n):\n",
        "  OLB=Q*a(n-k-1,i)+R*(1+i)**-(n-k)\n",
        "  return OLB"
      ],
      "metadata": {
        "id": "9FuRt-mE1raa"
      },
      "execution_count": null,
      "outputs": []
    },
    {
      "cell_type": "markdown",
      "source": [
        "3. Sasha is obligated to repay a loan made on the first of the month by paying Rs 80 at the end of each of the next thirty months, including this month. The effective monthly rate on the loan is 0.4%. Using a user-defined Python function, find Sasha's loan balance immediately after her twelfth payment."
      ],
      "metadata": {
        "id": "JnLPRAOlyqhd"
      }
    },
    {
      "cell_type": "code",
      "source": [
        "OLBretro(80*30,0.004,12,80)"
      ],
      "metadata": {
        "id": "vCNVfW3Y2AJo"
      },
      "execution_count": null,
      "outputs": []
    },
    {
      "cell_type": "markdown",
      "source": [
        "4. A loan of Rs 20000 is being repaid by payments of Rs 2500 at the end of each year and a final smaller payment one year after the last Rs 2500 payment. The annual effective interest rate on the loan is 8%. Using a user defined python function, find the outstanding loan balance just after the borrower has made payments totalling Rs 15000."
      ],
      "metadata": {
        "id": "7VjMxRlKyx5V"
      }
    },
    {
      "cell_type": "code",
      "source": [
        "OLBprospective(20000,0.08,0,2500,0)"
      ],
      "metadata": {
        "id": "-cztKIYL27NY"
      },
      "execution_count": null,
      "outputs": []
    },
    {
      "cell_type": "markdown",
      "source": [
        "5. Mr and Mrs Harper purchased a home for Rs 256000. They make a down payment of Rs 40000 and finance the remainder of the purchase price with a thirty-year mortgage at an annual effective interest rate of 6.5%. The Harpers sell their home at the end of eight years, just after having made their ninety-sixth end-of-month mortgage payment. The sales price is Rs 282000, and the Harpers closing costs are 3% of the selling price. The outstanding loan balance is deducted from the amount the Harpers receive and sent to the lender. How large a check do the Harpers receive, and how much interest did they pay over the eight years? (Use Python)"
      ],
      "metadata": {
        "id": "e_fbeIo4y3b8"
      }
    },
    {
      "cell_type": "markdown",
      "source": [
        "#Day 11"
      ],
      "metadata": {
        "id": "BWcom5GF5gFk"
      }
    },
    {
      "cell_type": "markdown",
      "source": [
        "Question: Use Python to find the outstanding loan balance at any intermediate time (OLB_k) in MSexcel,  of a loan borrowed at some specific rate for some fixed time frame."
      ],
      "metadata": {
        "id": "I-sFozEs6LMO"
      }
    },
    {
      "cell_type": "code",
      "source": [
        ""
      ],
      "metadata": {
        "id": "5vfTTUb-5jHB"
      },
      "execution_count": null,
      "outputs": []
    },
    {
      "cell_type": "markdown",
      "source": [
        "#Day 12"
      ],
      "metadata": {
        "id": "_I7RKY-6wK-5"
      }
    },
    {
      "cell_type": "code",
      "source": [
        "# g indicates that each payment is (1+g) times its perpendicular\n",
        "# i denotes the effective interest rate for payment period\n",
        "# P denotes the initial payment\n",
        "# n denotes the number of payments\n",
        "# j = (i-g)/(1+g)"
      ],
      "metadata": {
        "id": "IzVfSQc1wMk9"
      },
      "execution_count": null,
      "outputs": []
    },
    {
      "cell_type": "code",
      "source": [
        "def j_for_agp(i,g):\n",
        "    j=(i-g)/(1+g)\n",
        "    return j"
      ],
      "metadata": {
        "id": "xtWJHgLTwqwo"
      },
      "execution_count": null,
      "outputs": []
    },
    {
      "cell_type": "code",
      "source": [
        "j_for_agp(0.07,0.03)"
      ],
      "metadata": {
        "id": "5zUuO9YUw0qd"
      },
      "execution_count": null,
      "outputs": []
    },
    {
      "cell_type": "code",
      "source": [
        "def pvfactor_d(j,n):\n",
        "  v=(1+j)**(-1)\n",
        "  pvfactor_d=(1-v**n)/(1-v)\n",
        "  return pvfactor_d"
      ],
      "metadata": {
        "id": "M9-RUjFuw6EF"
      },
      "execution_count": null,
      "outputs": []
    },
    {
      "cell_type": "code",
      "source": [
        "pvfactor_d(0.03,6)"
      ],
      "metadata": {
        "id": "N5yA3u7UxCiv"
      },
      "execution_count": null,
      "outputs": []
    },
    {
      "cell_type": "code",
      "source": [
        "def pvgp_i(P,i,g,n):\n",
        "  j=j_for_agp(i,g)\n",
        "  if(j==0):\n",
        "    pvgp=P*(1+i)**(-1)*n\n",
        "  else:\n",
        "    pvgp=P*(1+i)**(-1)*pvfactor_d(j,n)\n",
        "  return pvgp"
      ],
      "metadata": {
        "id": "9Qy5Fv3_xpxU"
      },
      "execution_count": null,
      "outputs": []
    },
    {
      "cell_type": "code",
      "source": [
        "pvgp_i(2000,0.03,0.02,7)"
      ],
      "metadata": {
        "id": "71GckGpsygcO"
      },
      "execution_count": null,
      "outputs": []
    },
    {
      "cell_type": "markdown",
      "source": [
        "#Day 13"
      ],
      "metadata": {
        "id": "FySwiwaa6djo"
      }
    },
    {
      "cell_type": "code",
      "source": [
        "!pip install multipledispatch"
      ],
      "metadata": {
        "id": "kTiGmC2d6fOs"
      },
      "execution_count": null,
      "outputs": []
    },
    {
      "cell_type": "code",
      "source": [
        "from multipledispatch import dispatch"
      ],
      "metadata": {
        "id": "C18EpFV96i8D"
      },
      "execution_count": null,
      "outputs": []
    },
    {
      "cell_type": "code",
      "source": [
        "import sys"
      ],
      "metadata": {
        "id": "Uj3pRPtoC499"
      },
      "execution_count": null,
      "outputs": []
    },
    {
      "cell_type": "code",
      "source": [
        "def a_i(i_eff,n_periods):\n",
        "  a=(1+i_eff)**n_periods\n",
        "  return a"
      ],
      "metadata": {
        "id": "0ufXoFXP6nl4"
      },
      "execution_count": null,
      "outputs": []
    },
    {
      "cell_type": "code",
      "source": [
        "def v_i(i_eff,n_periods):\n",
        "  v=(1+i_eff)**(-n_periods)\n",
        "  return v"
      ],
      "metadata": {
        "id": "PgHy_5-g6zy_"
      },
      "execution_count": null,
      "outputs": []
    },
    {
      "cell_type": "code",
      "source": [
        "def a_d(d_eff,n_periods):\n",
        "  i_eff=d_eff/(1-d_eff)\n",
        "  a=(1+i_eff)**n_periods\n",
        "  return a,i_eff"
      ],
      "metadata": {
        "id": "lGeQg9r27LTa"
      },
      "execution_count": null,
      "outputs": []
    },
    {
      "cell_type": "code",
      "source": [
        "def v_d(d_eff,n_periods):\n",
        "  i_eff=d_eff/(1-d_eff)\n",
        "  v=(1+i_eff)**(-n_periods)\n",
        "  return v,i_eff"
      ],
      "metadata": {
        "id": "sYq3GXOe7YcS"
      },
      "execution_count": null,
      "outputs": []
    },
    {
      "cell_type": "code",
      "source": [
        "@dispatch(float,int)\n",
        "def ani_ai(i_eff,n_periods):\n",
        "  ani=(1-v_i(i_eff,n_periods))/i_eff\n",
        "  return ani"
      ],
      "metadata": {
        "id": "PwXla06y78OH"
      },
      "execution_count": null,
      "outputs": []
    },
    {
      "cell_type": "code",
      "source": [
        "@dispatch(float,int,str)\n",
        "def ani_ai(d_eff,n_periods,discount):\n",
        "  if discount==\"d\":\n",
        "    vd=v_d(d_eff,n_periods)\n",
        "    #vn=vd[0]\n",
        "    #i_eff=vd[1]\n",
        "    ani=(1-vd[0])/vd[1]\n",
        "  else:\n",
        "    sys.exit(\"Error\")\n",
        "  return ani"
      ],
      "metadata": {
        "id": "6rpQ_tX98LTI"
      },
      "execution_count": null,
      "outputs": []
    },
    {
      "cell_type": "code",
      "source": [
        "@dispatch(float,int)\n",
        "def ani_ad(i_eff,n_periods):\n",
        "  an_due=(1+i_eff)*ani_ai(i_eff,n_periods)\n",
        "  return an_due"
      ],
      "metadata": {
        "id": "J65ZSXMB9XXl"
      },
      "execution_count": null,
      "outputs": []
    },
    {
      "cell_type": "code",
      "source": [
        "@dispatch(float,int,str)\n",
        "def ani_ad(d_eff,n_periods,discount):\n",
        "  if discount==\"d\":\n",
        "    vd=v_d(d_eff,n_periods)\n",
        "    vn=vd[0]\n",
        "    i_eff=vd[1]\n",
        "    an_due=(1+i_eff)*ani_ai(i_eff,n_periods,discount)\n",
        "  else:\n",
        "    sys.exit(\"Error\")\n",
        "  return an_due"
      ],
      "metadata": {
        "id": "tavfkwhn95xX"
      },
      "execution_count": null,
      "outputs": []
    },
    {
      "cell_type": "code",
      "source": [
        "@dispatch(float,int)\n",
        "def ani_ai(i_eff,n_periods):\n",
        "  sni=ani_ai(i_eff,n_periods)*a_i(i_eff,n_periods)\n",
        "  return sni"
      ],
      "metadata": {
        "id": "heob46_f_lqY"
      },
      "execution_count": null,
      "outputs": []
    },
    {
      "cell_type": "code",
      "source": [
        "from matplotlib.ticker import is_decade\n",
        "@dispatch(float,int,str)\n",
        "def sni_ai(d_eff,n_periods,discount):\n",
        "  if discount==\"d\":\n",
        "    vd=v_d(d_eff,n_periods)\n",
        "    i_eff=vd[1]\n",
        "    sni=ani_ai(d_eff,n_periods,discount)*a_i(i_eff,n_periods)\n",
        "  else:\n",
        "    sys.exit(\"Error\")\n",
        "  return sni"
      ],
      "metadata": {
        "id": "EZR7gRTI-Puo"
      },
      "execution_count": null,
      "outputs": []
    },
    {
      "cell_type": "code",
      "source": [
        "def ia_PQ_sni(i_eff,n_periods,P,Q):\n",
        "  ia_sni=P*sni_ai(i_eff,n_periods)+(Q/i_eff)*(sni_ai(i_eff,n_periods))\n",
        "  return ia_sni"
      ],
      "metadata": {
        "id": "7ZaEqN3fAFGE"
      },
      "execution_count": null,
      "outputs": []
    },
    {
      "cell_type": "code",
      "source": [
        "@dispatch(float,int,float,float)\n",
        "def ia_PQ_ani(i_eff,n_periods,P,Q):\n",
        "  ia_ani=P*ani_ai(i_eff,n_periods)+(Q/i_eff)*(ani_ai(i_eff,n_periods))\n",
        "  return ia_ani"
      ],
      "metadata": {
        "id": "6SD1scCVAh80"
      },
      "execution_count": null,
      "outputs": []
    },
    {
      "cell_type": "markdown",
      "source": [
        "#Day 14"
      ],
      "metadata": {
        "id": "EzNL7lii9FIw"
      }
    },
    {
      "cell_type": "code",
      "source": [
        "!pip install multipledispatch"
      ],
      "metadata": {
        "id": "GQmYa7Yn9IYk"
      },
      "execution_count": null,
      "outputs": []
    },
    {
      "cell_type": "code",
      "source": [
        "from multipledispatch import dispatch"
      ],
      "metadata": {
        "id": "wpcW_Rq29-MP"
      },
      "execution_count": null,
      "outputs": []
    },
    {
      "cell_type": "code",
      "source": [
        "import sys"
      ],
      "metadata": {
        "id": "gedQtHGn-DLW"
      },
      "execution_count": null,
      "outputs": []
    },
    {
      "cell_type": "code",
      "source": [
        "def a_i(i_eff,n_periods):\n",
        "  a=(1+i_eff)**n_periods\n",
        "  return a"
      ],
      "metadata": {
        "id": "r7r6ASVK-D7C"
      },
      "execution_count": null,
      "outputs": []
    },
    {
      "cell_type": "code",
      "source": [
        "def v_i(i_eff,n_periods):\n",
        "  v=(1+i_eff)**(-n_periods)\n",
        "  return v"
      ],
      "metadata": {
        "id": "IRDvwuDr-L-U"
      },
      "execution_count": null,
      "outputs": []
    },
    {
      "cell_type": "code",
      "source": [
        "def a_d(d_eff,n_periods):\n",
        "  i_eff=d_eff/(1-d_eff)\n",
        "  a=(1+i_eff)**n_periods\n",
        "  return a,i_eff"
      ],
      "metadata": {
        "id": "SQd9Fwbd-UJa"
      },
      "execution_count": null,
      "outputs": []
    },
    {
      "cell_type": "code",
      "source": [
        "def v_d(d_eff,n_periods):\n",
        "  i_eff=d_eff/(1-d_eff)\n",
        "  v=(1+i_eff)**(-n_periods)\n",
        "  return v,i_eff"
      ],
      "metadata": {
        "id": "Df8K00bH-iaI"
      },
      "execution_count": null,
      "outputs": []
    },
    {
      "cell_type": "code",
      "source": [
        "@dispatch(float,int)\n",
        "def ani_ai(i_eff,n_periods):\n",
        "  ani=(1-v_i(i_eff,n_periods))/i_eff\n",
        "  return ani"
      ],
      "metadata": {
        "id": "axwf-1Y3-x98"
      },
      "execution_count": null,
      "outputs": []
    },
    {
      "cell_type": "code",
      "source": [
        "@dispatch(float,int,str)\n",
        "def ani_ai(d_eff,n_periods,discount):\n",
        "  if discount==\"d\":\n",
        "    vd=v_d(d_eff,n_periods)\n",
        "    vn=vd[0]\n",
        "    i_eff=vd[1]\n",
        "    ani=(1-vn)/i_eff\n",
        "  else:\n",
        "    sys.exit(\"Error\")\n",
        "  return ani"
      ],
      "metadata": {
        "id": "5slNpkCv-826"
      },
      "execution_count": null,
      "outputs": []
    },
    {
      "cell_type": "code",
      "source": [
        "@dispatch(float,int)\n",
        "def ani_ad(i_eff,n_periods):\n",
        "  an_due=(1+i_eff)*ani_ai(i_eff,n_periods)\n",
        "  return an_due"
      ],
      "metadata": {
        "id": "h5PiUNWb_aFw"
      },
      "execution_count": null,
      "outputs": []
    },
    {
      "cell_type": "code",
      "source": [
        "@dispatch(float,int,str)\n",
        "def ani_ad(d_eff,n_periods,discount):\n",
        "  if discount==\"d\":\n",
        "    vd=v_d(d_eff,n_periods)\n",
        "    i_eff=vd[1]\n",
        "    an_due=(1+i_eff)*ani_ai(i_eff,n_periods,discount)\n",
        "  else:\n",
        "    sys.exit(\"Error\")\n",
        "  return an_due"
      ],
      "metadata": {
        "id": "31bFNuUi_mwr"
      },
      "execution_count": null,
      "outputs": []
    },
    {
      "cell_type": "code",
      "source": [
        "@dispatch(float,int,str)\n",
        "def sni_ai(d_eff,n_peiods,discount):\n",
        "  if discount==\"d\":\n",
        "    vd=v_d(d_eff,n_periods)\n",
        "    i_eff=vd[1]\n",
        "    sni=ani_ai(d_eff,n_periods,discounts)*a_i(i_eff,n_periods)\n",
        "  else:\n",
        "    sys.exit(\"Error\")\n",
        "  return sni"
      ],
      "metadata": {
        "id": "CDG-kUOM_8hB"
      },
      "execution_count": null,
      "outputs": []
    },
    {
      "cell_type": "code",
      "source": [
        "@dispatch(float,int,float,float)\n",
        "def ia_PQ_sni(i_eff,n_periods,P,Q):\n",
        "  ia_sni=P*ani_ai(i_eff,n_periods)+(Q/i_eff)*(sni_ai(i_eff,n_periods))-n_periods\n",
        "  return ia_sni"
      ],
      "metadata": {
        "id": "hl5gKR9NAbYr"
      },
      "execution_count": null,
      "outputs": []
    },
    {
      "cell_type": "code",
      "source": [
        "@dispatch(float,int,float,float)\n",
        "def ia_PQ_ani(i_eff,n_periods,P,Q):\n",
        "  ia_ani=P*ani_ai(i_eff,n_periods)+(Q/i_eff)*(ani_ai(i_eff,n_periods)-n_periods*v_i(i_eff,n_periods))\n",
        "  #ia_ani=ia_PQ_ani(i_eff,n_periods,P,Q)*v_i(i_eff,n_periods)\n",
        "  return ia_ani"
      ],
      "metadata": {
        "id": "mog8v_PfA4ku"
      },
      "execution_count": null,
      "outputs": []
    },
    {
      "cell_type": "code",
      "source": [
        "@dispatch(float,int,float,float,str)\n",
        "def ia_PQ_sni(d_eff,n_periods,P,Q,discount):\n",
        "  if discount==\"d\":\n",
        "    vd=v_d(d_eff,n_periods)\n",
        "    i_eff=vd[1]\n",
        "    ia_snd=P*sni_ai(i_eff,n_periods)+(Q/i_eff)*(sni_ai(i_eff,n_periods)-n_periods)\n",
        "  else:\n",
        "    sys.exit(\"Error\")\n",
        "  return ia_snd"
      ],
      "metadata": {
        "id": "DafZgPNMBnuq"
      },
      "execution_count": null,
      "outputs": []
    },
    {
      "cell_type": "code",
      "source": [
        "@dispatch(float,int,float,float,str)\n",
        "def ia_PQ_ani(d_eff,n_periods,P,Q,discount):\n",
        "  if discount==\"d\":\n",
        "    vd=v_d(d_eff,n_periods)\n",
        "    i_eff=v_d[1]\n",
        "    ia_and=P*ani_ai(i_eff,n_periods)+(Q/i_eff)*(ani_ai(i_eff,n_periods)-n_periods*vd[0])\n",
        "  else:\n",
        "    sys.exit(\"Error\")\n",
        "  return ia_and"
      ],
      "metadata": {
        "id": "4JEVm9LnCt5G"
      },
      "execution_count": null,
      "outputs": []
    },
    {
      "cell_type": "code",
      "source": [
        "ia_PQ_ani(0.042,17,2000.00,500.00,)"
      ],
      "metadata": {
        "id": "pRQ4qPE3DTwG"
      },
      "execution_count": null,
      "outputs": []
    },
    {
      "cell_type": "code",
      "source": [
        "0.042/1.042"
      ],
      "metadata": {
        "id": "CTQeDs5yDYZ3"
      },
      "execution_count": null,
      "outputs": []
    },
    {
      "cell_type": "code",
      "source": [
        "v_d(0.04030710172744722,17)"
      ],
      "metadata": {
        "id": "RpTcAODQDap3"
      },
      "execution_count": null,
      "outputs": []
    },
    {
      "cell_type": "code",
      "source": [
        "ia_PQ_ani(0.04030710172744722, 17, 2000.00, 500.00)"
      ],
      "metadata": {
        "id": "y4aknPJVDfQX"
      },
      "execution_count": null,
      "outputs": []
    },
    {
      "cell_type": "code",
      "source": [
        "@dispatch(float,int)\n",
        "def iaf_ani(i_eff,n_periods):\n",
        "  iaf=ia_PQ_ani(i_eff,n_periods,1.0,1.0)\n",
        "  return iaf"
      ],
      "metadata": {
        "id": "Wp5u5Jl4DnXg"
      },
      "execution_count": null,
      "outputs": []
    },
    {
      "cell_type": "code",
      "source": [
        "ia_PQ_ani(0.042,17,500.00,500.00)"
      ],
      "metadata": {
        "id": "lKcmpiBkFsd3"
      },
      "execution_count": null,
      "outputs": []
    },
    {
      "cell_type": "code",
      "source": [
        "iaf_ani(0.042,17)"
      ],
      "metadata": {
        "id": "PnH3lfaJFwSU"
      },
      "execution_count": null,
      "outputs": []
    },
    {
      "cell_type": "code",
      "source": [
        "500*iaf_ani(0.042,17)"
      ],
      "metadata": {
        "id": "qwWzVdvVFyzP"
      },
      "execution_count": null,
      "outputs": []
    },
    {
      "cell_type": "code",
      "source": [
        "@dispatch(float,int,str)\n",
        "def iaf_ani(d_eff,n_periods,discount):\n",
        "  iaf=ia_PQ_ani(d_eff,n_periods,1.0,1.0,discount)\n",
        "  return iaf"
      ],
      "metadata": {
        "id": "_OrnRXCdF77I"
      },
      "execution_count": null,
      "outputs": []
    },
    {
      "cell_type": "code",
      "source": [
        "500*iaf_ani(0.04030710172744722,17)"
      ],
      "metadata": {
        "id": "x0ez9xKoGNBx"
      },
      "execution_count": null,
      "outputs": []
    },
    {
      "cell_type": "code",
      "source": [
        "@dispatch(float, int)\n",
        "def iaf_sni(i_eff, n_periods):\n",
        "  iaf_fv = ia_PQ_sni(i_eff, n_periods, 1.0, 1.0)\n",
        "  return iaf_fv"
      ],
      "metadata": {
        "id": "zgh6YcEAGRrC"
      },
      "execution_count": null,
      "outputs": []
    },
    {
      "cell_type": "code",
      "source": [
        "@dispatch(float, int, str)\n",
        "def iaf_sni(d_eff, n_periods, discount):\n",
        "  iaf_fv = ia_PQ_sni(d_eff, n_periods, 1.0, 1.0, discount)\n",
        "  return iaf_fv"
      ],
      "metadata": {
        "id": "gHRzv5ZEGVZg"
      },
      "execution_count": null,
      "outputs": []
    },
    {
      "cell_type": "code",
      "source": [
        "ia_PQ_sni(0.042, 17, 500.00, 500.00)"
      ],
      "metadata": {
        "id": "_1stP1u4GYZc"
      },
      "execution_count": null,
      "outputs": []
    },
    {
      "cell_type": "code",
      "source": [
        "500*iaf_sni(0.042, 17)"
      ],
      "metadata": {
        "id": "4mpjjDkyGa_Q"
      },
      "execution_count": null,
      "outputs": []
    },
    {
      "cell_type": "code",
      "source": [
        "500*iaf_sni(0.04030710172744722, 17, \"d\")"
      ],
      "metadata": {
        "id": "w70pveOLGeUT"
      },
      "execution_count": null,
      "outputs": []
    },
    {
      "cell_type": "code",
      "source": [
        "@dispatch(float, int)\n",
        "def sni_ad(i_eff, n_periods):\n",
        "  sniad = (ani_ai(i_eff, n_periods) * a_i(i_eff, n_periods)) * (1+i_eff)\n",
        "  return sniad"
      ],
      "metadata": {
        "id": "i0kQKSJtGkp4"
      },
      "execution_count": null,
      "outputs": []
    },
    {
      "cell_type": "code",
      "source": [
        "sni_ad(0.042, 17)"
      ],
      "metadata": {
        "id": "9bHLF08WGmT-"
      },
      "execution_count": null,
      "outputs": []
    },
    {
      "cell_type": "code",
      "source": [
        "sni_ai(0.042, 17,\"\")"
      ],
      "metadata": {
        "id": "0xR7H6feGoud"
      },
      "execution_count": null,
      "outputs": []
    },
    {
      "cell_type": "code",
      "source": [
        "from scipy import optimize\n",
        "import matplotlib.pyplot as plt"
      ],
      "metadata": {
        "id": "6U6OEFbbGqYN"
      },
      "execution_count": null,
      "outputs": []
    },
    {
      "cell_type": "code",
      "source": [
        "def f(x):\n",
        "  return (x**3 -1)"
      ],
      "metadata": {
        "id": "OkWA3U2OGsDA"
      },
      "execution_count": null,
      "outputs": []
    },
    {
      "cell_type": "code",
      "source": [
        "root = optimize.newton(f, 1.5, fprime=lambda x: 3 * x**2)"
      ],
      "metadata": {
        "id": "5eWUfktIGtro"
      },
      "execution_count": null,
      "outputs": []
    },
    {
      "cell_type": "code",
      "source": [
        "root"
      ],
      "metadata": {
        "id": "RieaZkYgGyjz"
      },
      "execution_count": null,
      "outputs": []
    },
    {
      "cell_type": "code",
      "source": [
        "def f(x):\n",
        "  return (3000 -58000*x+((1+x)**(-13))*(91813.54*x-3000))"
      ],
      "metadata": {
        "id": "MK9J9T3VGzan"
      },
      "execution_count": null,
      "outputs": []
    },
    {
      "cell_type": "code",
      "source": [
        "root = optimize.newton(f, 0.06, fprime=lambda x: (-58000+(-13*((1+x)**(-14))*(91813.54*x-3000))+(91813.54*((1+x)**(-13)))))"
      ],
      "metadata": {
        "id": "bxNN9xk8G1LI"
      },
      "execution_count": null,
      "outputs": []
    },
    {
      "cell_type": "code",
      "source": [
        "root"
      ],
      "metadata": {
        "id": "xZVSf2wGG2oH"
      },
      "execution_count": null,
      "outputs": []
    },
    {
      "cell_type": "code",
      "source": [
        "def f(x):\n",
        "  return (1500*((1+x)**(21)) -1500*((1+x)**(5)) - 49930.47*x)"
      ],
      "metadata": {
        "id": "N4i7ZMURG3aV"
      },
      "execution_count": null,
      "outputs": []
    },
    {
      "cell_type": "code",
      "source": [
        "root = optimize.newton(f, 0.1, fprime=lambda x: (1500*21*((1+x)**(20)) -1500*5*((1+x)**(4)) - 49930.47))"
      ],
      "metadata": {
        "id": "grAhJpIFG5AR"
      },
      "execution_count": null,
      "outputs": []
    },
    {
      "cell_type": "code",
      "source": [
        "root"
      ],
      "metadata": {
        "id": "TXL411IrG6jD"
      },
      "execution_count": null,
      "outputs": []
    },
    {
      "cell_type": "code",
      "source": [
        "def f(x):\n",
        "  return (7688*x + 100*(1-((1+x)**(-18)))-10830*x*((1+x)**(-18)))"
      ],
      "metadata": {
        "id": "cpD50d2qG7Q4"
      },
      "execution_count": null,
      "outputs": []
    },
    {
      "cell_type": "code",
      "source": [
        "root = optimize.newton(f, 0.1, fprime=lambda x: (7688 + 100*(18)*((1+x)**(-19))-10830*(((1+x)**(-18))+x*(-18)*((1+x)**(-19)))))"
      ],
      "metadata": {
        "id": "6rXivvjBG88f"
      },
      "execution_count": null,
      "outputs": []
    },
    {
      "cell_type": "code",
      "source": [
        "root"
      ],
      "metadata": {
        "id": "VT977pbpG-6E"
      },
      "execution_count": null,
      "outputs": []
    },
    {
      "cell_type": "markdown",
      "source": [
        "#Day 15"
      ],
      "metadata": {
        "id": "GRtvebLbDFVG"
      }
    },
    {
      "cell_type": "code",
      "source": [
        "!pip install amortization"
      ],
      "metadata": {
        "id": "YVYEEzUrDH9U"
      },
      "execution_count": null,
      "outputs": []
    },
    {
      "cell_type": "code",
      "source": [
        "import pandas as pd\n",
        "import numpy as np"
      ],
      "metadata": {
        "id": "kBmQK5VTDKgV"
      },
      "execution_count": null,
      "outputs": []
    },
    {
      "cell_type": "code",
      "source": [
        "from amortization.schedule import amortization_schedule"
      ],
      "metadata": {
        "id": "WsTYREaIDNq-"
      },
      "execution_count": null,
      "outputs": []
    },
    {
      "cell_type": "code",
      "source": [
        "table=amortization_schedule(200000,0.15,20)"
      ],
      "metadata": {
        "id": "3cCKpavFDShw"
      },
      "execution_count": null,
      "outputs": []
    },
    {
      "cell_type": "code",
      "source": [
        "df1=pd.DataFrame(table,columns=['Time','Amount','Interest','Principal','Balance'])"
      ],
      "metadata": {
        "id": "RyNPjNWMDaSX"
      },
      "execution_count": null,
      "outputs": []
    },
    {
      "cell_type": "code",
      "source": [
        "new_row=pd.DataFrame({'Time':0,'Amount':0,'Interest':0,'Principal':0,'Balance':200000},index=[0])\n",
        "df1=pd.concat([new_row,df1]).reset_index(drop=True)"
      ],
      "metadata": {
        "id": "9qdeiXgVDlMj"
      },
      "execution_count": null,
      "outputs": []
    },
    {
      "cell_type": "code",
      "source": [
        "display(df1.round(2))"
      ],
      "metadata": {
        "id": "tULBqxgBELtW"
      },
      "execution_count": null,
      "outputs": []
    },
    {
      "cell_type": "code",
      "source": [
        "df1['Cumulative Interest']=df1['Interest'].cumsum()\n",
        "df1['Cumulative Principal']=df1['Principal'].cumsum()"
      ],
      "metadata": {
        "id": "5X061L9-E5da"
      },
      "execution_count": null,
      "outputs": []
    },
    {
      "cell_type": "code",
      "source": [
        "display(df1.round(2))"
      ],
      "metadata": {
        "id": "_WhPKNLDGEUx"
      },
      "execution_count": null,
      "outputs": []
    },
    {
      "cell_type": "code",
      "source": [
        "import matplotlib.pyplot as plt\n",
        "fig,ax=plt.subplots()\n",
        "df1.plot(x=\"Time\",y=\"Cumulative Interest\",ax=ax,kind=\"line\")\n",
        "df1.plot(x=\"Time\",y=\"Cumulative Principal\",ax=ax,kind=\"line\",secondary_y=True)\n",
        "df1.plot(x=\"Time\",y=\"Balance\",ax=ax,kind=\"line\",secondary_y=True)"
      ],
      "metadata": {
        "id": "WYnns1cUGtlJ"
      },
      "execution_count": null,
      "outputs": []
    },
    {
      "cell_type": "markdown",
      "source": [
        "Problem 1: Calculate for Principal=500000, Effective Interest Rate=12%, Period=15 years (yearly end of year payment)"
      ],
      "metadata": {
        "id": "HyhbORSiI2Ds"
      }
    },
    {
      "cell_type": "code",
      "source": [
        "table=amortization_schedule(500000,0.12,15)"
      ],
      "metadata": {
        "id": "eQ30VoqzJIlr"
      },
      "execution_count": null,
      "outputs": []
    },
    {
      "cell_type": "code",
      "source": [
        "df2=pd.DataFrame(table,columns=['Time','Amount','Interest','Principal','Balance'])"
      ],
      "metadata": {
        "id": "3kBdaeqaJ8EY"
      },
      "execution_count": null,
      "outputs": []
    },
    {
      "cell_type": "code",
      "source": [
        "new_row=pd.DataFrame({'Time':0,'Amount':0,'Interest':0,'Principal':0,'Balance':500000},index=[0])\n",
        "df2=pd.concat([new_row,df2]).reset_index(drop=True)"
      ],
      "metadata": {
        "id": "JfUQqP5mKD-V"
      },
      "execution_count": null,
      "outputs": []
    },
    {
      "cell_type": "code",
      "source": [
        "display(df2.round(2))"
      ],
      "metadata": {
        "id": "0W_TZKuzKMB3"
      },
      "execution_count": null,
      "outputs": []
    },
    {
      "cell_type": "code",
      "source": [
        "df2['Cumulative Interest']=df2['Interest'].cumsum()\n",
        "df2['Cumulative Principal']=df2['Principal'].cumsum()"
      ],
      "metadata": {
        "id": "ihM8PxJgKQSp"
      },
      "execution_count": null,
      "outputs": []
    },
    {
      "cell_type": "code",
      "source": [
        "display(df2.round(2))"
      ],
      "metadata": {
        "id": "H31MLmWYKWDw"
      },
      "execution_count": null,
      "outputs": []
    },
    {
      "cell_type": "code",
      "source": [
        "import matplotlib.pyplot as plt\n",
        "fig,ax=plt.subplots()\n",
        "df2.plot(x=\"Time\",y=\"Cumulative Interest\",ax=ax,kind=\"line\")\n",
        "df2.plot(x=\"Time\",y=\"Cumulative Principal\",ax=ax,kind=\"line\",secondary_y=True)\n",
        "df2.plot(x=\"Time\",y=\"Balance\",ax=ax,kind=\"line\",secondary_y=True)"
      ],
      "metadata": {
        "id": "keg1gJkpKbZj"
      },
      "execution_count": null,
      "outputs": []
    },
    {
      "cell_type": "markdown",
      "source": [
        "#Day 16"
      ],
      "metadata": {
        "id": "Tt-x69spEth3"
      }
    },
    {
      "cell_type": "markdown",
      "source": [
        "**Basic Price Formula**\n",
        "\n",
        "P = $ (Fr) a_{{\\overline{n}|}_j} + C v_j^n$\n",
        "\n",
        "where \n",
        "\n",
        "P = Price at issue \\\n",
        "F = Face value of the bond \\\n",
        "C = Redemption amount \\\n",
        "j = effective yield rate for the coupon period \\\n",
        "r = coupon rate per coupon period \\\n",
        "Fr = amount of each coupon \\\n",
        "\n"
      ],
      "metadata": {
        "id": "APHCTEgwEzoS"
      }
    },
    {
      "cell_type": "markdown",
      "source": [
        "**Premium-Discount formula** \\\n",
        "\n",
        "P = $ C(g - j) a_{{\\overline{n}|}_j} + C$\n",
        "\n",
        "where \n",
        "\n",
        "P = Price at issue \\\n",
        "C = Redemption amount \\\n",
        "j = effective yield rate for the coupon period \\\n",
        "g = modified coupon rate \\"
      ],
      "metadata": {
        "id": "H9nWKRzaE4-s"
      }
    },
    {
      "cell_type": "markdown",
      "source": [
        "**Base amount formula**\n",
        "\n",
        "P = $ (C - G) v_j^n + G$\n",
        "\n",
        "where \n",
        "\n",
        "P = Price at issue \\\n",
        "C = Redemption amount \\\n",
        "G = Base amount \\\n",
        "j = effective yield rate for the coupon period \\"
      ],
      "metadata": {
        "id": "epwQIsQqE8e9"
      }
    },
    {
      "cell_type": "markdown",
      "source": [
        "**Makeham's formula** \\\n",
        "\n",
        "P = $ \\frac{g}{j}(C - K) + K$\n",
        "\n",
        "where \n",
        "\n",
        "P = Price at issue \\\n",
        "C = Redemption amount \\\n",
        "G = Base amount\n",
        "j = effective yield rate for the coupon period \\\n",
        "g = modified coupon rate \\\n",
        "K = present value of the redemption amount C"
      ],
      "metadata": {
        "id": "oKBfGssEE9pv"
      }
    },
    {
      "cell_type": "code",
      "source": [
        "!pip install multipledispatch"
      ],
      "metadata": {
        "id": "9xxLpNzIEu9-"
      },
      "execution_count": null,
      "outputs": []
    },
    {
      "cell_type": "code",
      "source": [
        "import numpy as np\n",
        "import pandas as pd\n",
        "from multipledispatch import dispatch"
      ],
      "metadata": {
        "id": "SPMDl5H4FFKx"
      },
      "execution_count": null,
      "outputs": []
    },
    {
      "cell_type": "code",
      "source": [
        "def v_j(j_eff,n_periods):\n",
        "  v=(1+j_eff)**(-n_periods)\n",
        "  return v"
      ],
      "metadata": {
        "id": "JsmZiEx9FNfr"
      },
      "execution_count": null,
      "outputs": []
    },
    {
      "cell_type": "code",
      "source": [
        "def ani_j(j_eff,n_periods):\n",
        "  ani=((1-v_j(j_eff,n_periods))/(j_eff))\n",
        "  return ani"
      ],
      "metadata": {
        "id": "OPy6gH1_Fb5F"
      },
      "execution_count": null,
      "outputs": []
    },
    {
      "cell_type": "code",
      "source": [
        "@dispatch(float,int,float,float)\n",
        "def BP_issue(C,n,j,g):\n",
        "  K=C*v_j(j,n)\n",
        "  bp=(g/j)*(C-K)+K\n",
        "  return bp"
      ],
      "metadata": {
        "id": "waGgWY8wFqlx"
      },
      "execution_count": null,
      "outputs": []
    },
    {
      "cell_type": "code",
      "source": [
        "@dispatch(float,int,float,float,float)\n",
        "def BP_issue(C,n,j,F,r):\n",
        "  K=C*v_j(j,n)\n",
        "  ani=ani_j(j,n)\n",
        "  cv=F*r\n",
        "  bp=cv*ani+K\n",
        "  return bp"
      ],
      "metadata": {
        "id": "4B8O9XKSF36o"
      },
      "execution_count": null,
      "outputs": []
    },
    {
      "cell_type": "code",
      "source": [
        "def B_t(C,n,j,g,t):\n",
        "  Bt=BP_issue(C,n-t,j,g)\n",
        "  return Bt"
      ],
      "metadata": {
        "id": "Y6kbsG_qGKR8"
      },
      "execution_count": null,
      "outputs": []
    },
    {
      "cell_type": "code",
      "source": [
        "def I_t(C,n,j,g,t):\n",
        "  It=(j*B_t(C,n,j,g,t-1))\n",
        "  return It"
      ],
      "metadata": {
        "id": "VPmbE0W3GTH-"
      },
      "execution_count": null,
      "outputs": []
    },
    {
      "cell_type": "code",
      "source": [
        "def P_t(C,n,j,g,t):\n",
        "  Pt=((C*(g-j))*v_j(j,n-t+1))\n",
        "  return Pt"
      ],
      "metadata": {
        "id": "6an_pV-kGgbV"
      },
      "execution_count": null,
      "outputs": []
    },
    {
      "cell_type": "code",
      "source": [
        "B_t(100000.00,8,0.03,0.04,6)"
      ],
      "metadata": {
        "id": "SYI5CofuI6n-"
      },
      "execution_count": null,
      "outputs": []
    },
    {
      "cell_type": "code",
      "source": [
        "P_t(100000,8,0.03,0.04,6)"
      ],
      "metadata": {
        "id": "LlbaOwwiKDv2"
      },
      "execution_count": null,
      "outputs": []
    },
    {
      "cell_type": "code",
      "source": [
        "def bondamortization(C,n,j,g,t):\n",
        "  btime=[]\n",
        "  binterest=[]\n",
        "  bpayment=[]\n",
        "  bbalance=[]\n",
        "  bcp=[]\n",
        "  for i in range(n+1):\n",
        "    btime.append(i)\n",
        "    binterest.append(I_t(C,n,j,g,i))\n",
        "    bpayment.append(P_t(C,n,j,g,i))\n",
        "    bbalance.append(B_t(C,n,j,g,i))\n",
        "    bcp.append(C*g)\n",
        "  binterest[0]=0\n",
        "  bpayment[0]=0\n",
        "  bcp[0]=0\n",
        "  data={\"Time\":np.array(btime),\"Coupon Payment\":np.array(bcp),\"It\":np.array(binterest),\"Pt\":np.array(bpayment),\"Bt\":np.array(bbalance)}\n",
        "  df=pd.DataFrame(data)\n",
        "  dff=np.round(df,decimals=2)\n",
        "  return dff"
      ],
      "metadata": {
        "id": "rcIJMEjwGqPv"
      },
      "execution_count": null,
      "outputs": []
    },
    {
      "cell_type": "code",
      "source": [
        "bondamortization(100000.00,8,0.03,0.04,6)"
      ],
      "metadata": {
        "id": "ZM1EiQTWKYT9"
      },
      "execution_count": null,
      "outputs": []
    }
  ]
}